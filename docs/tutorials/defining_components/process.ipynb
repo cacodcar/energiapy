{
 "cells": [
  {
   "cell_type": "markdown",
   "id": "92578ebd",
   "metadata": {},
   "source": [
    "# Processes \n",
    "\n",
    "Processes convert a set of resources into another. The balance of this conversion is provided by the user (see section Conversion under the Defining Resources Tutorial). A few examples are list: \n"
   ]
  },
  {
   "cell_type": "markdown",
   "id": "517c3188",
   "metadata": {},
   "source": [
    "## General Setup \n",
    "\n",
    "Consider the processes, Wind Farm (wf) and Proton Exchange Membrane Electrolysis (pem)\n",
    "These require the resource wind, power, water (h2o), hydrogen (h2), oxygen (o2)\n",
    "\n",
    "wind and h2o can be consumed, there is a demand for hydrogen and oxygen can be released"
   ]
  },
  {
   "cell_type": "code",
   "execution_count": 1,
   "id": "fea1368d",
   "metadata": {},
   "outputs": [
    {
     "name": "stderr",
     "output_type": "stream",
     "text": [
      "⚖   Initiated wind balance in (l0, y)                                       ⏱ 0.0002 s\n",
      "⚖   Initiated h2o balance in (l0, y)                                        ⏱ 0.0002 s\n",
      "⚖   Initiated h2 balance in (l0, q)                                         ⏱ 0.0001 s\n",
      "🔗  Bound [≥] h2 release in (l0, q)                                          ⏱ 0.0010 s\n",
      "⚖   Initiated o2 balance in (l0, y)                                         ⏱ 0.0003 s\n"
     ]
    }
   ],
   "source": [
    "from energia import Currency, Process, Resource, Model, Periods\n",
    "\n",
    "m = Model()\n",
    "m.usd = Currency()\n",
    "m.q = Periods()\n",
    "m.y = 4 * m.q\n",
    "m.declare(Resource, ['wind', 'power', 'h2o', 'h2', 'o2'])\n",
    "m.declare(Process, ['wf', 'pem'])\n",
    "\n",
    "\n",
    "m.wind.consume == True\n",
    "m.h2o.consume == True\n",
    "\n",
    "m.h2.release.prep(180) >= [0.6, 0.7, 0.8, 0.3]\n",
    "m.o2.release == True"
   ]
  },
  {
   "cell_type": "markdown",
   "id": "045d8ef4",
   "metadata": {},
   "source": [
    "## With Positive Basis \n",
    "\n",
    "The basis is provided in the format Process(Resource | Conversion) For example, in the case of wind farm the basis is provided as power produced. Thus all the values for usd.spend need to be provided on the basis of power production "
   ]
  },
  {
   "cell_type": "code",
   "execution_count": 2,
   "id": "99158477",
   "metadata": {},
   "outputs": [
    {
     "name": "stderr",
     "output_type": "stream",
     "text": [
      "🔗  Bound [≤] wf operate in (l0, q)                                          ⏱ 0.0004 s\n",
      "🧭  Mapped time for operate (wf, l0, q) ⟺ (wf, l0, y)                        ⏱ 0.0003 s\n"
     ]
    }
   ],
   "source": [
    "m.wf(m.power) == -m.wind\n",
    "m.wf.operate.prep(norm=True) <= [0.9, 0.8, 0.5, 0.7]\n",
    "m.wf.capacity[m.usd.spend] == 990637 + 3354\n",
    "m.wf.operate[m.usd.spend] == 49"
   ]
  },
  {
   "cell_type": "markdown",
   "id": "b54def26",
   "metadata": {},
   "source": [
    "## With Negative Basis (or Conversion)\n",
    "\n",
    "PEMs are typically sized based on their power consumption, thus all the values provide should be on the basis of power expended in the process"
   ]
  },
  {
   "cell_type": "code",
   "execution_count": 3,
   "id": "1a72d179",
   "metadata": {},
   "outputs": [],
   "source": [
    "m.pem(-m.power) == 0.01248 * m.h2 + 0.09987 * m.o2 - 0.11235 * m.h2o\n",
    "m.pem.capacity[m.usd.spend] == 1.55 * 10**6"
   ]
  },
  {
   "cell_type": "markdown",
   "id": "e7fde250",
   "metadata": {},
   "source": [
    "## Locating Processes\n",
    "\n",
    "Processes need to located explicitly \n",
    "\n",
    "If using multiple locations, the user can use m.location.locate(.. list of processes ..)\n",
    "\n",
    "For single period models, it may be convenient to use m.locate(.. list of processes ..) which defaults to m.network.locate(..). Note that in a single location example, the location itself is the network"
   ]
  },
  {
   "cell_type": "code",
   "execution_count": 4,
   "id": "550f406f",
   "metadata": {},
   "outputs": [
    {
     "name": "stderr",
     "output_type": "stream",
     "text": [
      "💡  Assumed pem capacity unbounded in (l0, y)                                ⏱ 0.0001 s\n",
      "🔗  Bound [≤] pem operate in (l0, y)                                         ⏱ 0.0004 s\n",
      "💡  Assumed pem operate bounded by capacity in (l0, y)                       ⏱ 0.0009 s\n",
      "⚖   Initiated power balance in (l0, q)                                      ⏱ 0.0002 s\n",
      "🧭  Mapped time for operate (pem, l0, q) ⟺ (pem, l0, y)                      ⏱ 0.0003 s\n",
      "⚖   Updated h2 balance with produce(h2, l0, q, operate, pem)                ⏱ 0.0002 s\n",
      "⚖   Updated o2 balance with produce(o2, l0, y, operate, pem)                ⏱ 0.0002 s\n",
      "⚖   Updated h2o balance with expend(h2o, l0, y, operate, pem)               ⏱ 0.0003 s\n",
      "🏭  Operating streams introduced for pem in l0                               ⏱ 0.0064 s\n",
      "🏗   Construction streams introduced for pem in l0                           ⏱ 0.0000 s\n",
      "🌍  Located pem in l0                                                        ⏱ 0.0088 s\n",
      "💡  Assumed wf capacity unbounded in (l0, y)                                 ⏱ 0.0001 s\n",
      "💡  Assumed wf operate bounded by capacity in (l0, q)                        ⏱ 0.0001 s\n",
      "⚖   Updated power balance with produce(power, l0, q, operate, wf)           ⏱ 0.0002 s\n",
      "⚖   Updated wind balance with expend(wind, l0, y, operate, wf)              ⏱ 0.0001 s\n",
      "🏭  Operating streams introduced for wf in l0                                ⏱ 0.0022 s\n",
      "🏗   Construction streams introduced for wf in l0                            ⏱ 0.0000 s\n",
      "🌍  Located wf in l0                                                         ⏱ 0.0037 s\n"
     ]
    }
   ],
   "source": [
    "m.locate(m.pem, m.wf)"
   ]
  },
  {
   "cell_type": "markdown",
   "id": "98b51095",
   "metadata": {},
   "source": [
    "The balances arising from production are only assumed once the process has beeen located. Upon location, the model can be optimized"
   ]
  },
  {
   "cell_type": "code",
   "execution_count": 5,
   "id": "2cbb8a1b",
   "metadata": {},
   "outputs": [
    {
     "name": "stderr",
     "output_type": "stream",
     "text": [
      "🧭  Mapped samples for spend (usd, l0, y, capacity, wf) ⟺ (usd, l0, y)       ⏱ 0.0002 s\n",
      "🧭  Mapped samples for spend (usd, l0, y, operate, wf) ⟺ (usd, l0, y)        ⏱ 0.0003 s\n",
      "🧭  Mapped samples for spend (usd, l0, y, capacity, pem) ⟺ (usd, l0, y)      ⏱ 0.0002 s\n",
      "📝  Generated Program(m).mps                                                 ⏱ 0.0033 s\n"
     ]
    },
    {
     "name": "stdout",
     "output_type": "stream",
     "text": [
      "Set parameter Username\n",
      "Academic license - for non-commercial use only - expires 2026-08-01\n",
      "Read MPS format model from file Program(m).mps\n",
      "Reading time = 0.00 seconds\n",
      "PROGRAM(M): 41 rows, 38 columns, 82 nonzeros\n"
     ]
    },
    {
     "name": "stderr",
     "output_type": "stream",
     "text": [
      "📝  Generated gurobipy model. See .formulation                               ⏱ 0.0085 s\n"
     ]
    },
    {
     "name": "stdout",
     "output_type": "stream",
     "text": [
      "Gurobi Optimizer version 12.0.3 build v12.0.3rc0 (win64 - Windows 11.0 (26100.2))\n",
      "\n",
      "CPU model: 13th Gen Intel(R) Core(TM) i7-13700, instruction set [SSE2|AVX|AVX2]\n",
      "Thread count: 16 physical cores, 24 logical processors, using up to 24 threads\n",
      "\n",
      "Optimize a model with 41 rows, 38 columns and 82 nonzeros\n",
      "Model fingerprint: 0xa6fecba0\n",
      "Coefficient statistics:\n",
      "  Matrix range     [1e-02, 2e+06]\n",
      "  Objective range  [1e+00, 1e+00]\n",
      "  Bounds range     [0e+00, 0e+00]\n",
      "  RHS range        [6e-01, 2e+02]\n",
      "Presolve removed 29 rows and 22 columns\n",
      "Presolve time: 0.00s\n",
      "\n",
      "Solved in 0 iterations and 0.00 seconds (0.00 work units)\n",
      "Infeasible model\n"
     ]
    },
    {
     "name": "stderr",
     "output_type": "stream",
     "text": [
      "🛑 No solution found. Check the model 🛑\n"
     ]
    }
   ],
   "source": [
    "m.usd.spend.opt()\n",
    "m.capacity.output()"
   ]
  },
  {
   "cell_type": "markdown",
   "id": "be4a01d6",
   "metadata": {},
   "source": [
    "## Modeling Technology Choice\n",
    "\n",
    "Let us continue with the example, but provide another option for power generation (solar PV)"
   ]
  },
  {
   "cell_type": "code",
   "execution_count": 6,
   "id": "2a96a74c",
   "metadata": {},
   "outputs": [
    {
     "name": "stderr",
     "output_type": "stream",
     "text": [
      "⚖   Initiated solar balance in (l0, y)                                      ⏱ 0.0002 s\n",
      "🔗  Bound [≤] pv capacity in (l0, y)                                         ⏱ 0.0004 s\n",
      "🔗  Bound [≥] pv capacity in (l0, y)                                         ⏱ 0.0002 s\n",
      "🔗  Bound [≤] pv operate in (l0, q)                                          ⏱ 0.0006 s\n",
      "🧭  Mapped time for operate (pv, l0, q) ⟺ (pv, l0, y)                        ⏱ 0.0003 s\n",
      "💡  Assumed pv capacity unbounded in (l0, y)                                 ⏱ 0.0001 s\n",
      "💡  Assumed pv operate bounded by capacity in (l0, q)                        ⏱ 0.0001 s\n",
      "⚖   Updated power balance with produce(power, l0, q, operate, pv)           ⏱ 0.0002 s\n",
      "⚖   Updated solar balance with expend(solar, l0, y, operate, pv)            ⏱ 0.0001 s\n",
      "🏭  Operating streams introduced for pv in l0                                ⏱ 0.0026 s\n",
      "🏗   Construction streams introduced for pv in l0                            ⏱ 0.0000 s\n",
      "🌍  Located pv in l0                                                         ⏱ 0.0043 s\n"
     ]
    }
   ],
   "source": [
    "m.solar = Resource()\n",
    "m.solar.consume == True\n",
    "m.pv = Process()\n",
    "\n",
    "m.pv(m.power) == -1 * m.solar\n",
    "m.pv.capacity.x <= 30000\n",
    "m.pv.capacity.x >= 0\n",
    "m.pv.operate.prep(norm=True) <= [0.6, 0.8, 0.9, 0.7]\n",
    "m.pv.capacity[m.usd.spend] == 5670\n",
    "m.pv.operate[m.usd.spend] == 90\n",
    "\n",
    "m.locate(m.pv)"
   ]
  },
  {
   "cell_type": "markdown",
   "id": "c17b34ab",
   "metadata": {},
   "source": [
    "## Semi-continuous Bounds \n",
    "\n",
    "These can be set using .x for any aspect. In the below example, the maximum capacity of wind farm (if set up) is 30000\n",
    "The lower bound of 500 is only applied if wind farm is set up at all. Thus the values that wind farm can take are in the semi-continuous domain $\\{0\\} \\cup [500, 30000]$\n"
   ]
  },
  {
   "cell_type": "code",
   "execution_count": 7,
   "id": "3ebc4e54",
   "metadata": {},
   "outputs": [
    {
     "name": "stderr",
     "output_type": "stream",
     "text": [
      "🔗  Bound [≤] wf capacity in (l0, y)                                         ⏱ 0.0004 s\n",
      "🔗  Bound [≥] wf capacity in (l0, y)                                         ⏱ 0.0004 s\n"
     ]
    }
   ],
   "source": [
    "m.wf.capacity.x <= 30000\n",
    "m.wf.capacity.x >= 500"
   ]
  },
  {
   "cell_type": "code",
   "execution_count": 8,
   "id": "dc2759c3",
   "metadata": {},
   "outputs": [
    {
     "name": "stderr",
     "output_type": "stream",
     "text": [
      "📝  Generated Program(m).mps                                                 ⏱ 0.0045 s\n"
     ]
    },
    {
     "name": "stdout",
     "output_type": "stream",
     "text": [
      "Warning: row name O0 in column section at line 146 not defined.\n",
      "Warning: row name C57 in column section at line 150 not defined.\n",
      "Read MPS format model from file Program(m).mps\n",
      "Reading time = 0.00 seconds\n",
      "PROGRAM(M): 57 rows, 54 columns, 121 nonzeros\n"
     ]
    },
    {
     "name": "stderr",
     "output_type": "stream",
     "text": [
      "📝  Generated gurobipy model. See .formulation                               ⏱ 0.0079 s\n"
     ]
    },
    {
     "name": "stdout",
     "output_type": "stream",
     "text": [
      "Gurobi Optimizer version 12.0.3 build v12.0.3rc0 (win64 - Windows 11.0 (26100.2))\n",
      "\n",
      "CPU model: 13th Gen Intel(R) Core(TM) i7-13700, instruction set [SSE2|AVX|AVX2]\n",
      "Thread count: 16 physical cores, 24 logical processors, using up to 24 threads\n",
      "\n",
      "Optimize a model with 57 rows, 54 columns and 121 nonzeros\n",
      "Model fingerprint: 0xf00bc377\n",
      "Variable types: 52 continuous, 2 integer (2 binary)\n",
      "Coefficient statistics:\n",
      "  Matrix range     [1e-02, 2e+06]\n",
      "  Objective range  [1e+00, 1e+00]\n",
      "  Bounds range     [1e+00, 1e+00]\n",
      "  RHS range        [6e-01, 2e+02]\n",
      "Presolve removed 57 rows and 54 columns\n",
      "Presolve time: 0.00s\n",
      "Presolve: All rows and columns removed\n",
      "\n",
      "Explored 0 nodes (0 simplex iterations) in 0.00 seconds (0.00 work units)\n",
      "Thread count was 1 (of 24 available processors)\n",
      "\n",
      "Solution count 1: 6.70673e+10 \n",
      "\n",
      "Optimal solution found (tolerance 1.00e-04)\n",
      "Best objective 6.706730769231e+10, best bound 6.706730769231e+10, gap 0.0000%\n"
     ]
    },
    {
     "name": "stderr",
     "output_type": "stream",
     "text": [
      "📝  Generated Solution object for Program(m). See .solution                  ⏱ 0.0006 s\n",
      "✅  Program(m) optimized using gurobi. Display using .output()               ⏱ 0.0178 s\n"
     ]
    }
   ],
   "source": [
    "m.usd.spend.opt()"
   ]
  },
  {
   "cell_type": "markdown",
   "id": "d0376069",
   "metadata": {},
   "source": [
    "The solution for the two models can be compared"
   ]
  },
  {
   "cell_type": "code",
   "execution_count": 9,
   "id": "b7b52df6",
   "metadata": {},
   "outputs": [
    {
     "data": {
      "text/latex": [
       "$\\displaystyle {\\mathbf{{cap}}}_{{wf},{l0},{{{y}_{0}}}}=0.0$"
      ],
      "text/plain": [
       "<IPython.core.display.Math object>"
      ]
     },
     "metadata": {},
     "output_type": "display_data"
    },
    {
     "data": {
      "text/latex": [
       "$\\displaystyle {\\mathbf{{cap}}}_{{pem},{l0},{{{y}_{0}}}}=43269.230769230766$"
      ],
      "text/plain": [
       "<IPython.core.display.Math object>"
      ]
     },
     "metadata": {},
     "output_type": "display_data"
    },
    {
     "data": {
      "text/latex": [
       "$\\displaystyle {\\mathbf{{cap}}}_{{pv},{l0},{{{y}_{0}}}}=30000.0$"
      ],
      "text/plain": [
       "<IPython.core.display.Math object>"
      ]
     },
     "metadata": {},
     "output_type": "display_data"
    }
   ],
   "source": [
    "m.capacity.output(compare=True)"
   ]
  },
  {
   "cell_type": "markdown",
   "id": "660115bd",
   "metadata": {},
   "source": [
    "Note: binaries were only introduced in the second model"
   ]
  },
  {
   "cell_type": "code",
   "execution_count": 10,
   "id": "a47c6314",
   "metadata": {},
   "outputs": [
    {
     "data": {
      "text/latex": [
       "$\\displaystyle {\\mathbf{{\\breve{{cap}}}}}_{{pv},{l0},{{{y}_{0}}}}=1.0$"
      ],
      "text/plain": [
       "<IPython.core.display.Math object>"
      ]
     },
     "metadata": {},
     "output_type": "display_data"
    },
    {
     "data": {
      "text/latex": [
       "$\\displaystyle {\\mathbf{{\\breve{{cap}}}}}_{{wf},{l0},{{{y}_{0}}}}=0.0$"
      ],
      "text/plain": [
       "<IPython.core.display.Math object>"
      ]
     },
     "metadata": {},
     "output_type": "display_data"
    }
   ],
   "source": [
    "m.capacity.reporting.output(compare=True)"
   ]
  }
 ],
 "metadata": {
  "kernelspec": {
   "display_name": ".venv",
   "language": "python",
   "name": "python3"
  },
  "language_info": {
   "codemirror_mode": {
    "name": "ipython",
    "version": 3
   },
   "file_extension": ".py",
   "mimetype": "text/x-python",
   "name": "python",
   "nbconvert_exporter": "python",
   "pygments_lexer": "ipython3",
   "version": "3.13.9"
  }
 },
 "nbformat": 4,
 "nbformat_minor": 5
}
