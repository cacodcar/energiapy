{
 "cells": [
  {
   "cell_type": "markdown",
   "id": "f0285b54",
   "metadata": {},
   "source": [
    "# Modeling with Material/Operating Modes\n",
    "\n",
    "The follow example follows 'Multiscale MILP' and 'Material and Emission Streams'"
   ]
  },
  {
   "cell_type": "markdown",
   "id": "f2d5c34c",
   "metadata": {},
   "source": [
    "## From 'Multiscale MILP'\n",
    "\n",
    "Solar and Wind consumption is kept unbounded to refrain from adding unnecessary constraints "
   ]
  },
  {
   "cell_type": "code",
   "execution_count": 1,
   "id": "0e78740e",
   "metadata": {},
   "outputs": [
    {
     "name": "stderr",
     "output_type": "stream",
     "text": [
      "⚖   Initiated solar balance in (l0, y)                                      ⏱ 0.0001 s\n",
      "⚖   Initiated wind balance in (l0, y)                                       ⏱ 0.0001 s\n",
      "⚖   Initiated power balance in (l0, q)                                      ⏱ 0.0001 s\n",
      "🔗  Bound [≥] power release in (l0, q)                                       ⏱ 0.0006 s\n"
     ]
    }
   ],
   "source": [
    "from energia import *\n",
    "\n",
    "m = Model(\"design_scheduling\")\n",
    "m.scales = TemporalScales([1, 4], [\"y\", \"q\"])\n",
    "m.usd = Currency()\n",
    "m.gwp = Environ()\n",
    "m.declare(Resource, [\"power\", \"wind\", \"solar\"])\n",
    "_ = m.solar.consume == True\n",
    "_ = m.wind.consume == True\n",
    "_ = m.power.release.prep(180) >= [0.6, 0.7, 0.8, 0.3]"
   ]
  },
  {
   "cell_type": "markdown",
   "id": "60510cf2",
   "metadata": {},
   "source": [
    "## Materials and Impact of Consumption\n",
    "\n",
    "Materials are declared and the Global Warming Potential arising from their consumption is set"
   ]
  },
  {
   "cell_type": "code",
   "execution_count": 2,
   "id": "88a271fe",
   "metadata": {},
   "outputs": [
    {
     "name": "stderr",
     "output_type": "stream",
     "text": [
      "⚖   Initiated steel balance in (l0, y)                                      ⏱ 0.0001 s\n",
      "⚖   Initiated lir balance in (l0, y)                                        ⏱ 0.0001 s\n",
      "⚖   Initiated lib balance in (l0, y)                                        ⏱ 0.0001 s\n",
      "⚖   Initiated concrete balance in (l0, y)                                   ⏱ 0.0001 s\n",
      "⚖   Initiated glass balance in (l0, y)                                      ⏱ 0.0001 s\n",
      "⚖   Initiated si_mono balance in (l0, y)                                    ⏱ 0.0001 s\n",
      "⚖   Initiated si_poly balance in (l0, y)                                    ⏱ 0.0001 s\n"
     ]
    }
   ],
   "source": [
    "m.declare(\n",
    "    Material,\n",
    "    [\n",
    "        \"lir\",\n",
    "        \"lib\",\n",
    "        \"steel\",\n",
    "        \"concrete\",\n",
    "        \"glass\",\n",
    "        \"si_mono\",\n",
    "        \"si_poly\",\n",
    "    ],\n",
    ")\n",
    "\n",
    "_ = m.steel.consume[m.gwp.emit] == 2121.152427\n",
    "_ = m.steel.consume[m.usd.spend] == 670\n",
    "\n",
    "_ = m.lir.consume[m.gwp.emit] == 9600\n",
    "_ = m.lib.consume[m.gwp.emit] == 2800\n",
    "_ = m.concrete.consume[m.gwp.emit] == 120.0378\n",
    "_ = m.glass.consume[m.gwp.emit] == 1118.5\n",
    "_ = m.si_mono.consume[m.gwp.emit] == 122239.1\n",
    "_ = m.si_poly.consume[m.gwp.emit] == 98646.7"
   ]
  },
  {
   "cell_type": "markdown",
   "id": "f6d7eb42",
   "metadata": {},
   "source": [
    "## Processes and Material Requirements\n",
    "\n",
    "Let us consider the windfarm (WF) process"
   ]
  },
  {
   "cell_type": "code",
   "execution_count": 3,
   "id": "d1b3534f",
   "metadata": {},
   "outputs": [
    {
     "name": "stderr",
     "output_type": "stream",
     "text": [
      "🔗  Bound [≤] wf capacity in (l0, y)                                         ⏱ 0.0003 s\n",
      "🔗  Bound [≥] wf capacity in (l0, y)                                         ⏱ 0.0002 s\n",
      "🔗  Bound [≤] wf operate in (l0, q)                                          ⏱ 0.0003 s\n"
     ]
    }
   ],
   "source": [
    "m.wf = Process()\n",
    "_ = m.wf.capacity.x <= 100\n",
    "_ = m.wf.capacity.x >= 10\n",
    "_ = m.wf.operate.prep(norm=True) <= [0.9, 0.8, 0.5, 0.7]"
   ]
  },
  {
   "cell_type": "markdown",
   "id": "070c2bf8",
   "metadata": {},
   "source": [
    "### Material Modes \n",
    "\n",
    "These represent a 'recipe' of constructing a process on a per unit basis "
   ]
  },
  {
   "cell_type": "code",
   "execution_count": 4,
   "id": "5a781f1f",
   "metadata": {},
   "outputs": [],
   "source": [
    "_ = m.wf.construction == [\n",
    "    -109.9 * m.steel - 398.7 * m.concrete,\n",
    "    -249.605 * m.steel - 12.4 * m.concrete,\n",
    "]"
   ]
  },
  {
   "cell_type": "markdown",
   "id": "369295cc",
   "metadata": {},
   "source": [
    "For example, the above equation, generates two material modes \n",
    "This indicates two discrete options for building a WF:\n",
    "\n",
    "1. Use -109.9 steel + 398.7 concrete\n",
    "2. Use -249.605 steel + 12.4 concrete \n",
    "\n",
    "All units are of the form: \n",
    "\n",
    "$\\frac{\\text{Unit of Material}}{\\text{Unit of basis Resource of Process}}$"
   ]
  },
  {
   "cell_type": "markdown",
   "id": "51fc5be8",
   "metadata": {},
   "source": [
    "### Modes Generation\n",
    "\n",
    "Modes are generated internally and can be accessed using the naming scheme is \"_ + name of period set + nth of mode of period set\". It is easier to access them from the ``Conversion`` for which they were made. "
   ]
  },
  {
   "cell_type": "code",
   "execution_count": 5,
   "id": "70e9fc21",
   "metadata": {},
   "outputs": [
    {
     "data": {
      "text/plain": [
       "_y0"
      ]
     },
     "execution_count": 5,
     "metadata": {},
     "output_type": "execute_result"
    }
   ],
   "source": [
    "m.wf.construction.modes"
   ]
  },
  {
   "cell_type": "markdown",
   "id": "82f2650e",
   "metadata": {},
   "source": [
    "### Referring to Modes \n",
    "\n",
    "Other parameters can now be provided such that it corresponds to the modes generated for 'construction'\n",
    "In the example below, the efficiency of WF depends on the Material Mode adopted:"
   ]
  },
  {
   "cell_type": "code",
   "execution_count": 6,
   "id": "71f60161",
   "metadata": {},
   "outputs": [],
   "source": [
    "_ = m.wf(m.power) == {\n",
    "    m.wf.construction.modes[0]: -2.857 * m.wind,\n",
    "    m.wf.construction.modes[1]: -2.3255 * m.wind,\n",
    "}"
   ]
  },
  {
   "cell_type": "markdown",
   "id": "12289c6d",
   "metadata": {},
   "source": [
    "The material modes are also set on the ``Model`` and can be accessed directly for more complex interactions.\n",
    "The statement below, provides costing as a function of the choice of ``Modes``. "
   ]
  },
  {
   "cell_type": "code",
   "execution_count": 7,
   "id": "4e8528e0",
   "metadata": {},
   "outputs": [
    {
     "name": "stderr",
     "output_type": "stream",
     "text": [
      "🧭  Mapped modes for spend (usd, l0, y, _y0, capacity, wf) ⟺ (usd, l0, y, capacity, wf) ⏱ 0.0006 s\n",
      "🧭  Mapped modes for capacity (wf, l0, y, _y0) ⟺ (wf, l0, y)                 ⏱ 0.0002 s\n"
     ]
    },
    {
     "data": {
      "text/latex": [
       "$\\displaystyle [12]\\text{   }{\\mathbf{spend}}_{{usd},{l0},{{{y}_{0}}},{\\mathbf{{cons}}},{steel}} - 670.0 \\cdot {\\mathbf{{cons}}}_{{steel},{l0},{{{y}_{0}}}} = 0$"
      ],
      "text/plain": [
       "<IPython.core.display.Math object>"
      ]
     },
     "metadata": {},
     "output_type": "display_data"
    },
    {
     "data": {
      "text/latex": [
       "$\\displaystyle [31]\\text{   }{\\mathbf{spend}}_{{usd},{l0},{{{y}_{0}}},{\\mathbf{{cap}}},{wf}} - ({\\mathbf{spend}}_{{usd},{l0},{{{y}_{0}}},{{{\\_y0}_{0}}},{\\mathbf{{cap}}},{wf}} + {\\mathbf{spend}}_{{usd},{l0},{{{y}_{0}}},{{{\\_y0}_{1}}},{\\mathbf{{cap}}},{wf}}) = 0$"
      ],
      "text/plain": [
       "<IPython.core.display.Math object>"
      ]
     },
     "metadata": {},
     "output_type": "display_data"
    },
    {
     "data": {
      "text/latex": [
       "$\\displaystyle [33]\\text{   }{\\mathbf{spend}}_{{usd},{l0},{{{y}_{0}}},{{{\\_y0}_{0}}},{\\mathbf{{cap}}},{wf}} - 1321200.0 \\cdot {\\mathbf{{cap}}}_{{wf},{l0},{{{y}_{0}}},{{{\\_y0}_{0}}}} = 0$"
      ],
      "text/plain": [
       "<IPython.core.display.Math object>"
      ]
     },
     "metadata": {},
     "output_type": "display_data"
    },
    {
     "data": {
      "text/latex": [
       "$\\displaystyle [34]\\text{   }{\\mathbf{spend}}_{{usd},{l0},{{{y}_{0}}},{{{\\_y0}_{1}}},{\\mathbf{{cap}}},{wf}} - 3294232.0 \\cdot {\\mathbf{{cap}}}_{{wf},{l0},{{{y}_{0}}},{{{\\_y0}_{1}}}} = 0$"
      ],
      "text/plain": [
       "<IPython.core.display.Math object>"
      ]
     },
     "metadata": {},
     "output_type": "display_data"
    }
   ],
   "source": [
    "m.wf.capacity[m.usd.spend](m.wf.construction.modes) == [150000, 120000]\n",
    "_ = m.wf.capacity(m.wf.construction.modes)[m.usd.spend] == [\n",
    "    1292000 + 29200,\n",
    "    3192734 + 101498,\n",
    "]\n",
    "m.usd.show(True)"
   ]
  },
  {
   "cell_type": "code",
   "execution_count": 8,
   "id": "1322bc67",
   "metadata": {},
   "outputs": [
    {
     "data": {
      "text/plain": [
       "{(wf, l0, y): [(wf, l0, y, _y0)]}"
      ]
     },
     "execution_count": 8,
     "metadata": {},
     "output_type": "execute_result"
    }
   ],
   "source": [
    "m.capacity.maps[\"modes\"]"
   ]
  },
  {
   "cell_type": "markdown",
   "id": "6828ad70",
   "metadata": {},
   "source": [
    "Nevertheless, it is not compulsory to map all parameters individually to ``Modes``."
   ]
  },
  {
   "cell_type": "code",
   "execution_count": 9,
   "id": "f106a2f9",
   "metadata": {},
   "outputs": [
    {
     "name": "stderr",
     "output_type": "stream",
     "text": [
      "🧭  Mapped time for operate (wf, l0, q) ⟺ (wf, l0, y)                        ⏱ 0.0002 s\n"
     ]
    },
    {
     "data": {
      "text/latex": [
       "$\\displaystyle [21]\\text{   }{\\mathbf{{\\mathbf{{opr}}}}}_{{wf},{l0},{y},{q}} - {\\mathrm{φ}}_{{}} \\cdot {\\mathbf{{\\mathbf{{cap}}}}}_{{wf},{l0},{y}} \\leq 0$"
      ],
      "text/plain": [
       "<IPython.core.display.Math object>"
      ]
     },
     "metadata": {},
     "output_type": "display_data"
    },
    {
     "data": {
      "text/latex": [
       "$\\displaystyle [25]\\text{   }{\\mathbf{{\\mathbf{{\\mathbf{{opr}}}}}}}_{{wf},{l0},{y}} - \\sum_{i \\in q} {\\mathbf{{\\mathbf{{\\mathbf{{opr}}}}}}}_{{wf}, {l0}, {y}, i} = 0$"
      ],
      "text/plain": [
       "<IPython.core.display.Math object>"
      ]
     },
     "metadata": {},
     "output_type": "display_data"
    },
    {
     "data": {
      "text/latex": [
       "$\\displaystyle [26]\\text{   }{\\mathbf{{\\mathbf{{\\mathbf{spend}}}}}}_{{usd},{l0},{y},{\\mathbf{{opr}}},{wf}} - 49 \\cdot {\\mathbf{{\\mathbf{{\\mathbf{{opr}}}}}}}_{{wf},{l0},{y}} = 0$"
      ],
      "text/plain": [
       "<IPython.core.display.Math object>"
      ]
     },
     "metadata": {},
     "output_type": "display_data"
    }
   ],
   "source": [
    "_ = m.wf.operate[m.usd.spend] == 49\n",
    "m.operate.show()"
   ]
  },
  {
   "cell_type": "markdown",
   "id": "3d2640c7",
   "metadata": {},
   "source": [
    "Note that the ``Stream``s resulting from both construction and production will be added once the process is located later."
   ]
  },
  {
   "cell_type": "code",
   "execution_count": 10,
   "id": "9060424b",
   "metadata": {},
   "outputs": [
    {
     "name": "stderr",
     "output_type": "stream",
     "text": [
      "🔗  Bound [≤] pv capacity in (l0, y)                                         ⏱ 0.0006 s\n",
      "🔗  Bound [≥] pv capacity in (l0, y)                                         ⏱ 0.0002 s\n",
      "🔗  Bound [≤] pv operate in (l0, q)                                          ⏱ 0.0005 s\n",
      "🧭  Mapped time for operate (pv, l0, q) ⟺ (pv, l0, y)                        ⏱ 0.0003 s\n"
     ]
    }
   ],
   "source": [
    "m.pv = Process()\n",
    "_ = m.pv.construction == [-70 * m.glass - 7 * m.si_mono, -70 * m.glass - 7 * m.si_poly]\n",
    "\n",
    "_ = m.pv(m.power) == {\n",
    "    m.pv.construction.modes[0]: -5 * m.solar,\n",
    "    m.pv.construction.modes[1]: -6.67 * m.solar,\n",
    "}\n",
    "_ = m.pv.capacity.x <= 100\n",
    "_ = m.pv.capacity.x >= 10\n",
    "_ = m.pv.operate.prep(norm=True) <= [0.6, 0.8, 0.9, 0.7]\n",
    "_ = m.pv.capacity[m.usd.spend] == 567000 + 872046\n",
    "_ = m.pv.operate[m.usd.spend] == 90000"
   ]
  },
  {
   "cell_type": "markdown",
   "id": "0fd5424b",
   "metadata": {},
   "source": [
    "## Remaining Operations \n",
    "\n",
    "``Storage``s can have ``Material`` requirements as well. Note that unless explicitly assigned to Charging or Discharging Processes, all values assigned to ``Storage``s scale with the inventory capacity (invcapacity)"
   ]
  },
  {
   "cell_type": "code",
   "execution_count": 11,
   "id": "e75f80e3",
   "metadata": {},
   "outputs": [
    {
     "name": "stderr",
     "output_type": "stream",
     "text": [
      "🔗  Bound [≤] lii.stored invcapacity in (l0, y)                              ⏱ 0.0004 s\n",
      "🔗  Bound [≥] lii.stored invcapacity in (l0, y)                              ⏱ 0.0002 s\n"
     ]
    }
   ],
   "source": [
    "m.lii = Storage()\n",
    "_ = m.lii(m.power) == 0.9\n",
    "_ = m.lii.construction == [\n",
    "    -0.137 * m.lib - 1.165 * m.steel,\n",
    "    -0.137 * m.lir - 1.165 * m.steel,\n",
    "]\n",
    "_ = m.lii.capacity.x <= 100\n",
    "_ = m.lii.capacity.x >= 10\n",
    "_ = m.lii.capacity[m.usd.spend] == 1302182 + 41432\n",
    "_ = m.lii.inventory[m.usd.spend] == 2000"
   ]
  },
  {
   "cell_type": "markdown",
   "id": "9662eeeb",
   "metadata": {},
   "source": [
    "## Constraints  Generated \n",
    "\n",
    "Lets take a gander at the mode-based constraints generated "
   ]
  },
  {
   "cell_type": "code",
   "execution_count": 12,
   "id": "de55256d",
   "metadata": {},
   "outputs": [
    {
     "data": {
      "text/latex": [
       "$\\displaystyle [22]\\text{   }{\\mathbf{{\\mathbf{{\\mathbf{spend}}}}}}_{{usd},{l0},{y},{\\mathbf{{cap}}},{wf}} - ({\\mathbf{{\\mathbf{{\\mathbf{{\\mathbf{spend}}}}}}}}_{{usd},{l0},{y},{{{\\_y0}_{0}}},{\\mathbf{{cap}}},{wf}} + {\\mathbf{{\\mathbf{{\\mathbf{{\\mathbf{spend}}}}}}}}_{{usd},{l0},{y},{{{\\_y0}_{1}}},{\\mathbf{{cap}}},{wf}}) = 0$"
      ],
      "text/plain": [
       "<IPython.core.display.Math object>"
      ]
     },
     "metadata": {},
     "output_type": "display_data"
    },
    {
     "data": {
      "text/latex": [
       "$\\displaystyle [23]\\text{   }{\\mathbf{{\\mathbf{{\\mathbf{{cap}}}}}}}_{{wf},{l0},{y}} - ({\\mathbf{{\\mathbf{{\\mathbf{{\\mathbf{{cap}}}}}}}}}_{{wf},{l0},{y},{{{\\_y0}_{0}}}} + {\\mathbf{{\\mathbf{{\\mathbf{{\\mathbf{{cap}}}}}}}}}_{{wf},{l0},{y},{{{\\_y0}_{1}}}}) = 0$"
      ],
      "text/plain": [
       "<IPython.core.display.Math object>"
      ]
     },
     "metadata": {},
     "output_type": "display_data"
    },
    {
     "data": {
      "text/latex": [
       "$\\displaystyle [24]\\text{   }{\\mathbf{{\\mathbf{{\\mathbf{spend}}}}}}_{{usd},{l0},{y},{\\_y0},{\\mathbf{{cap}}},{wf}} - {\\mathrm{φ}}_{{}} \\cdot {\\mathbf{{\\mathbf{{\\mathbf{{cap}}}}}}}_{{wf},{l0},{y},{\\_y0}} = 0$"
      ],
      "text/plain": [
       "<IPython.core.display.Math object>"
      ]
     },
     "metadata": {},
     "output_type": "display_data"
    }
   ],
   "source": [
    "m.wf.construction.modes.show()"
   ]
  },
  {
   "cell_type": "markdown",
   "id": "28ec69b4",
   "metadata": {},
   "source": [
    "## Locate and Optimize!\n",
    "\n",
    "The model first optimizes for cost and them for emissions (both minimization). "
   ]
  },
  {
   "cell_type": "code",
   "execution_count": 13,
   "id": "155faa93",
   "metadata": {},
   "outputs": [
    {
     "name": "stderr",
     "output_type": "stream",
     "text": [
      "💡  Assumed wf capacity unbounded in (l0, y)                                 ⏱ 0.0001 s\n",
      "💡  Assumed wf operate bounded by capacity in (l0, q)                        ⏱ 0.0001 s\n",
      "⚖   Updated power balance with produce(power, l0, q, operate, wf)           ⏱ 0.0002 s\n",
      "🧭  Mapped modes for produce (power, l0, q, _y0[0], operate, wf) ⟺ (power, l0, q, operate, wf) ⏱ 0.0011 s\n",
      "🧭  Mapped time for operate (wf, l0, q, _y0[0]) ⟺ (wf, l0, y, _y0[0])        ⏱ 0.0002 s\n",
      "🧭  Mapped modes for operate (wf, l0, y, _y0[0]) ⟺ (wf, l0, y)               ⏱ 0.0002 s\n",
      "🧭  Mapped time for operate (wf, l0, q, _y0[0]) ⟺ (wf, l0, y, _y0[0])        ⏱ 0.0016 s\n",
      "🧭  Mapped modes for operate (wf, l0, q, _y0[0]) ⟺ (wf, l0, q)               ⏱ 0.0002 s\n",
      "⚖   Updated wind balance with expend(wind, l0, y, operate, wf)              ⏱ 0.0001 s\n",
      "🧭  Mapped modes for expend (wind, l0, y, _y0[0], operate, wf) ⟺ (wind, l0, y, operate, wf) ⏱ 0.0012 s\n",
      "🧭  Mapped modes for produce (power, l0, q, _y0[1], operate, wf) ⟺ (power, l0, q, operate, wf) ⏱ 0.0002 s\n",
      "🧭  Mapped time for operate (wf, l0, q, _y0[1]) ⟺ (wf, l0, y, _y0[1])        ⏱ 0.0002 s\n",
      "🧭  Mapped modes for operate (wf, l0, y, _y0[1]) ⟺ (wf, l0, y)               ⏱ 0.0002 s\n",
      "🧭  Mapped time for operate (wf, l0, q, _y0[1]) ⟺ (wf, l0, y, _y0[1])        ⏱ 0.0016 s\n",
      "🧭  Mapped modes for operate (wf, l0, q, _y0[1]) ⟺ (wf, l0, q)               ⏱ 0.0004 s\n",
      "🧭  Mapped modes for expend (wind, l0, y, _y0[1], operate, wf) ⟺ (wind, l0, y, operate, wf) ⏱ 0.0002 s\n",
      "🏭  Operating streams introduced for wf in l0                                ⏱ 0.0155 s\n",
      "⚖   Updated steel balance with use(steel, l0, y, capacity, wf)              ⏱ 0.0001 s\n",
      "🧭  Mapped modes for use (steel, l0, y, _y0[0], capacity, wf) ⟺ (steel, l0, y, capacity, wf) ⏱ 0.0009 s\n",
      "⚖   Updated concrete balance with use(concrete, l0, y, capacity, wf)        ⏱ 0.0001 s\n",
      "🧭  Mapped modes for use (concrete, l0, y, _y0[0], capacity, wf) ⟺ (concrete, l0, y, capacity, wf) ⏱ 0.0010 s\n",
      "🧭  Mapped modes for use (steel, l0, y, _y0[1], capacity, wf) ⟺ (steel, l0, y, capacity, wf) ⏱ 0.0002 s\n",
      "🧭  Mapped modes for use (concrete, l0, y, _y0[1], capacity, wf) ⟺ (concrete, l0, y, capacity, wf) ⏱ 0.0002 s\n",
      "🏗   Construction streams introduced for wf in l0                            ⏱ 0.0072 s\n",
      "🌍  Located wf in l0                                                         ⏱ 0.0244 s\n",
      "💡  Assumed pv capacity unbounded in (l0, y)                                 ⏱ 0.0001 s\n",
      "💡  Assumed pv operate bounded by capacity in (l0, q)                        ⏱ 0.0001 s\n",
      "⚖   Updated power balance with produce(power, l0, q, operate, pv)           ⏱ 0.0003 s\n",
      "🧭  Mapped modes for produce (power, l0, q, _y1[0], operate, pv) ⟺ (power, l0, q, operate, pv) ⏱ 0.0017 s\n",
      "🧭  Mapped time for operate (pv, l0, q, _y1[0]) ⟺ (pv, l0, y, _y1[0])        ⏱ 0.0002 s\n",
      "🧭  Mapped modes for operate (pv, l0, y, _y1[0]) ⟺ (pv, l0, y)               ⏱ 0.0002 s\n",
      "🧭  Mapped time for operate (pv, l0, q, _y1[0]) ⟺ (pv, l0, y, _y1[0])        ⏱ 0.0017 s\n",
      "🧭  Mapped modes for operate (pv, l0, q, _y1[0]) ⟺ (pv, l0, q)               ⏱ 0.0002 s\n",
      "⚖   Updated solar balance with expend(solar, l0, y, operate, pv)            ⏱ 0.0001 s\n",
      "🧭  Mapped modes for expend (solar, l0, y, _y1[0], operate, pv) ⟺ (solar, l0, y, operate, pv) ⏱ 0.0011 s\n",
      "🧭  Mapped modes for produce (power, l0, q, _y1[1], operate, pv) ⟺ (power, l0, q, operate, pv) ⏱ 0.0003 s\n",
      "🧭  Mapped time for operate (pv, l0, q, _y1[1]) ⟺ (pv, l0, y, _y1[1])        ⏱ 0.0002 s\n",
      "🧭  Mapped modes for operate (pv, l0, y, _y1[1]) ⟺ (pv, l0, y)               ⏱ 0.0002 s\n",
      "🧭  Mapped time for operate (pv, l0, q, _y1[1]) ⟺ (pv, l0, y, _y1[1])        ⏱ 0.0018 s\n",
      "🧭  Mapped modes for operate (pv, l0, q, _y1[1]) ⟺ (pv, l0, q)               ⏱ 0.0002 s\n",
      "🧭  Mapped modes for expend (solar, l0, y, _y1[1], operate, pv) ⟺ (solar, l0, y, operate, pv) ⏱ 0.0002 s\n",
      "🏭  Operating streams introduced for pv in l0                                ⏱ 0.0151 s\n",
      "⚖   Updated glass balance with use(glass, l0, y, capacity, pv)              ⏱ 0.0002 s\n",
      "🧭  Mapped modes for use (glass, l0, y, _y1[0], capacity, pv) ⟺ (glass, l0, y, capacity, pv) ⏱ 0.0015 s\n",
      "🧭  Mapped modes for capacity (pv, l0, y, _y1[0]) ⟺ (pv, l0, y)              ⏱ 0.0002 s\n",
      "⚖   Updated si_mono balance with use(si_mono, l0, y, capacity, pv)          ⏱ 0.0001 s\n",
      "🧭  Mapped modes for use (si_mono, l0, y, _y1[0], capacity, pv) ⟺ (si_mono, l0, y, capacity, pv) ⏱ 0.0011 s\n",
      "🧭  Mapped modes for use (glass, l0, y, _y1[1], capacity, pv) ⟺ (glass, l0, y, capacity, pv) ⏱ 0.0002 s\n",
      "🧭  Mapped modes for capacity (pv, l0, y, _y1[1]) ⟺ (pv, l0, y)              ⏱ 0.0002 s\n",
      "⚖   Updated si_poly balance with use(si_poly, l0, y, capacity, pv)          ⏱ 0.0001 s\n",
      "🧭  Mapped modes for use (si_poly, l0, y, _y1[1], capacity, pv) ⟺ (si_poly, l0, y, capacity, pv) ⏱ 0.0012 s\n",
      "🏗   Construction streams introduced for pv in l0                            ⏱ 0.0106 s\n",
      "🌍  Located pv in l0                                                         ⏱ 0.0279 s\n",
      "💡  Assumed lii capacity unbounded in (l0, y)                                ⏱ 0.0001 s\n",
      "🧭  Mapped time for inventory (lii.stored, l0, q) ⟺ (lii.stored, l0, y)      ⏱ 0.0003 s\n",
      "⚖   Initiated lii.stored balance in (l0, q)                                 ⏱ 0.0003 s\n",
      "🔗  Bound [≤] lii.stored inventory in (l0, q)                                ⏱ 0.0017 s\n",
      "💡  Assumed lii inventory bounded by capacity in (l0, q)                     ⏱ 0.0021 s\n",
      "💡  Assumed lii.charge capacity unbounded in (l0, y)                         ⏱ 0.0005 s\n",
      "🔗  Bound [≤] lii.charge operate in (l0, y)                                  ⏱ 0.0005 s\n",
      "💡  Assumed lii.charge operate bounded by capacity in (l0, y)                ⏱ 0.0009 s\n",
      "⚖   Updated lii.stored balance with produce(lii.stored, l0, q, operate, lii.charge) ⏱ 0.0002 s\n",
      "🧭  Mapped time for operate (lii.charge, l0, q) ⟺ (lii.charge, l0, y)        ⏱ 0.0004 s\n",
      "⚖   Updated power balance with expend(power, l0, q, operate, lii.charge)    ⏱ 0.0002 s\n",
      "🏭  Operating streams introduced for lii.charge in l0                        ⏱ 0.0041 s\n",
      "🏗   Construction streams introduced for lii.charge in l0                    ⏱ 0.0000 s\n",
      "🌍  Located lii.charge in l0                                                 ⏱ 0.0068 s\n",
      "💡  Assumed lii.discharge capacity unbounded in (l0, y)                      ⏱ 0.0005 s\n",
      "🔗  Bound [≤] lii.discharge operate in (l0, y)                               ⏱ 0.0006 s\n",
      "💡  Assumed lii.discharge operate bounded by capacity in (l0, y)             ⏱ 0.0010 s\n",
      "⚖   Updated power balance with produce(power, l0, q, operate, lii.discharge) ⏱ 0.0002 s\n",
      "🧭  Mapped time for operate (lii.discharge, l0, q) ⟺ (lii.discharge, l0, y)  ⏱ 0.0002 s\n",
      "⚖   Updated lii.stored balance with expend(lii.stored, l0, q, operate, lii.discharge) ⏱ 0.0002 s\n",
      "🏭  Operating streams introduced for lii.discharge in l0                     ⏱ 0.0037 s\n",
      "🏗   Construction streams introduced for lii.discharge in l0                 ⏱ 0.0000 s\n",
      "🌍  Located lii.discharge in l0                                              ⏱ 0.0065 s\n",
      "⚖   Updated lib balance with use(lib, l0, y, invcapacity, lii.stored)       ⏱ 0.0001 s\n",
      "🧭  Mapped modes for use (lib, l0, y, _y2[0], invcapacity, lii.stored) ⟺ (lib, l0, y, invcapacity, lii.stored) ⏱ 0.0011 s\n",
      "🧭  Mapped modes for invcapacity (lii.stored, l0, y, _y2[0]) ⟺ (lii.stored, l0, y) ⏱ 0.0002 s\n",
      "⚖   Updated steel balance with use(steel, l0, y, invcapacity, lii.stored)   ⏱ 0.0001 s\n",
      "🧭  Mapped modes for use (steel, l0, y, _y2[0], invcapacity, lii.stored) ⟺ (steel, l0, y, invcapacity, lii.stored) ⏱ 0.0014 s\n",
      "⚖   Updated lir balance with use(lir, l0, y, invcapacity, lii.stored)       ⏱ 0.0002 s\n",
      "🧭  Mapped modes for use (lir, l0, y, _y2[1], invcapacity, lii.stored) ⟺ (lir, l0, y, invcapacity, lii.stored) ⏱ 0.0016 s\n",
      "🧭  Mapped modes for invcapacity (lii.stored, l0, y, _y2[1]) ⟺ (lii.stored, l0, y) ⏱ 0.0002 s\n",
      "🧭  Mapped modes for use (steel, l0, y, _y2[1], invcapacity, lii.stored) ⟺ (steel, l0, y, invcapacity, lii.stored) ⏱ 0.0002 s\n",
      "🏗   Construction streams introduced for lii in l0                           ⏱ 0.0115 s\n",
      "🌍  Located lii in l0                                                        ⏱ 0.0283 s\n",
      "🧭  Mapped samples for spend (usd, l0, y, consume, steel) ⟺ (usd, l0, y)     ⏱ 0.0002 s\n",
      "🧭  Mapped samples for spend (usd, l0, y, capacity, wf) ⟺ (usd, l0, y)       ⏱ 0.0002 s\n",
      "🧭  Mapped samples for spend (usd, l0, y, operate, wf) ⟺ (usd, l0, y)        ⏱ 0.0002 s\n",
      "🧭  Mapped samples for spend (usd, l0, y, capacity, pv) ⟺ (usd, l0, y)       ⏱ 0.0002 s\n",
      "🧭  Mapped samples for spend (usd, l0, y, operate, pv) ⟺ (usd, l0, y)        ⏱ 0.0002 s\n",
      "🧭  Mapped samples for spend (usd, l0, y, invcapacity, lii.stored) ⟺ (usd, l0, y) ⏱ 0.0002 s\n",
      "🧭  Mapped samples for spend (usd, l0, y, inventory, lii.stored) ⟺ (usd, l0, y) ⏱ 0.0002 s\n",
      "📝  Generated Program(design_scheduling).mps                                 ⏱ 0.0112 s\n"
     ]
    },
    {
     "name": "stdout",
     "output_type": "stream",
     "text": [
      "Set parameter Username\n",
      "Academic license - for non-commercial use only - expires 2026-08-01\n",
      "Read MPS format model from file Program(design_scheduling).mps\n",
      "Reading time = 0.00 seconds\n",
      "PROGRAM(DESIGN_SCHEDULING): 146 rows, 155 columns, 369 nonzeros\n"
     ]
    },
    {
     "name": "stderr",
     "output_type": "stream",
     "text": [
      "📝  Generated gurobipy model. See .formulation                               ⏱ 0.0157 s\n"
     ]
    },
    {
     "name": "stdout",
     "output_type": "stream",
     "text": [
      "Gurobi Optimizer version 12.0.3 build v12.0.3rc0 (win64 - Windows 11.0 (26100.2))\n",
      "\n",
      "CPU model: 13th Gen Intel(R) Core(TM) i7-13700, instruction set [SSE2|AVX|AVX2]\n",
      "Thread count: 16 physical cores, 24 logical processors, using up to 24 threads\n",
      "\n",
      "Optimize a model with 146 rows, 155 columns and 369 nonzeros\n",
      "Model fingerprint: 0x6fc77ecc\n",
      "Variable types: 152 continuous, 3 integer (3 binary)\n",
      "Coefficient statistics:\n",
      "  Matrix range     [1e-01, 3e+06]\n",
      "  Objective range  [1e+00, 1e+00]\n",
      "  Bounds range     [1e+00, 1e+00]\n",
      "  RHS range        [7e+01, 2e+02]\n",
      "Presolve removed 135 rows and 144 columns\n",
      "Presolve time: 0.00s\n",
      "Presolved: 11 rows, 11 columns, 32 nonzeros\n",
      "Variable types: 11 continuous, 0 integer (0 binary)\n",
      "\n",
      "Root relaxation: objective 3.374395e+08, 10 iterations, 0.00 seconds (0.00 work units)\n",
      "\n",
      "    Nodes    |    Current Node    |     Objective Bounds      |     Work\n",
      " Expl Unexpl |  Obj  Depth IntInf | Incumbent    BestBd   Gap | It/Node Time\n",
      "\n",
      "*    0     0               0    3.374395e+08 3.3744e+08  0.00%     -    0s\n",
      "\n",
      "Explored 1 nodes (10 simplex iterations) in 0.01 seconds (0.00 work units)\n",
      "Thread count was 24 (of 24 available processors)\n",
      "\n",
      "Solution count 1: 3.3744e+08 \n",
      "\n",
      "Optimal solution found (tolerance 1.00e-04)\n",
      "Best objective 3.374395259804e+08, best bound 3.374395259804e+08, gap 0.0000%\n"
     ]
    },
    {
     "name": "stderr",
     "output_type": "stream",
     "text": [
      "📝  Generated Solution object for Program(design_scheduling). See .solution  ⏱ 0.0012 s\n",
      "✅  Program(design_scheduling) optimized using gurobi. Display using .output() ⏱ 0.0291 s\n",
      "🧭  Mapped samples for emit (gwp, l0, y, consume, steel) ⟺ (gwp, l0, y)      ⏱ 0.0002 s\n",
      "🧭  Mapped samples for emit (gwp, l0, y, consume, lir) ⟺ (gwp, l0, y)        ⏱ 0.0002 s\n",
      "🧭  Mapped samples for emit (gwp, l0, y, consume, lib) ⟺ (gwp, l0, y)        ⏱ 0.0002 s\n",
      "🧭  Mapped samples for emit (gwp, l0, y, consume, concrete) ⟺ (gwp, l0, y)   ⏱ 0.0002 s\n",
      "🧭  Mapped samples for emit (gwp, l0, y, consume, glass) ⟺ (gwp, l0, y)      ⏱ 0.0002 s\n",
      "🧭  Mapped samples for emit (gwp, l0, y, consume, si_mono) ⟺ (gwp, l0, y)    ⏱ 0.0002 s\n",
      "🧭  Mapped samples for emit (gwp, l0, y, consume, si_poly) ⟺ (gwp, l0, y)    ⏱ 0.0002 s\n",
      "📝  Generated Program(design_scheduling).mps                                 ⏱ 0.0096 s\n"
     ]
    },
    {
     "name": "stdout",
     "output_type": "stream",
     "text": [
      "Warning: row name O0 in column section at line 528 not defined.\n",
      "Read MPS format model from file Program(design_scheduling).mps\n",
      "Reading time = 0.00 seconds\n",
      "PROGRAM(DESIGN_SCHEDULING): 147 rows, 156 columns, 377 nonzeros\n"
     ]
    },
    {
     "name": "stderr",
     "output_type": "stream",
     "text": [
      "📝  Generated gurobipy model. See .formulation                               ⏱ 0.0118 s\n"
     ]
    },
    {
     "name": "stdout",
     "output_type": "stream",
     "text": [
      "Gurobi Optimizer version 12.0.3 build v12.0.3rc0 (win64 - Windows 11.0 (26100.2))\n",
      "\n",
      "CPU model: 13th Gen Intel(R) Core(TM) i7-13700, instruction set [SSE2|AVX|AVX2]\n",
      "Thread count: 16 physical cores, 24 logical processors, using up to 24 threads\n",
      "\n",
      "Optimize a model with 147 rows, 156 columns and 377 nonzeros\n",
      "Model fingerprint: 0x97678564\n",
      "Variable types: 153 continuous, 3 integer (3 binary)\n",
      "Coefficient statistics:\n",
      "  Matrix range     [1e-01, 3e+06]\n",
      "  Objective range  [1e+00, 1e+00]\n",
      "  Bounds range     [1e+00, 1e+00]\n",
      "  RHS range        [7e+01, 2e+02]\n",
      "Presolve removed 142 rows and 150 columns\n",
      "Presolve time: 0.00s\n",
      "Presolved: 5 rows, 6 columns, 18 nonzeros\n",
      "Variable types: 6 continuous, 0 integer (0 binary)\n",
      "\n",
      "Root relaxation: objective 9.794116e+07, 2 iterations, 0.00 seconds (0.00 work units)\n",
      "\n",
      "    Nodes    |    Current Node    |     Objective Bounds      |     Work\n",
      " Expl Unexpl |  Obj  Depth IntInf | Incumbent    BestBd   Gap | It/Node Time\n",
      "\n",
      "*    0     0               0    9.794116e+07 9.7941e+07  0.00%     -    0s\n",
      "\n",
      "Explored 1 nodes (2 simplex iterations) in 0.00 seconds (0.00 work units)\n",
      "Thread count was 24 (of 24 available processors)\n",
      "\n",
      "Solution count 1: 9.79412e+07 \n",
      "\n",
      "Optimal solution found (tolerance 1.00e-04)\n",
      "Best objective 9.794116189200e+07, best bound 9.794116189200e+07, gap 0.0000%\n"
     ]
    },
    {
     "name": "stderr",
     "output_type": "stream",
     "text": [
      "📝  Generated Solution object for Program(design_scheduling). See .solution  ⏱ 0.0012 s\n",
      "✅  Program(design_scheduling) optimized using gurobi. Display using .output() ⏱ 0.0235 s\n"
     ]
    }
   ],
   "source": [
    "m.network.locate(m.wf, m.pv, m.lii)\n",
    "m.usd.spend.opt()\n",
    "m.gwp.emit.opt()"
   ]
  },
  {
   "cell_type": "markdown",
   "id": "52669f82",
   "metadata": {},
   "source": [
    "## Comparing the solution \n",
    "\n",
    "The choice of material mode for PV changes based on the object, which highlights the trade-off between the two options!"
   ]
  },
  {
   "cell_type": "code",
   "execution_count": 14,
   "id": "d34c3da8",
   "metadata": {},
   "outputs": [
    {
     "data": {
      "text/latex": [
       "$\\displaystyle {\\mathbf{{cap}}}_{{wf},{l0},{{{y}_{0}}}}=90.11083743842364, 100.0$"
      ],
      "text/plain": [
       "<IPython.core.display.Math object>"
      ]
     },
     "metadata": {},
     "output_type": "display_data"
    },
    {
     "data": {
      "text/latex": [
       "$\\displaystyle {\\mathbf{{cap}}}_{{wf},{l0},{{{y}_{0}}},{{{\\_y0}_{0}}}}=90.11083743842364, 100.0$"
      ],
      "text/plain": [
       "<IPython.core.display.Math object>"
      ]
     },
     "metadata": {},
     "output_type": "display_data"
    },
    {
     "data": {
      "text/latex": [
       "$\\displaystyle {\\mathbf{{cap}}}_{{wf},{l0},{{{y}_{0}}},{{{\\_y0}_{1}}}}=0.0, 0.0$"
      ],
      "text/plain": [
       "<IPython.core.display.Math object>"
      ]
     },
     "metadata": {},
     "output_type": "display_data"
    },
    {
     "data": {
      "text/latex": [
       "$\\displaystyle {\\mathbf{{cap}}}_{{pv},{l0},{{{y}_{0}}}}=100.0, 90.70601851851849$"
      ],
      "text/plain": [
       "<IPython.core.display.Math object>"
      ]
     },
     "metadata": {},
     "output_type": "display_data"
    },
    {
     "data": {
      "text/latex": [
       "$\\displaystyle {\\mathbf{{cap}}}_{{pv},{l0},{{{y}_{0}}},{{{\\_y1}_{0}}}}=100.0, 0.0$"
      ],
      "text/plain": [
       "<IPython.core.display.Math object>"
      ]
     },
     "metadata": {},
     "output_type": "display_data"
    },
    {
     "data": {
      "text/latex": [
       "$\\displaystyle {\\mathbf{{cap}}}_{{pv},{l0},{{{y}_{0}}},{{{\\_y1}_{1}}}}=0.0, 90.70601851851849$"
      ],
      "text/plain": [
       "<IPython.core.display.Math object>"
      ]
     },
     "metadata": {},
     "output_type": "display_data"
    },
    {
     "data": {
      "text/latex": [
       "$\\displaystyle {\\mathbf{{cap}}}_{{lii.charge},{l0},{{{y}_{0}}}}=33.26491516146689, 37.48713991769547$"
      ],
      "text/plain": [
       "<IPython.core.display.Math object>"
      ]
     },
     "metadata": {},
     "output_type": "display_data"
    },
    {
     "data": {
      "text/latex": [
       "$\\displaystyle {\\mathbf{{cap}}}_{{lii.discharge},{l0},{{{y}_{0}}}}=29.938423645320196, 33.738425925925924$"
      ],
      "text/plain": [
       "<IPython.core.display.Math object>"
      ]
     },
     "metadata": {},
     "output_type": "display_data"
    }
   ],
   "source": [
    "m.capacity.output(compare = True)"
   ]
  }
 ],
 "metadata": {
  "kernelspec": {
   "display_name": ".venv",
   "language": "python",
   "name": "python3"
  },
  "language_info": {
   "codemirror_mode": {
    "name": "ipython",
    "version": 3
   },
   "file_extension": ".py",
   "mimetype": "text/x-python",
   "name": "python",
   "nbconvert_exporter": "python",
   "pygments_lexer": "ipython3",
   "version": "3.13.9"
  }
 },
 "nbformat": 4,
 "nbformat_minor": 5
}
