{
 "cells": [
  {
   "cell_type": "markdown",
   "id": "c9f4fbeb",
   "metadata": {},
   "source": [
    "# Materials and Emission Streams\n",
    "\n",
    "This is a continuation of the Multiscale MILP example\n",
    "\n",
    "We will be adding the following considerations: \n",
    "\n",
    "1. material for the establishment of operations \n",
    "2. global warming potential induced as a sum of our decisions and choices "
   ]
  },
  {
   "cell_type": "markdown",
   "id": "5be13056",
   "metadata": {},
   "source": [
    "## See Multiscale MILP"
   ]
  },
  {
   "cell_type": "code",
   "execution_count": null,
   "id": "8214bb48",
   "metadata": {},
   "outputs": [],
   "source": [
    "# !pip install energiapy # uncomment and run to install Energia, if not in environment\n",
    "from energia import *\n",
    "\n",
    "m = Model('design_scheduling_material')\n",
    "m.q = Periods()\n",
    "m.y = 4 * m.q"
   ]
  },
  {
   "cell_type": "code",
   "execution_count": null,
   "id": "1ceac5e6",
   "metadata": {},
   "outputs": [
    {
     "name": "stderr",
     "output_type": "stream",
     "text": [
      "⚖   Initiated solar balance in (l0, q)                                      ⏱ 0.0002 s\n",
      "🔗  Bound [≤] solar consume in (l0, q)                                       ⏱ 0.0010 s\n",
      "⚖   Initiated wind balance in (l0, y)                                       ⏱ 0.0001 s\n",
      "🔗  Bound [≤] wind consume in (l0, y)                                        ⏱ 0.0007 s\n",
      "⚖   Initiated power balance in (l0, q)                                      ⏱ 0.0001 s\n",
      "🔗  Bound [≥] power release in (l0, q)                                       ⏱ 0.0016 s\n",
      "🔗  Bound [≤] wf capacity in (l0, y)                                         ⏱ 0.0003 s\n",
      "🔗  Bound [≥] wf capacity in (l0, y)                                         ⏱ 0.0002 s\n",
      "🔗  Bound [≤] wf operate in (l0, q)                                          ⏱ 0.0004 s\n",
      "🔗  Bound [=] usd spend in (l0, y)                                           ⏱ 0.0003 s\n",
      "🧭  Mapped time for operate (wf, l0, q) ⟺ (wf, l0, y)                        ⏱ 0.0004 s\n",
      "🔗  Bound [=] usd spend in (l0, y)                                           ⏱ 0.0003 s\n",
      "🔗  Bound [≤] pv capacity in (l0, y)                                         ⏱ 0.0003 s\n",
      "🔗  Bound [≥] pv capacity in (l0, y)                                         ⏱ 0.0002 s\n",
      "🔗  Bound [≤] pv operate in (l0, q)                                          ⏱ 0.0005 s\n",
      "🔗  Bound [=] usd spend in (l0, y)                                           ⏱ 0.0003 s\n",
      "🧭  Mapped time for operate (pv, l0, q) ⟺ (pv, l0, y)                        ⏱ 0.0002 s\n",
      "🔗  Bound [=] usd spend in (l0, y)                                           ⏱ 0.0004 s\n",
      "🔗  Bound [≤] lii.stored invcapacity in (l0, y)                              ⏱ 0.0003 s\n",
      "🔗  Bound [≥] lii.stored invcapacity in (l0, y)                              ⏱ 0.0002 s\n",
      "🔗  Bound [=] usd spend in (l0, y)                                           ⏱ 0.0004 s\n",
      "🔗  Bound [=] usd spend in (l0, y)                                           ⏱ 0.0004 s\n"
     ]
    }
   ],
   "source": [
    "m.usd = Currency()\n",
    "m.declare(Resource, ['power', 'wind', 'solar'])\n",
    "m.solar.consume(m.q) <= 100\n",
    "m.wind.consume <= 400\n",
    "m.power.release.prep(180) >= [0.6, 0.7, 0.8, 0.3]\n",
    "\n",
    "m.wf = Process()\n",
    "m.wf(m.power) == -1 * m.wind\n",
    "m.wf.capacity.x <= 100\n",
    "m.wf.capacity.x >= 10\n",
    "m.wf.operate.prep(norm=True) <= [0.9, 0.8, 0.5, 0.7]\n",
    "m.usd.spend(m.wf.capacity) == 990637 + 3354\n",
    "m.usd.spend(m.wf.operate) == 49\n",
    "\n",
    "m.pv = Process()\n",
    "m.pv(m.power) == -1 * m.solar\n",
    "m.pv.capacity.x <= 100\n",
    "m.pv.capacity.x >= 10\n",
    "m.pv.operate.prep(norm=True) <= [0.6, 0.8, 0.9, 0.7]\n",
    "m.usd.spend(m.pv.capacity) == 567000 + 872046\n",
    "m.usd.spend(m.pv.operate) == 90000\n",
    "\n",
    "m.lii = Storage()\n",
    "m.lii(m.power) == 0.9\n",
    "m.lii.capacity.x <= 100\n",
    "m.lii.capacity.x >= 10\n",
    "m.usd.spend(m.lii.capacity) == 1302182 + 41432\n",
    "m.usd.spend(m.lii.inventory) == 2000"
   ]
  },
  {
   "cell_type": "markdown",
   "id": "088d79b8",
   "metadata": {},
   "source": [
    "## Indicator Stream \n",
    "\n",
    "Indicators scale the impact of some decision or flow and project it only a common dimension allowing the calculation of overall impact as a single metric value\n",
    "\n",
    "In this case, we consider global warming potential (GWP)."
   ]
  },
  {
   "cell_type": "code",
   "execution_count": 17,
   "id": "809e08ab",
   "metadata": {},
   "outputs": [],
   "source": [
    "m.gwp = Environ()"
   ]
  },
  {
   "cell_type": "markdown",
   "id": "07adfca6",
   "metadata": {},
   "source": [
    "Now say that we want to consider the impact of setting up operations (specific to the act of construction)\n",
    "\n",
    "These can be provided as calculations "
   ]
  },
  {
   "cell_type": "code",
   "execution_count": null,
   "id": "2db70e09",
   "metadata": {},
   "outputs": [
    {
     "name": "stderr",
     "output_type": "stream",
     "text": [
      "🔗  Bound [=] gwp emit in (l0, y)                                            ⏱ 0.0004 s\n",
      "🔗  Bound [=] gwp emit in (l0, y)                                            ⏱ 0.0004 s\n",
      "🔗  Bound [=] gwp emit in (l0, y)                                            ⏱ 0.0004 s\n"
     ]
    },
    {
     "data": {
      "text/latex": [
       "$\\displaystyle [22]\\text{   }{\\mathbf{{\\mathbf{emit}}}}_{{gwp},{l0},{y},{\\mathbf{{cap}}},{wf}} - 1000 \\cdot {\\mathbf{{\\mathbf{{\\mathbf{{cap}}}}}}}_{{wf},{l0},{y}} = 0$"
      ],
      "text/plain": [
       "<IPython.core.display.Math object>"
      ]
     },
     "metadata": {},
     "output_type": "display_data"
    },
    {
     "data": {
      "text/latex": [
       "$\\displaystyle [23]\\text{   }{\\mathbf{{\\mathbf{{\\mathbf{emit}}}}}}_{{gwp},{l0},{y},{\\mathbf{{cap}}},{pv}} - 2000 \\cdot {\\mathbf{{\\mathbf{{\\mathbf{{cap}}}}}}}_{{pv},{l0},{y}} = 0$"
      ],
      "text/plain": [
       "<IPython.core.display.Math object>"
      ]
     },
     "metadata": {},
     "output_type": "display_data"
    },
    {
     "data": {
      "text/latex": [
       "$\\displaystyle [24]\\text{   }{\\mathbf{{\\mathbf{{\\mathbf{emit}}}}}}_{{gwp},{l0},{y},{\\mathbf{{icap}}},{lii.stored}} - 3000 \\cdot {\\mathbf{{\\mathbf{{icap}}}}}_{{lii.stored},{l0},{y}} = 0$"
      ],
      "text/plain": [
       "<IPython.core.display.Math object>"
      ]
     },
     "metadata": {},
     "output_type": "display_data"
    }
   ],
   "source": [
    "m.gwp.emit(m.wf.capacity) == 1000\n",
    "m.gwp.emit(m.pv.capacity) == 2000\n",
    "m.gwp.emit(m.lii.capacity) == 3000\n",
    "m.emit.show()"
   ]
  },
  {
   "cell_type": "markdown",
   "id": "8eb9ce25",
   "metadata": {},
   "source": [
    "Note that impact streams are mapped across scales but not balanced, unless a negative (relatively) impact is also assessed! In the case of emission, this would be abatement."
   ]
  },
  {
   "cell_type": "markdown",
   "id": "bd05088d",
   "metadata": {},
   "source": [
    "## Material Stream\n",
    "\n",
    "Note that all the objects found in energia.components.commodity.misc are still resources (Land, Material, etc.)\n",
    "\n",
    "This will allow for the modeling of an expansive type of processes.\n",
    "\n",
    "Examples:\n",
    "\n",
    "1. land clearance to transform agricultural land into industrial, or land remediation \n",
    "2. resource intense material recycling \n",
    "3. some resource flowing being treated as emission flows \n",
    "\n",
    "The possibilities are vast... The advanced modeler may prefer to use Resource() for everything [see Resource Task Network (RTN) Framework]\n",
    "\n",
    "In the following example, we consider a limit to cement consumption, as also an expense and gwp impact associated with it"
   ]
  },
  {
   "cell_type": "code",
   "execution_count": null,
   "id": "9ce76f6f",
   "metadata": {},
   "outputs": [
    {
     "name": "stderr",
     "output_type": "stream",
     "text": [
      "⚖   Initiated cement balance in (l0, y)                                     ⏱ 0.0001 s\n",
      "🔗  Bound [≤] cement consume in (l0, y)                                      ⏱ 0.0010 s\n",
      "🔗  Bound [=] usd spend in (l0, y)                                           ⏱ 0.0005 s\n",
      "🔗  Bound [=] gwp emit in (l0, y)                                            ⏱ 0.0007 s\n"
     ]
    }
   ],
   "source": [
    "m.cement = Material()\n",
    "m.cement.consume <= 1000000\n",
    "m.usd.spend(m.cement.consume) == 17\n",
    "m.gwp.emit(m.cement.consume) == 0.9"
   ]
  },
  {
   "cell_type": "markdown",
   "id": "f21caa2c",
   "metadata": {},
   "source": [
    "Next, we provide details of the use of cement across all operations "
   ]
  },
  {
   "cell_type": "code",
   "execution_count": null,
   "id": "35dc4891",
   "metadata": {},
   "outputs": [
    {
     "name": "stderr",
     "output_type": "stream",
     "text": [
      "⚖   Updated cement balance with use(cement, l0, y, capacity, wf)            ⏱ 0.0001 s\n",
      "🔗  Bound [=] cement use in (l0, y)                                          ⏱ 0.0013 s\n",
      "⚖   Updated cement balance with use(cement, l0, y, capacity, pv)            ⏱ 0.0001 s\n",
      "🔗  Bound [=] cement use in (l0, y)                                          ⏱ 0.0015 s\n",
      "⚖   Updated cement balance with use(cement, l0, y, invcapacity, lii.stored) ⏱ 0.0001 s\n",
      "🔗  Bound [=] cement use in (l0, y)                                          ⏱ 0.0014 s\n"
     ]
    }
   ],
   "source": [
    "m.cement.use(m.wf.capacity) == 400\n",
    "m.cement.use(m.pv.capacity) == 560\n",
    "m.cement.use(m.lii.capacity) == 300"
   ]
  },
  {
   "cell_type": "markdown",
   "id": "efc3693a",
   "metadata": {},
   "source": [
    "Material use is summed up across all operations, and adheres to an upper bound in terms of consumption. "
   ]
  },
  {
   "cell_type": "code",
   "execution_count": 21,
   "id": "6efcaa6f",
   "metadata": {},
   "outputs": [
    {
     "data": {
      "text/latex": [
       "$\\displaystyle [25]\\text{   }{\\mathbf{{\\mathbf{{\\mathbf{{cons}}}}}}}_{{cement},{l0},{y}} - {\\mathbf{{\\mathbf{use}}}}_{{cement},{l0},{y},{\\mathbf{{cap}}},{wf}} - {\\mathbf{{\\mathbf{{\\mathbf{use}}}}}}_{{cement},{l0},{y},{\\mathbf{{cap}}},{pv}} - {\\mathbf{{\\mathbf{{\\mathbf{use}}}}}}_{{cement},{l0},{y},{\\mathbf{{icap}}},{lii.stored}} = 0$"
      ],
      "text/plain": [
       "<IPython.core.display.Math object>"
      ]
     },
     "metadata": {},
     "output_type": "display_data"
    },
    {
     "data": {
      "text/latex": [
       "$\\displaystyle [26]\\text{   }{\\mathbf{{\\mathbf{{\\mathbf{{cons}}}}}}}_{{cement},{l0},{y}} - 1000000 \\leq 0$"
      ],
      "text/plain": [
       "<IPython.core.display.Math object>"
      ]
     },
     "metadata": {},
     "output_type": "display_data"
    },
    {
     "data": {
      "text/latex": [
       "$\\displaystyle [27]\\text{   }{\\mathbf{{\\mathbf{{\\mathbf{spend}}}}}}_{{usd},{l0},{y},{\\mathbf{{cons}}},{cement}} - 17 \\cdot {\\mathbf{{\\mathbf{{\\mathbf{{cons}}}}}}}_{{cement},{l0},{y}} = 0$"
      ],
      "text/plain": [
       "<IPython.core.display.Math object>"
      ]
     },
     "metadata": {},
     "output_type": "display_data"
    },
    {
     "data": {
      "text/latex": [
       "$\\displaystyle [28]\\text{   }{\\mathbf{{\\mathbf{{\\mathbf{emit}}}}}}_{{gwp},{l0},{y},{\\mathbf{{cons}}},{cement}} - 0.9 \\cdot {\\mathbf{{\\mathbf{{\\mathbf{{cons}}}}}}}_{{cement},{l0},{y}} = 0$"
      ],
      "text/plain": [
       "<IPython.core.display.Math object>"
      ]
     },
     "metadata": {},
     "output_type": "display_data"
    },
    {
     "data": {
      "text/latex": [
       "$\\displaystyle [29]\\text{   }{\\mathbf{{\\mathbf{use}}}}_{{cement},{l0},{y},{\\mathbf{{cap}}},{wf}} - 400 \\cdot {\\mathbf{{\\mathbf{{\\mathbf{{cap}}}}}}}_{{wf},{l0},{y}} = 0$"
      ],
      "text/plain": [
       "<IPython.core.display.Math object>"
      ]
     },
     "metadata": {},
     "output_type": "display_data"
    },
    {
     "data": {
      "text/latex": [
       "$\\displaystyle [30]\\text{   }{\\mathbf{{\\mathbf{{\\mathbf{use}}}}}}_{{cement},{l0},{y},{\\mathbf{{cap}}},{pv}} - 560 \\cdot {\\mathbf{{\\mathbf{{\\mathbf{{cap}}}}}}}_{{pv},{l0},{y}} = 0$"
      ],
      "text/plain": [
       "<IPython.core.display.Math object>"
      ]
     },
     "metadata": {},
     "output_type": "display_data"
    },
    {
     "data": {
      "text/latex": [
       "$\\displaystyle [31]\\text{   }{\\mathbf{{\\mathbf{{\\mathbf{use}}}}}}_{{cement},{l0},{y},{\\mathbf{{icap}}},{lii.stored}} - 300 \\cdot {\\mathbf{{\\mathbf{{icap}}}}}_{{lii.stored},{l0},{y}} = 0$"
      ],
      "text/plain": [
       "<IPython.core.display.Math object>"
      ]
     },
     "metadata": {},
     "output_type": "display_data"
    }
   ],
   "source": [
    "m.cement.show()"
   ]
  },
  {
   "cell_type": "markdown",
   "id": "f73d5788",
   "metadata": {},
   "source": [
    "GWP impact is now the sum of impact from material use as well as constuction "
   ]
  },
  {
   "cell_type": "code",
   "execution_count": 22,
   "id": "d7cb14c1",
   "metadata": {},
   "outputs": [
    {
     "data": {
      "text/latex": [
       "$\\displaystyle [22]\\text{   }{\\mathbf{{\\mathbf{emit}}}}_{{gwp},{l0},{y},{\\mathbf{{cap}}},{wf}} - 1000 \\cdot {\\mathbf{{\\mathbf{{\\mathbf{{cap}}}}}}}_{{wf},{l0},{y}} = 0$"
      ],
      "text/plain": [
       "<IPython.core.display.Math object>"
      ]
     },
     "metadata": {},
     "output_type": "display_data"
    },
    {
     "data": {
      "text/latex": [
       "$\\displaystyle [23]\\text{   }{\\mathbf{{\\mathbf{{\\mathbf{emit}}}}}}_{{gwp},{l0},{y},{\\mathbf{{cap}}},{pv}} - 2000 \\cdot {\\mathbf{{\\mathbf{{\\mathbf{{cap}}}}}}}_{{pv},{l0},{y}} = 0$"
      ],
      "text/plain": [
       "<IPython.core.display.Math object>"
      ]
     },
     "metadata": {},
     "output_type": "display_data"
    },
    {
     "data": {
      "text/latex": [
       "$\\displaystyle [24]\\text{   }{\\mathbf{{\\mathbf{{\\mathbf{emit}}}}}}_{{gwp},{l0},{y},{\\mathbf{{icap}}},{lii.stored}} - 3000 \\cdot {\\mathbf{{\\mathbf{{icap}}}}}_{{lii.stored},{l0},{y}} = 0$"
      ],
      "text/plain": [
       "<IPython.core.display.Math object>"
      ]
     },
     "metadata": {},
     "output_type": "display_data"
    },
    {
     "data": {
      "text/latex": [
       "$\\displaystyle [28]\\text{   }{\\mathbf{{\\mathbf{{\\mathbf{emit}}}}}}_{{gwp},{l0},{y},{\\mathbf{{cons}}},{cement}} - 0.9 \\cdot {\\mathbf{{\\mathbf{{\\mathbf{{cons}}}}}}}_{{cement},{l0},{y}} = 0$"
      ],
      "text/plain": [
       "<IPython.core.display.Math object>"
      ]
     },
     "metadata": {},
     "output_type": "display_data"
    }
   ],
   "source": [
    "m.emit.show()"
   ]
  },
  {
   "cell_type": "markdown",
   "id": "fee37f29",
   "metadata": {},
   "source": [
    "## Locate Operations"
   ]
  },
  {
   "cell_type": "code",
   "execution_count": 23,
   "id": "cb7e5496",
   "metadata": {},
   "outputs": [
    {
     "name": "stderr",
     "output_type": "stream",
     "text": [
      "💡  Assumed wf capacity unbounded in (l0, y)                                 ⏱ 0.0001 s\n",
      "💡  Assumed wf operate bounded by capacity in (l0, q)                        ⏱ 0.0001 s\n",
      "⚖   Updated power balance with produce(power, l0, q, operate, wf)           ⏱ 0.0002 s\n",
      "🔗  Bound [=] power produce in (l0, q)                                       ⏱ 0.0013 s\n",
      "⚖   Updated wind balance with expend(wind, l0, y, operate, wf)              ⏱ 0.0001 s\n",
      "🔗  Bound [=] wind expend in (l0, y)                                         ⏱ 0.0011 s\n",
      "🏭  Operating streams introduced for wf in l0                                ⏱ 0.0040 s\n",
      "🏗   Construction streams introduced for wf in l0                            ⏱ 0.0000 s\n",
      "🌍  Located wf in l0                                                         ⏱ 0.0062 s\n",
      "💡  Assumed pv capacity unbounded in (l0, y)                                 ⏱ 0.0001 s\n",
      "💡  Assumed pv operate bounded by capacity in (l0, q)                        ⏱ 0.0001 s\n",
      "⚖   Updated power balance with produce(power, l0, q, operate, pv)           ⏱ 0.0002 s\n",
      "🔗  Bound [=] power produce in (l0, q)                                       ⏱ 0.0015 s\n",
      "⚖   Updated solar balance with expend(solar, l0, q, operate, pv)            ⏱ 0.0002 s\n",
      "🔗  Bound [=] solar expend in (l0, q)                                        ⏱ 0.0012 s\n",
      "🏭  Operating streams introduced for pv in l0                                ⏱ 0.0038 s\n",
      "🏗   Construction streams introduced for pv in l0                            ⏱ 0.0000 s\n",
      "🌍  Located pv in l0                                                         ⏱ 0.0056 s\n",
      "💡  Assumed lii capacity unbounded in (l0, y)                                ⏱ 0.0001 s\n",
      "🧭  Mapped time for inventory (lii.stored, l0, q) ⟺ (lii.stored, l0, y)      ⏱ 0.0003 s\n",
      "⚖   Initiated lii.stored balance in (l0, q)                                 ⏱ 0.0004 s\n",
      "🔗  Bound [≤] lii.stored inventory in (l0, q)                                ⏱ 0.0025 s\n",
      "💡  Assumed lii inventory bounded by capacity in (l0, q)                     ⏱ 0.0030 s\n",
      "💡  Assumed lii.charge capacity unbounded in (l0, y)                         ⏱ 0.0004 s\n",
      "🔗  Bound [≤] lii.charge operate in (l0, y)                                  ⏱ 0.0006 s\n",
      "💡  Assumed lii.charge operate bounded by capacity in (l0, y)                ⏱ 0.0014 s\n",
      "🧭  Mapped time for operate (lii.charge, l0, q) ⟺ (lii.charge, l0, y)        ⏱ 0.0004 s\n",
      "⚖   Updated lii.stored balance with produce(lii.stored, l0, q, operate, lii.charge) ⏱ 0.0002 s\n",
      "🔗  Bound [=] lii.stored produce in (l0, q)                                  ⏱ 0.0014 s\n",
      "⚖   Updated power balance with expend(power, l0, q, operate, lii.charge)    ⏱ 0.0002 s\n",
      "🔗  Bound [=] power expend in (l0, q)                                        ⏱ 0.0012 s\n",
      "🏭  Operating streams introduced for lii.charge in l0                        ⏱ 0.0056 s\n",
      "🏗   Construction streams introduced for lii.charge in l0                    ⏱ 0.0000 s\n",
      "🌍  Located lii.charge in l0                                                 ⏱ 0.0097 s\n",
      "💡  Assumed lii.discharge capacity unbounded in (l0, y)                      ⏱ 0.0004 s\n",
      "🔗  Bound [≤] lii.discharge operate in (l0, y)                               ⏱ 0.0005 s\n",
      "💡  Assumed lii.discharge operate bounded by capacity in (l0, y)             ⏱ 0.0011 s\n",
      "🧭  Mapped time for operate (lii.discharge, l0, q) ⟺ (lii.discharge, l0, y)  ⏱ 0.0002 s\n",
      "⚖   Updated power balance with produce(power, l0, q, operate, lii.discharge) ⏱ 0.0002 s\n",
      "🔗  Bound [=] power produce in (l0, q)                                       ⏱ 0.0013 s\n",
      "⚖   Updated lii.stored balance with expend(lii.stored, l0, q, operate, lii.discharge) ⏱ 0.0002 s\n",
      "🔗  Bound [=] lii.stored expend in (l0, q)                                   ⏱ 0.0012 s\n",
      "🏭  Operating streams introduced for lii.discharge in l0                     ⏱ 0.0045 s\n",
      "🏗   Construction streams introduced for lii.discharge in l0                 ⏱ 0.0000 s\n",
      "🌍  Located lii.discharge in l0                                              ⏱ 0.0076 s\n",
      "🏗   Construction streams introduced for lii in l0                           ⏱ 0.0000 s\n",
      "🌍  Located lii in l0                                                        ⏱ 0.0229 s\n"
     ]
    }
   ],
   "source": [
    "m.network.locate(m.wf, m.pv, m.lii)"
   ]
  },
  {
   "cell_type": "markdown",
   "id": "df4accdc",
   "metadata": {},
   "source": [
    "## Optimization \n",
    "\n",
    "### Minimize GWP\n",
    "Let us minimize GWP this time. Note that m.usd.spend.opt() can still be used!"
   ]
  },
  {
   "cell_type": "code",
   "execution_count": 24,
   "id": "b762aea8",
   "metadata": {},
   "outputs": [
    {
     "name": "stderr",
     "output_type": "stream",
     "text": [
      "🧭  Mapped samples for emit (gwp, l0, y, capacity, wf) ⟺ (gwp, l0, y)        ⏱ 0.0004 s\n",
      "🧭  Mapped samples for emit (gwp, l0, y, capacity, pv) ⟺ (gwp, l0, y)        ⏱ 0.0003 s\n",
      "🧭  Mapped samples for emit (gwp, l0, y, invcapacity, lii.stored) ⟺ (gwp, l0, y) ⏱ 0.0003 s\n",
      "🧭  Mapped samples for emit (gwp, l0, y, consume, cement) ⟺ (gwp, l0, y)     ⏱ 0.0003 s\n",
      "📝  Generated Program(design_scheduling_material).mps                        ⏱ 0.0059 s\n"
     ]
    },
    {
     "name": "stdout",
     "output_type": "stream",
     "text": [
      "Read MPS format model from file Program(design_scheduling_material).mps\n",
      "Reading time = 0.00 seconds\n",
      "PROGRAM(DESIGN_SCHEDULING_MATERIAL): 93 rows, 87 columns, 215 nonzeros\n"
     ]
    },
    {
     "name": "stderr",
     "output_type": "stream",
     "text": [
      "📝  Generated gurobipy model. See .formulation                               ⏱ 0.0084 s\n"
     ]
    },
    {
     "name": "stdout",
     "output_type": "stream",
     "text": [
      "Gurobi Optimizer version 12.0.3 build v12.0.3rc0 (win64 - Windows 11.0 (26100.2))\n",
      "\n",
      "CPU model: 13th Gen Intel(R) Core(TM) i7-13700, instruction set [SSE2|AVX|AVX2]\n",
      "Thread count: 16 physical cores, 24 logical processors, using up to 24 threads\n",
      "\n",
      "Optimize a model with 93 rows, 87 columns and 215 nonzeros\n",
      "Model fingerprint: 0x347f9574\n",
      "Variable types: 84 continuous, 3 integer (3 binary)\n",
      "Coefficient statistics:\n",
      "  Matrix range     [6e-01, 1e+06]\n",
      "  Objective range  [1e+00, 1e+00]\n",
      "  Bounds range     [1e+00, 1e+00]\n",
      "  RHS range        [7e+01, 1e+06]\n",
      "Presolve removed 88 rows and 81 columns\n",
      "Presolve time: 0.00s\n",
      "Presolved: 5 rows, 6 columns, 18 nonzeros\n",
      "Variable types: 6 continuous, 0 integer (0 binary)\n",
      "\n",
      "Root relaxation: objective 4.752148e+05, 2 iterations, 0.00 seconds (0.00 work units)\n",
      "\n",
      "    Nodes    |    Current Node    |     Objective Bounds      |     Work\n",
      " Expl Unexpl |  Obj  Depth IntInf | Incumbent    BestBd   Gap | It/Node Time\n",
      "\n",
      "*    0     0               0    475214.81481 475214.815  0.00%     -    0s\n",
      "\n",
      "Explored 1 nodes (2 simplex iterations) in 0.01 seconds (0.00 work units)\n",
      "Thread count was 24 (of 24 available processors)\n",
      "\n",
      "Solution count 1: 475215 \n",
      "\n",
      "Optimal solution found (tolerance 1.00e-04)\n",
      "Best objective 4.752148148148e+05, best bound 4.752148148148e+05, gap 0.0000%\n"
     ]
    },
    {
     "name": "stderr",
     "output_type": "stream",
     "text": [
      "📝  Generated Solution object for Program(design_scheduling_material). See .solution ⏱ 0.0006 s\n",
      "✅  Program(design_scheduling_material) optimized using gurobi. Display using .output() ⏱ 0.0258 s\n"
     ]
    }
   ],
   "source": [
    "m.gwp.emit.opt()"
   ]
  },
  {
   "cell_type": "markdown",
   "id": "5eab76e7",
   "metadata": {},
   "source": [
    "### Minimize Cost\n",
    "The same problem can also be minimized in terms of cost"
   ]
  },
  {
   "cell_type": "code",
   "execution_count": 25,
   "id": "5fb59d5a",
   "metadata": {},
   "outputs": [
    {
     "name": "stderr",
     "output_type": "stream",
     "text": [
      "🧭  Mapped samples for spend (usd, l0, y, capacity, wf) ⟺ (usd, l0, y)       ⏱ 0.0002 s\n",
      "🧭  Mapped samples for spend (usd, l0, y, operate, wf) ⟺ (usd, l0, y)        ⏱ 0.0002 s\n",
      "🧭  Mapped samples for spend (usd, l0, y, capacity, pv) ⟺ (usd, l0, y)       ⏱ 0.0002 s\n",
      "🧭  Mapped samples for spend (usd, l0, y, operate, pv) ⟺ (usd, l0, y)        ⏱ 0.0002 s\n",
      "🧭  Mapped samples for spend (usd, l0, y, invcapacity, lii.stored) ⟺ (usd, l0, y) ⏱ 0.0002 s\n",
      "🧭  Mapped samples for spend (usd, l0, y, inventory, lii.stored) ⟺ (usd, l0, y) ⏱ 0.0002 s\n",
      "🧭  Mapped samples for spend (usd, l0, y, consume, cement) ⟺ (usd, l0, y)    ⏱ 0.0002 s\n",
      "📝  Generated Program(design_scheduling_material).mps                        ⏱ 0.0077 s\n"
     ]
    },
    {
     "name": "stdout",
     "output_type": "stream",
     "text": [
      "Warning: row name O0 in column section at line 321 not defined.\n",
      "Read MPS format model from file Program(design_scheduling_material).mps\n",
      "Reading time = 0.00 seconds\n",
      "PROGRAM(DESIGN_SCHEDULING_MATERIAL): 94 rows, 88 columns, 223 nonzeros\n"
     ]
    },
    {
     "name": "stderr",
     "output_type": "stream",
     "text": [
      "📝  Generated gurobipy model. See .formulation                               ⏱ 0.0107 s\n"
     ]
    },
    {
     "name": "stdout",
     "output_type": "stream",
     "text": [
      "Gurobi Optimizer version 12.0.3 build v12.0.3rc0 (win64 - Windows 11.0 (26100.2))\n",
      "\n",
      "CPU model: 13th Gen Intel(R) Core(TM) i7-13700, instruction set [SSE2|AVX|AVX2]\n",
      "Thread count: 16 physical cores, 24 logical processors, using up to 24 threads\n",
      "\n",
      "Optimize a model with 94 rows, 88 columns and 223 nonzeros\n",
      "Model fingerprint: 0x59224a16\n",
      "Variable types: 85 continuous, 3 integer (3 binary)\n",
      "Coefficient statistics:\n",
      "  Matrix range     [6e-01, 1e+06]\n",
      "  Objective range  [1e+00, 1e+00]\n",
      "  Bounds range     [1e+00, 1e+00]\n",
      "  RHS range        [7e+01, 1e+06]\n",
      "Presolve removed 82 rows and 76 columns\n",
      "Presolve time: 0.00s\n",
      "Presolved: 12 rows, 12 columns, 34 nonzeros\n",
      "Variable types: 12 continuous, 0 integer (0 binary)\n",
      "\n",
      "Root relaxation: objective 3.024203e+08, 6 iterations, 0.00 seconds (0.00 work units)\n",
      "\n",
      "    Nodes    |    Current Node    |     Objective Bounds      |     Work\n",
      " Expl Unexpl |  Obj  Depth IntInf | Incumbent    BestBd   Gap | It/Node Time\n",
      "\n",
      "*    0     0               0    3.024203e+08 3.0242e+08  0.00%     -    0s\n",
      "\n",
      "Explored 1 nodes (6 simplex iterations) in 0.01 seconds (0.00 work units)\n",
      "Thread count was 24 (of 24 available processors)\n",
      "\n",
      "Solution count 1: 3.0242e+08 \n",
      "\n",
      "Optimal solution found (tolerance 1.00e-04)\n",
      "Best objective 3.024202544136e+08, best bound 3.024202544136e+08, gap 0.0000%\n"
     ]
    },
    {
     "name": "stderr",
     "output_type": "stream",
     "text": [
      "📝  Generated Solution object for Program(design_scheduling_material). See .solution ⏱ 0.0006 s\n",
      "✅  Program(design_scheduling_material) optimized using gurobi. Display using .output() ⏱ 0.0274 s\n"
     ]
    }
   ],
   "source": [
    "m.usd.spend.opt()"
   ]
  },
  {
   "cell_type": "code",
   "execution_count": 26,
   "id": "dfae8999",
   "metadata": {},
   "outputs": [
    {
     "data": {
      "text/markdown": [
       "# Mathematical Program for Program(design_scheduling_material)"
      ],
      "text/plain": [
       "<IPython.core.display.Markdown object>"
      ]
     },
     "metadata": {},
     "output_type": "display_data"
    },
    {
     "data": {
      "text/markdown": [
       "<br><br>"
      ],
      "text/plain": [
       "<IPython.core.display.Markdown object>"
      ]
     },
     "metadata": {},
     "output_type": "display_data"
    },
    {
     "data": {
      "text/markdown": [
       "## Index Sets"
      ],
      "text/plain": [
       "<IPython.core.display.Markdown object>"
      ]
     },
     "metadata": {},
     "output_type": "display_data"
    },
    {
     "data": {
      "text/latex": [
       "$\\displaystyle {currencies} = \\{ {{usd}} \\}$"
      ],
      "text/plain": [
       "<IPython.core.display.Math object>"
      ]
     },
     "metadata": {},
     "output_type": "display_data"
    },
    {
     "data": {
      "text/latex": [
       "$\\displaystyle {resources} = \\{ {{power}, {wind}, {solar}, {lii.stored}} \\}$"
      ],
      "text/plain": [
       "<IPython.core.display.Math object>"
      ]
     },
     "metadata": {},
     "output_type": "display_data"
    },
    {
     "data": {
      "text/latex": [
       "$\\displaystyle {locations} = \\{ {{l0}} \\}$"
      ],
      "text/plain": [
       "<IPython.core.display.Math object>"
      ]
     },
     "metadata": {},
     "output_type": "display_data"
    },
    {
     "data": {
      "text/latex": [
       "$\\displaystyle {y} = \\{ {{{{y}_{0}}}} \\}$"
      ],
      "text/plain": [
       "<IPython.core.display.Math object>"
      ]
     },
     "metadata": {},
     "output_type": "display_data"
    },
    {
     "data": {
      "text/latex": [
       "$\\displaystyle {q} = \\{ {{{{q}_{0}}}, {{{q}_{1}}}, {{{q}_{2}}}, {{{q}_{3}}}} \\}$"
      ],
      "text/plain": [
       "<IPython.core.display.Math object>"
      ]
     },
     "metadata": {},
     "output_type": "display_data"
    },
    {
     "data": {
      "text/latex": [
       "$\\displaystyle {processes} = \\{ {{wf}, {pv}, {lii.charge}, {lii.discharge}} \\}$"
      ],
      "text/plain": [
       "<IPython.core.display.Math object>"
      ]
     },
     "metadata": {},
     "output_type": "display_data"
    },
    {
     "data": {
      "text/latex": [
       "$\\displaystyle {storages} = \\{ {{lii}} \\}$"
      ],
      "text/plain": [
       "<IPython.core.display.Math object>"
      ]
     },
     "metadata": {},
     "output_type": "display_data"
    },
    {
     "data": {
      "text/latex": [
       "$\\displaystyle {materials} = \\{ {{cement}} \\}$"
      ],
      "text/plain": [
       "<IPython.core.display.Math object>"
      ]
     },
     "metadata": {},
     "output_type": "display_data"
    },
    {
     "data": {
      "text/markdown": [
       "<br><br>"
      ],
      "text/plain": [
       "<IPython.core.display.Markdown object>"
      ]
     },
     "metadata": {},
     "output_type": "display_data"
    },
    {
     "data": {
      "text/markdown": [
       "## Objective"
      ],
      "text/plain": [
       "<IPython.core.display.Markdown object>"
      ]
     },
     "metadata": {},
     "output_type": "display_data"
    },
    {
     "data": {
      "text/latex": [
       "$\\displaystyle min \\hspace{0.2cm} {\\mathbf{emit}}_{{gwp},{l0},{{{y}_{0}}}}$"
      ],
      "text/plain": [
       "<IPython.core.display.Math object>"
      ]
     },
     "metadata": {},
     "output_type": "display_data"
    },
    {
     "data": {
      "text/latex": [
       "$\\displaystyle min \\hspace{0.2cm} {\\mathbf{spend}}_{{usd},{l0},{{{y}_{0}}}}$"
      ],
      "text/plain": [
       "<IPython.core.display.Math object>"
      ]
     },
     "metadata": {},
     "output_type": "display_data"
    },
    {
     "data": {
      "text/markdown": [
       "<br><br>"
      ],
      "text/plain": [
       "<IPython.core.display.Markdown object>"
      ]
     },
     "metadata": {},
     "output_type": "display_data"
    },
    {
     "data": {
      "text/markdown": [
       "## s.t."
      ],
      "text/plain": [
       "<IPython.core.display.Markdown object>"
      ]
     },
     "metadata": {},
     "output_type": "display_data"
    },
    {
     "data": {
      "text/markdown": [
       "### Balance Constraint Sets"
      ],
      "text/plain": [
       "<IPython.core.display.Markdown object>"
      ]
     },
     "metadata": {},
     "output_type": "display_data"
    },
    {
     "data": {
      "text/latex": [
       "$\\displaystyle [0]\\text{   }{\\mathbf{{\\mathbf{{cons}}}}}_{{solar},{l0},{y},{q}} - {\\mathbf{{\\mathbf{{\\mathbf{{expd}}}}}}}_{{solar},{l0},{y},{q},{\\mathbf{{opr}}},{pv}} = 0$"
      ],
      "text/plain": [
       "<IPython.core.display.Math object>"
      ]
     },
     "metadata": {},
     "output_type": "display_data"
    },
    {
     "data": {
      "text/latex": [
       "$\\displaystyle [2]\\text{   }{\\mathbf{{\\mathbf{{\\mathbf{{cons}}}}}}}_{{wind},{l0},{y}} - {\\mathbf{{\\mathbf{{expd}}}}}_{{wind},{l0},{y},{\\mathbf{{opr}}},{wf}} = 0$"
      ],
      "text/plain": [
       "<IPython.core.display.Math object>"
      ]
     },
     "metadata": {},
     "output_type": "display_data"
    },
    {
     "data": {
      "text/latex": [
       "$\\displaystyle [4]\\text{   }-{\\mathbf{{\\mathbf{{rlse}}}}}_{{power},{l0},{y},{q}} + {\\mathbf{{\\mathbf{prod}}}}_{{power},{l0},{y},{q},{\\mathbf{{opr}}},{wf}} + {\\mathbf{{\\mathbf{{\\mathbf{prod}}}}}}_{{power},{l0},{y},{q},{\\mathbf{{opr}}},{pv}} - {\\mathbf{{\\mathbf{{\\mathbf{{expd}}}}}}}_{{power},{l0},{y},{q},{\\mathbf{{opr}}},{lii.charge}} + {\\mathbf{{\\mathbf{{\\mathbf{prod}}}}}}_{{power},{l0},{y},{q},{\\mathbf{{opr}}},{lii.discharge}} = 0$"
      ],
      "text/plain": [
       "<IPython.core.display.Math object>"
      ]
     },
     "metadata": {},
     "output_type": "display_data"
    },
    {
     "data": {
      "text/latex": [
       "$\\displaystyle [25]\\text{   }{\\mathbf{{\\mathbf{{\\mathbf{{cons}}}}}}}_{{cement},{l0},{y}} - {\\mathbf{{\\mathbf{use}}}}_{{cement},{l0},{y},{\\mathbf{{cap}}},{wf}} - {\\mathbf{{\\mathbf{{\\mathbf{use}}}}}}_{{cement},{l0},{y},{\\mathbf{{cap}}},{pv}} - {\\mathbf{{\\mathbf{{\\mathbf{use}}}}}}_{{cement},{l0},{y},{\\mathbf{{icap}}},{lii.stored}} = 0$"
      ],
      "text/plain": [
       "<IPython.core.display.Math object>"
      ]
     },
     "metadata": {},
     "output_type": "display_data"
    },
    {
     "data": {
      "text/latex": [
       "$\\displaystyle [37]\\text{   }-{\\mathbf{{\\mathbf{{\\mathbf{{inv}}}}}}}_{{lii.stored},{l0},{y},{q}} + {\\mathbf{{\\mathbf{{\\mathbf{{inv}}}}}}}_{{lii.stored},{l0},{y},{{q}-1}} + {\\mathbf{{\\mathbf{{\\mathbf{prod}}}}}}_{{lii.stored},{l0},{y},{q},{\\mathbf{{opr}}},{lii.charge}} - {\\mathbf{{\\mathbf{{\\mathbf{{expd}}}}}}}_{{lii.stored},{l0},{y},{q},{\\mathbf{{opr}}},{lii.discharge}} = 0$"
      ],
      "text/plain": [
       "<IPython.core.display.Math object>"
      ]
     },
     "metadata": {},
     "output_type": "display_data"
    },
    {
     "data": {
      "text/markdown": [
       "### Binds Constraint Sets"
      ],
      "text/plain": [
       "<IPython.core.display.Markdown object>"
      ]
     },
     "metadata": {},
     "output_type": "display_data"
    },
    {
     "data": {
      "text/latex": [
       "$\\displaystyle [1]\\text{   }{\\mathbf{{\\mathbf{{cons}}}}}_{{solar},{l0},{y},{q}} - 100 \\leq 0$"
      ],
      "text/plain": [
       "<IPython.core.display.Math object>"
      ]
     },
     "metadata": {},
     "output_type": "display_data"
    },
    {
     "data": {
      "text/latex": [
       "$\\displaystyle [3]\\text{   }{\\mathbf{{\\mathbf{{\\mathbf{{cons}}}}}}}_{{wind},{l0},{y}} - 400 \\leq 0$"
      ],
      "text/plain": [
       "<IPython.core.display.Math object>"
      ]
     },
     "metadata": {},
     "output_type": "display_data"
    },
    {
     "data": {
      "text/latex": [
       "$\\displaystyle [5]\\text{   }-{\\mathbf{{\\mathbf{{rlse}}}}}_{{power},{l0},{y},{q}} + {\\mathrm{φ}}_{{}} \\leq 0$"
      ],
      "text/plain": [
       "<IPython.core.display.Math object>"
      ]
     },
     "metadata": {},
     "output_type": "display_data"
    },
    {
     "data": {
      "text/latex": [
       "$\\displaystyle [6]\\text{   }{\\mathbf{{\\mathbf{{cap}}}}}_{{wf},{l0},{y}} - 100 \\cdot {\\mathbf{{\\mathbf{{\\breve{{cap}}}}}}}_{{wf},{l0},{y}} \\leq 0$"
      ],
      "text/plain": [
       "<IPython.core.display.Math object>"
      ]
     },
     "metadata": {},
     "output_type": "display_data"
    },
    {
     "data": {
      "text/latex": [
       "$\\displaystyle [7]\\text{   }10 \\cdot {\\mathbf{{\\mathbf{{\\breve{{cap}}}}}}}_{{wf},{l0},{y}} - {\\mathbf{{\\mathbf{{cap}}}}}_{{wf},{l0},{y}} \\leq 0$"
      ],
      "text/plain": [
       "<IPython.core.display.Math object>"
      ]
     },
     "metadata": {},
     "output_type": "display_data"
    },
    {
     "data": {
      "text/latex": [
       "$\\displaystyle [8]\\text{   }{\\mathbf{{\\mathbf{{opr}}}}}_{{wf},{l0},{y},{q}} - {\\mathrm{φ}}_{{}} \\cdot {\\mathbf{{\\mathbf{{cap}}}}}_{{wf},{l0},{y}} \\leq 0$"
      ],
      "text/plain": [
       "<IPython.core.display.Math object>"
      ]
     },
     "metadata": {},
     "output_type": "display_data"
    },
    {
     "data": {
      "text/latex": [
       "$\\displaystyle [12]\\text{   }{\\mathbf{{\\mathbf{{\\mathbf{{cap}}}}}}}_{{pv},{l0},{y}} - 100 \\cdot {\\mathbf{{\\mathbf{{\\mathbf{{\\breve{{cap}}}}}}}}}_{{pv},{l0},{y}} \\leq 0$"
      ],
      "text/plain": [
       "<IPython.core.display.Math object>"
      ]
     },
     "metadata": {},
     "output_type": "display_data"
    },
    {
     "data": {
      "text/latex": [
       "$\\displaystyle [13]\\text{   }10 \\cdot {\\mathbf{{\\mathbf{{\\mathbf{{\\breve{{cap}}}}}}}}}_{{pv},{l0},{y}} - {\\mathbf{{\\mathbf{{\\mathbf{{cap}}}}}}}_{{pv},{l0},{y}} \\leq 0$"
      ],
      "text/plain": [
       "<IPython.core.display.Math object>"
      ]
     },
     "metadata": {},
     "output_type": "display_data"
    },
    {
     "data": {
      "text/latex": [
       "$\\displaystyle [14]\\text{   }{\\mathbf{{\\mathbf{{\\mathbf{{opr}}}}}}}_{{pv},{l0},{y},{q}} - {\\mathrm{φ}}_{{}} \\cdot {\\mathbf{{\\mathbf{{\\mathbf{{cap}}}}}}}_{{pv},{l0},{y}} \\leq 0$"
      ],
      "text/plain": [
       "<IPython.core.display.Math object>"
      ]
     },
     "metadata": {},
     "output_type": "display_data"
    },
    {
     "data": {
      "text/latex": [
       "$\\displaystyle [18]\\text{   }{\\mathbf{{\\mathbf{{icap}}}}}_{{lii.stored},{l0},{y}} - 100 \\cdot {\\mathbf{{\\mathbf{{\\breve{{icap}}}}}}}_{{lii.stored},{l0},{y}} \\leq 0$"
      ],
      "text/plain": [
       "<IPython.core.display.Math object>"
      ]
     },
     "metadata": {},
     "output_type": "display_data"
    },
    {
     "data": {
      "text/latex": [
       "$\\displaystyle [19]\\text{   }10 \\cdot {\\mathbf{{\\mathbf{{\\breve{{icap}}}}}}}_{{lii.stored},{l0},{y}} - {\\mathbf{{\\mathbf{{icap}}}}}_{{lii.stored},{l0},{y}} \\leq 0$"
      ],
      "text/plain": [
       "<IPython.core.display.Math object>"
      ]
     },
     "metadata": {},
     "output_type": "display_data"
    },
    {
     "data": {
      "text/latex": [
       "$\\displaystyle [26]\\text{   }{\\mathbf{{\\mathbf{{\\mathbf{{cons}}}}}}}_{{cement},{l0},{y}} - 1000000 \\leq 0$"
      ],
      "text/plain": [
       "<IPython.core.display.Math object>"
      ]
     },
     "metadata": {},
     "output_type": "display_data"
    },
    {
     "data": {
      "text/latex": [
       "$\\displaystyle [38]\\text{   }{\\mathbf{{\\mathbf{{\\mathbf{{inv}}}}}}}_{{lii.stored},{l0},{y},{q}} - {\\mathbf{{\\mathbf{{icap}}}}}_{{lii.stored},{l0},{y}} \\leq 0$"
      ],
      "text/plain": [
       "<IPython.core.display.Math object>"
      ]
     },
     "metadata": {},
     "output_type": "display_data"
    },
    {
     "data": {
      "text/latex": [
       "$\\displaystyle [39]\\text{   }{\\mathbf{{\\mathbf{{\\mathbf{{opr}}}}}}}_{{lii.charge},{l0},{y}} - {\\mathbf{{\\mathbf{{\\mathbf{{cap}}}}}}}_{{lii.charge},{l0},{y}} \\leq 0$"
      ],
      "text/plain": [
       "<IPython.core.display.Math object>"
      ]
     },
     "metadata": {},
     "output_type": "display_data"
    },
    {
     "data": {
      "text/latex": [
       "$\\displaystyle [43]\\text{   }{\\mathbf{{\\mathbf{{\\mathbf{{opr}}}}}}}_{{lii.discharge},{l0},{y}} - {\\mathbf{{\\mathbf{{\\mathbf{{cap}}}}}}}_{{lii.discharge},{l0},{y}} \\leq 0$"
      ],
      "text/plain": [
       "<IPython.core.display.Math object>"
      ]
     },
     "metadata": {},
     "output_type": "display_data"
    },
    {
     "data": {
      "text/markdown": [
       "### Calculations Constraint Sets"
      ],
      "text/plain": [
       "<IPython.core.display.Markdown object>"
      ]
     },
     "metadata": {},
     "output_type": "display_data"
    },
    {
     "data": {
      "text/latex": [
       "$\\displaystyle [9]\\text{   }{\\mathbf{{\\mathbf{spend}}}}_{{usd},{l0},{y},{\\mathbf{{cap}}},{wf}} - 993991 \\cdot {\\mathbf{{\\mathbf{{cap}}}}}_{{wf},{l0},{y}} = 0$"
      ],
      "text/plain": [
       "<IPython.core.display.Math object>"
      ]
     },
     "metadata": {},
     "output_type": "display_data"
    },
    {
     "data": {
      "text/latex": [
       "$\\displaystyle [11]\\text{   }{\\mathbf{{\\mathbf{{\\mathbf{spend}}}}}}_{{usd},{l0},{y},{\\mathbf{{opr}}},{wf}} - 49 \\cdot {\\mathbf{{\\mathbf{{\\mathbf{{opr}}}}}}}_{{wf},{l0},{y}} = 0$"
      ],
      "text/plain": [
       "<IPython.core.display.Math object>"
      ]
     },
     "metadata": {},
     "output_type": "display_data"
    },
    {
     "data": {
      "text/latex": [
       "$\\displaystyle [15]\\text{   }{\\mathbf{{\\mathbf{{\\mathbf{spend}}}}}}_{{usd},{l0},{y},{\\mathbf{{cap}}},{pv}} - 1439046 \\cdot {\\mathbf{{\\mathbf{{\\mathbf{{cap}}}}}}}_{{pv},{l0},{y}} = 0$"
      ],
      "text/plain": [
       "<IPython.core.display.Math object>"
      ]
     },
     "metadata": {},
     "output_type": "display_data"
    },
    {
     "data": {
      "text/latex": [
       "$\\displaystyle [17]\\text{   }{\\mathbf{{\\mathbf{{\\mathbf{spend}}}}}}_{{usd},{l0},{y},{\\mathbf{{opr}}},{pv}} - 90000 \\cdot {\\mathbf{{\\mathbf{{\\mathbf{{opr}}}}}}}_{{pv},{l0},{y}} = 0$"
      ],
      "text/plain": [
       "<IPython.core.display.Math object>"
      ]
     },
     "metadata": {},
     "output_type": "display_data"
    },
    {
     "data": {
      "text/latex": [
       "$\\displaystyle [20]\\text{   }{\\mathbf{{\\mathbf{{\\mathbf{spend}}}}}}_{{usd},{l0},{y},{\\mathbf{{icap}}},{lii.stored}} - 1343614 \\cdot {\\mathbf{{\\mathbf{{icap}}}}}_{{lii.stored},{l0},{y}} = 0$"
      ],
      "text/plain": [
       "<IPython.core.display.Math object>"
      ]
     },
     "metadata": {},
     "output_type": "display_data"
    },
    {
     "data": {
      "text/latex": [
       "$\\displaystyle [21]\\text{   }{\\mathbf{{\\mathbf{{\\mathbf{spend}}}}}}_{{usd},{l0},{y},{\\mathbf{{inv}}},{lii.stored}} - 2000 \\cdot {\\mathbf{{\\mathbf{{inv}}}}}_{{lii.stored},{l0},{y}} = 0$"
      ],
      "text/plain": [
       "<IPython.core.display.Math object>"
      ]
     },
     "metadata": {},
     "output_type": "display_data"
    },
    {
     "data": {
      "text/latex": [
       "$\\displaystyle [22]\\text{   }{\\mathbf{{\\mathbf{emit}}}}_{{gwp},{l0},{y},{\\mathbf{{cap}}},{wf}} - 1000 \\cdot {\\mathbf{{\\mathbf{{\\mathbf{{cap}}}}}}}_{{wf},{l0},{y}} = 0$"
      ],
      "text/plain": [
       "<IPython.core.display.Math object>"
      ]
     },
     "metadata": {},
     "output_type": "display_data"
    },
    {
     "data": {
      "text/latex": [
       "$\\displaystyle [23]\\text{   }{\\mathbf{{\\mathbf{{\\mathbf{emit}}}}}}_{{gwp},{l0},{y},{\\mathbf{{cap}}},{pv}} - 2000 \\cdot {\\mathbf{{\\mathbf{{\\mathbf{{cap}}}}}}}_{{pv},{l0},{y}} = 0$"
      ],
      "text/plain": [
       "<IPython.core.display.Math object>"
      ]
     },
     "metadata": {},
     "output_type": "display_data"
    },
    {
     "data": {
      "text/latex": [
       "$\\displaystyle [24]\\text{   }{\\mathbf{{\\mathbf{{\\mathbf{emit}}}}}}_{{gwp},{l0},{y},{\\mathbf{{icap}}},{lii.stored}} - 3000 \\cdot {\\mathbf{{\\mathbf{{icap}}}}}_{{lii.stored},{l0},{y}} = 0$"
      ],
      "text/plain": [
       "<IPython.core.display.Math object>"
      ]
     },
     "metadata": {},
     "output_type": "display_data"
    },
    {
     "data": {
      "text/latex": [
       "$\\displaystyle [27]\\text{   }{\\mathbf{{\\mathbf{{\\mathbf{spend}}}}}}_{{usd},{l0},{y},{\\mathbf{{cons}}},{cement}} - 17 \\cdot {\\mathbf{{\\mathbf{{\\mathbf{{cons}}}}}}}_{{cement},{l0},{y}} = 0$"
      ],
      "text/plain": [
       "<IPython.core.display.Math object>"
      ]
     },
     "metadata": {},
     "output_type": "display_data"
    },
    {
     "data": {
      "text/latex": [
       "$\\displaystyle [28]\\text{   }{\\mathbf{{\\mathbf{{\\mathbf{emit}}}}}}_{{gwp},{l0},{y},{\\mathbf{{cons}}},{cement}} - 0.9 \\cdot {\\mathbf{{\\mathbf{{\\mathbf{{cons}}}}}}}_{{cement},{l0},{y}} = 0$"
      ],
      "text/plain": [
       "<IPython.core.display.Math object>"
      ]
     },
     "metadata": {},
     "output_type": "display_data"
    },
    {
     "data": {
      "text/latex": [
       "$\\displaystyle [29]\\text{   }{\\mathbf{{\\mathbf{use}}}}_{{cement},{l0},{y},{\\mathbf{{cap}}},{wf}} - 400 \\cdot {\\mathbf{{\\mathbf{{\\mathbf{{cap}}}}}}}_{{wf},{l0},{y}} = 0$"
      ],
      "text/plain": [
       "<IPython.core.display.Math object>"
      ]
     },
     "metadata": {},
     "output_type": "display_data"
    },
    {
     "data": {
      "text/latex": [
       "$\\displaystyle [30]\\text{   }{\\mathbf{{\\mathbf{{\\mathbf{use}}}}}}_{{cement},{l0},{y},{\\mathbf{{cap}}},{pv}} - 560 \\cdot {\\mathbf{{\\mathbf{{\\mathbf{{cap}}}}}}}_{{pv},{l0},{y}} = 0$"
      ],
      "text/plain": [
       "<IPython.core.display.Math object>"
      ]
     },
     "metadata": {},
     "output_type": "display_data"
    },
    {
     "data": {
      "text/latex": [
       "$\\displaystyle [31]\\text{   }{\\mathbf{{\\mathbf{{\\mathbf{use}}}}}}_{{cement},{l0},{y},{\\mathbf{{icap}}},{lii.stored}} - 300 \\cdot {\\mathbf{{\\mathbf{{icap}}}}}_{{lii.stored},{l0},{y}} = 0$"
      ],
      "text/plain": [
       "<IPython.core.display.Math object>"
      ]
     },
     "metadata": {},
     "output_type": "display_data"
    },
    {
     "data": {
      "text/latex": [
       "$\\displaystyle [32]\\text{   }{\\mathbf{{\\mathbf{prod}}}}_{{power},{l0},{y},{q},{\\mathbf{{opr}}},{wf}} - {\\mathrm{φ}}_{{}} \\cdot {\\mathbf{{\\mathbf{{\\mathbf{{opr}}}}}}}_{{wf},{l0},{y},{q}} = 0$"
      ],
      "text/plain": [
       "<IPython.core.display.Math object>"
      ]
     },
     "metadata": {},
     "output_type": "display_data"
    },
    {
     "data": {
      "text/latex": [
       "$\\displaystyle [33]\\text{   }{\\mathbf{{\\mathbf{{expd}}}}}_{{wind},{l0},{y},{\\mathbf{{opr}}},{wf}} - {\\mathrm{φ}}_{{}} \\cdot {\\mathbf{{\\mathbf{{\\mathbf{{opr}}}}}}}_{{wf},{l0},{y}} = 0$"
      ],
      "text/plain": [
       "<IPython.core.display.Math object>"
      ]
     },
     "metadata": {},
     "output_type": "display_data"
    },
    {
     "data": {
      "text/latex": [
       "$\\displaystyle [34]\\text{   }{\\mathbf{{\\mathbf{{\\mathbf{prod}}}}}}_{{power},{l0},{y},{q},{\\mathbf{{opr}}},{pv}} - {\\mathrm{φ}}_{{}} \\cdot {\\mathbf{{\\mathbf{{\\mathbf{{opr}}}}}}}_{{pv},{l0},{y},{q}} = 0$"
      ],
      "text/plain": [
       "<IPython.core.display.Math object>"
      ]
     },
     "metadata": {},
     "output_type": "display_data"
    },
    {
     "data": {
      "text/latex": [
       "$\\displaystyle [35]\\text{   }{\\mathbf{{\\mathbf{{\\mathbf{{expd}}}}}}}_{{solar},{l0},{y},{q},{\\mathbf{{opr}}},{pv}} - {\\mathrm{φ}}_{{}} \\cdot {\\mathbf{{\\mathbf{{\\mathbf{{opr}}}}}}}_{{pv},{l0},{y},{q}} = 0$"
      ],
      "text/plain": [
       "<IPython.core.display.Math object>"
      ]
     },
     "metadata": {},
     "output_type": "display_data"
    },
    {
     "data": {
      "text/latex": [
       "$\\displaystyle [41]\\text{   }{\\mathbf{{\\mathbf{{\\mathbf{prod}}}}}}_{{lii.stored},{l0},{y},{q},{\\mathbf{{opr}}},{lii.charge}} - {\\mathrm{φ}}_{{}} \\cdot {\\mathbf{{\\mathbf{{\\mathbf{{opr}}}}}}}_{{lii.charge},{l0},{y},{q}} = 0$"
      ],
      "text/plain": [
       "<IPython.core.display.Math object>"
      ]
     },
     "metadata": {},
     "output_type": "display_data"
    },
    {
     "data": {
      "text/latex": [
       "$\\displaystyle [42]\\text{   }{\\mathbf{{\\mathbf{{\\mathbf{{expd}}}}}}}_{{power},{l0},{y},{q},{\\mathbf{{opr}}},{lii.charge}} - {\\mathrm{φ}}_{{}} \\cdot {\\mathbf{{\\mathbf{{\\mathbf{{opr}}}}}}}_{{lii.charge},{l0},{y},{q}} = 0$"
      ],
      "text/plain": [
       "<IPython.core.display.Math object>"
      ]
     },
     "metadata": {},
     "output_type": "display_data"
    },
    {
     "data": {
      "text/latex": [
       "$\\displaystyle [45]\\text{   }{\\mathbf{{\\mathbf{{\\mathbf{prod}}}}}}_{{power},{l0},{y},{q},{\\mathbf{{opr}}},{lii.discharge}} - {\\mathrm{φ}}_{{}} \\cdot {\\mathbf{{\\mathbf{{\\mathbf{{opr}}}}}}}_{{lii.discharge},{l0},{y},{q}} = 0$"
      ],
      "text/plain": [
       "<IPython.core.display.Math object>"
      ]
     },
     "metadata": {},
     "output_type": "display_data"
    },
    {
     "data": {
      "text/latex": [
       "$\\displaystyle [46]\\text{   }{\\mathbf{{\\mathbf{{\\mathbf{{expd}}}}}}}_{{lii.stored},{l0},{y},{q},{\\mathbf{{opr}}},{lii.discharge}} - {\\mathrm{φ}}_{{}} \\cdot {\\mathbf{{\\mathbf{{\\mathbf{{opr}}}}}}}_{{lii.discharge},{l0},{y},{q}} = 0$"
      ],
      "text/plain": [
       "<IPython.core.display.Math object>"
      ]
     },
     "metadata": {},
     "output_type": "display_data"
    },
    {
     "data": {
      "text/markdown": [
       "### Mapping Constraint Sets"
      ],
      "text/plain": [
       "<IPython.core.display.Markdown object>"
      ]
     },
     "metadata": {},
     "output_type": "display_data"
    },
    {
     "data": {
      "text/latex": [
       "$\\displaystyle [10]\\text{   }{\\mathbf{{\\mathbf{{\\mathbf{{opr}}}}}}}_{{wf},{l0},{y}} - \\sum_{i \\in q} {\\mathbf{{\\mathbf{{\\mathbf{{opr}}}}}}}_{{wf}, {l0}, {y}, i} = 0$"
      ],
      "text/plain": [
       "<IPython.core.display.Math object>"
      ]
     },
     "metadata": {},
     "output_type": "display_data"
    },
    {
     "data": {
      "text/latex": [
       "$\\displaystyle [16]\\text{   }{\\mathbf{{\\mathbf{{\\mathbf{{opr}}}}}}}_{{pv},{l0},{y}} - \\sum_{i \\in q} {\\mathbf{{\\mathbf{{\\mathbf{{opr}}}}}}}_{{pv}, {l0}, {y}, i} = 0$"
      ],
      "text/plain": [
       "<IPython.core.display.Math object>"
      ]
     },
     "metadata": {},
     "output_type": "display_data"
    },
    {
     "data": {
      "text/latex": [
       "$\\displaystyle [36]\\text{   }{\\mathbf{{\\mathbf{{\\mathbf{{inv}}}}}}}_{{lii.stored},{l0},{y}} - \\sum_{i \\in q} {\\mathbf{{\\mathbf{{\\mathbf{{inv}}}}}}}_{{lii.stored}, {l0}, {y}, i} = 0$"
      ],
      "text/plain": [
       "<IPython.core.display.Math object>"
      ]
     },
     "metadata": {},
     "output_type": "display_data"
    },
    {
     "data": {
      "text/latex": [
       "$\\displaystyle [40]\\text{   }{\\mathbf{{\\mathbf{{\\mathbf{{opr}}}}}}}_{{lii.charge},{l0},{y}} - \\sum_{i \\in q} {\\mathbf{{\\mathbf{{\\mathbf{{opr}}}}}}}_{{lii.charge}, {l0}, {y}, i} = 0$"
      ],
      "text/plain": [
       "<IPython.core.display.Math object>"
      ]
     },
     "metadata": {},
     "output_type": "display_data"
    },
    {
     "data": {
      "text/latex": [
       "$\\displaystyle [44]\\text{   }{\\mathbf{{\\mathbf{{\\mathbf{{opr}}}}}}}_{{lii.discharge},{l0},{y}} - \\sum_{i \\in q} {\\mathbf{{\\mathbf{{\\mathbf{{opr}}}}}}}_{{lii.discharge}, {l0}, {y}, i} = 0$"
      ],
      "text/plain": [
       "<IPython.core.display.Math object>"
      ]
     },
     "metadata": {},
     "output_type": "display_data"
    },
    {
     "data": {
      "text/latex": [
       "$\\displaystyle [47]\\text{   }{\\mathbf{{\\mathbf{{\\mathbf{emit}}}}}}_{{gwp},{l0},{y}} - {\\mathbf{{\\mathbf{{\\mathbf{{\\mathbf{emit}}}}}}}}_{{gwp},{l0},{y},{\\mathbf{{cap}}},{wf}} - {\\mathbf{{\\mathbf{{\\mathbf{{\\mathbf{emit}}}}}}}}_{{gwp},{l0},{y},{\\mathbf{{cap}}},{pv}} - {\\mathbf{{\\mathbf{{\\mathbf{{\\mathbf{emit}}}}}}}}_{{gwp},{l0},{y},{\\mathbf{{icap}}},{lii.stored}} - {\\mathbf{{\\mathbf{{\\mathbf{{\\mathbf{emit}}}}}}}}_{{gwp},{l0},{y},{\\mathbf{{cons}}},{cement}} = 0$"
      ],
      "text/plain": [
       "<IPython.core.display.Math object>"
      ]
     },
     "metadata": {},
     "output_type": "display_data"
    },
    {
     "data": {
      "text/latex": [
       "$\\displaystyle [48]\\text{   }{\\mathbf{{\\mathbf{{\\mathbf{spend}}}}}}_{{usd},{l0},{y}} - {\\mathbf{{\\mathbf{{\\mathbf{{\\mathbf{spend}}}}}}}}_{{usd},{l0},{y},{\\mathbf{{cap}}},{wf}} - {\\mathbf{{\\mathbf{{\\mathbf{{\\mathbf{spend}}}}}}}}_{{usd},{l0},{y},{\\mathbf{{opr}}},{wf}} - {\\mathbf{{\\mathbf{{\\mathbf{{\\mathbf{spend}}}}}}}}_{{usd},{l0},{y},{\\mathbf{{cap}}},{pv}} - {\\mathbf{{\\mathbf{{\\mathbf{{\\mathbf{spend}}}}}}}}_{{usd},{l0},{y},{\\mathbf{{opr}}},{pv}} - {\\mathbf{{\\mathbf{{\\mathbf{{\\mathbf{spend}}}}}}}}_{{usd},{l0},{y},{\\mathbf{{icap}}},{lii.stored}} - {\\mathbf{{\\mathbf{{\\mathbf{{\\mathbf{spend}}}}}}}}_{{usd},{l0},{y},{\\mathbf{{inv}}},{lii.stored}} - {\\mathbf{{\\mathbf{{\\mathbf{{\\mathbf{spend}}}}}}}}_{{usd},{l0},{y},{\\mathbf{{cons}}},{cement}} = 0$"
      ],
      "text/plain": [
       "<IPython.core.display.Math object>"
      ]
     },
     "metadata": {},
     "output_type": "display_data"
    },
    {
     "data": {
      "text/markdown": [
       "###  Function Sets"
      ],
      "text/plain": [
       "<IPython.core.display.Markdown object>"
      ]
     },
     "metadata": {},
     "output_type": "display_data"
    },
    {
     "data": {
      "text/latex": [
       "$\\displaystyle {\\mathbf{emit}}_{{gwp},{l0},{{{y}_{0}}}}$"
      ],
      "text/plain": [
       "<IPython.core.display.Math object>"
      ]
     },
     "metadata": {},
     "output_type": "display_data"
    },
    {
     "data": {
      "text/latex": [
       "$\\displaystyle {\\mathbf{spend}}_{{usd},{l0},{{{y}_{0}}}}$"
      ],
      "text/plain": [
       "<IPython.core.display.Math object>"
      ]
     },
     "metadata": {},
     "output_type": "display_data"
    }
   ],
   "source": [
    "m.show()"
   ]
  },
  {
   "cell_type": "code",
   "execution_count": 27,
   "id": "5ba2b0af",
   "metadata": {},
   "outputs": [
    {
     "data": {
      "text/markdown": [
       "# Solution for Program(design_scheduling_material)"
      ],
      "text/plain": [
       "<IPython.core.display.Markdown object>"
      ]
     },
     "metadata": {},
     "output_type": "display_data"
    },
    {
     "data": {
      "text/markdown": [
       "<br><br>"
      ],
      "text/plain": [
       "<IPython.core.display.Markdown object>"
      ]
     },
     "metadata": {},
     "output_type": "display_data"
    },
    {
     "data": {
      "text/markdown": [
       "## Objective"
      ],
      "text/plain": [
       "<IPython.core.display.Markdown object>"
      ]
     },
     "metadata": {},
     "output_type": "display_data"
    },
    {
     "data": {
      "text/latex": [
       "$\\displaystyle min \\hspace{0.2cm} {\\mathbf{emit}}_{{gwp},{l0},{{{y}_{0}}}}=475214.8148148147$"
      ],
      "text/plain": [
       "<IPython.core.display.Math object>"
      ]
     },
     "metadata": {},
     "output_type": "display_data"
    },
    {
     "data": {
      "text/markdown": [
       "<br><br>"
      ],
      "text/plain": [
       "<IPython.core.display.Markdown object>"
      ]
     },
     "metadata": {},
     "output_type": "display_data"
    },
    {
     "data": {
      "text/markdown": [
       "## Variables"
      ],
      "text/plain": [
       "<IPython.core.display.Markdown object>"
      ]
     },
     "metadata": {},
     "output_type": "display_data"
    },
    {
     "data": {
      "text/latex": [
       "$\\displaystyle {\\mathbf{{cons}}}_{{solar},{l0},{{{y}_{0}}},{{{q}_{0}}}}=66.6666666666667$"
      ],
      "text/plain": [
       "<IPython.core.display.Math object>"
      ]
     },
     "metadata": {},
     "output_type": "display_data"
    },
    {
     "data": {
      "text/latex": [
       "$\\displaystyle {\\mathbf{{cons}}}_{{solar},{l0},{{{y}_{0}}},{{{q}_{1}}}}=88.88888888888894$"
      ],
      "text/plain": [
       "<IPython.core.display.Math object>"
      ]
     },
     "metadata": {},
     "output_type": "display_data"
    },
    {
     "data": {
      "text/latex": [
       "$\\displaystyle {\\mathbf{{cons}}}_{{solar},{l0},{{{y}_{0}}},{{{q}_{2}}}}=100.00000000000006$"
      ],
      "text/plain": [
       "<IPython.core.display.Math object>"
      ]
     },
     "metadata": {},
     "output_type": "display_data"
    },
    {
     "data": {
      "text/latex": [
       "$\\displaystyle {\\mathbf{{cons}}}_{{solar},{l0},{{{y}_{0}}},{{{q}_{3}}}}=77.77777777777781$"
      ],
      "text/plain": [
       "<IPython.core.display.Math object>"
      ]
     },
     "metadata": {},
     "output_type": "display_data"
    },
    {
     "data": {
      "text/latex": [
       "$\\displaystyle {\\mathbf{{cons}}}_{{wind},{l0},{{{y}_{0}}}}=322.22222222222223$"
      ],
      "text/plain": [
       "<IPython.core.display.Math object>"
      ]
     },
     "metadata": {},
     "output_type": "display_data"
    },
    {
     "data": {
      "text/latex": [
       "$\\displaystyle {\\mathbf{{cons}}}_{{cement},{l0},{{{y}_{0}}}}=104148.14814814815$"
      ],
      "text/plain": [
       "<IPython.core.display.Math object>"
      ]
     },
     "metadata": {},
     "output_type": "display_data"
    },
    {
     "data": {
      "text/latex": [
       "$\\displaystyle {\\mathbf{{rlse}}}_{{power},{l0},{{{y}_{0}}},{{{q}_{0}}}}=159.78395061728415$"
      ],
      "text/plain": [
       "<IPython.core.display.Math object>"
      ]
     },
     "metadata": {},
     "output_type": "display_data"
    },
    {
     "data": {
      "text/latex": [
       "$\\displaystyle {\\mathbf{{rlse}}}_{{power},{l0},{{{y}_{0}}},{{{q}_{1}}}}=157.49999999999997$"
      ],
      "text/plain": [
       "<IPython.core.display.Math object>"
      ]
     },
     "metadata": {},
     "output_type": "display_data"
    },
    {
     "data": {
      "text/latex": [
       "$\\displaystyle {\\mathbf{{rlse}}}_{{power},{l0},{{{y}_{0}}},{{{q}_{2}}}}=180.0$"
      ],
      "text/plain": [
       "<IPython.core.display.Math object>"
      ]
     },
     "metadata": {},
     "output_type": "display_data"
    },
    {
     "data": {
      "text/latex": [
       "$\\displaystyle {\\mathbf{{rlse}}}_{{power},{l0},{{{y}_{0}}},{{{q}_{3}}}}=155.5555555555556$"
      ],
      "text/plain": [
       "<IPython.core.display.Math object>"
      ]
     },
     "metadata": {},
     "output_type": "display_data"
    },
    {
     "data": {
      "text/latex": [
       "$\\displaystyle {\\mathbf{{cap}}}_{{wf},{l0},{{{y}_{0}}}}=100.0$"
      ],
      "text/plain": [
       "<IPython.core.display.Math object>"
      ]
     },
     "metadata": {},
     "output_type": "display_data"
    },
    {
     "data": {
      "text/latex": [
       "$\\displaystyle {\\mathbf{{cap}}}_{{pv},{l0},{{{y}_{0}}}}=100.00000000000006$"
      ],
      "text/plain": [
       "<IPython.core.display.Math object>"
      ]
     },
     "metadata": {},
     "output_type": "display_data"
    },
    {
     "data": {
      "text/latex": [
       "$\\displaystyle {\\mathbf{{cap}}}_{{lii.charge},{l0},{{{y}_{0}}}}=27.160493827160423$"
      ],
      "text/plain": [
       "<IPython.core.display.Math object>"
      ]
     },
     "metadata": {},
     "output_type": "display_data"
    },
    {
     "data": {
      "text/latex": [
       "$\\displaystyle {\\mathbf{{cap}}}_{{lii.discharge},{l0},{{{y}_{0}}}}=24.44444444444438$"
      ],
      "text/plain": [
       "<IPython.core.display.Math object>"
      ]
     },
     "metadata": {},
     "output_type": "display_data"
    },
    {
     "data": {
      "text/latex": [
       "$\\displaystyle {\\mathbf{{\\breve{{cap}}}}}_{{wf},{l0},{{{y}_{0}}}}=1.0$"
      ],
      "text/plain": [
       "<IPython.core.display.Math object>"
      ]
     },
     "metadata": {},
     "output_type": "display_data"
    },
    {
     "data": {
      "text/latex": [
       "$\\displaystyle {\\mathbf{{\\breve{{cap}}}}}_{{pv},{l0},{{{y}_{0}}}}=1.0$"
      ],
      "text/plain": [
       "<IPython.core.display.Math object>"
      ]
     },
     "metadata": {},
     "output_type": "display_data"
    },
    {
     "data": {
      "text/latex": [
       "$\\displaystyle {\\mathbf{{opr}}}_{{wf},{l0},{{{y}_{0}}},{{{q}_{0}}}}=100.0$"
      ],
      "text/plain": [
       "<IPython.core.display.Math object>"
      ]
     },
     "metadata": {},
     "output_type": "display_data"
    },
    {
     "data": {
      "text/latex": [
       "$\\displaystyle {\\mathbf{{opr}}}_{{wf},{l0},{{{y}_{0}}},{{{q}_{1}}}}=88.8888888888889$"
      ],
      "text/plain": [
       "<IPython.core.display.Math object>"
      ]
     },
     "metadata": {},
     "output_type": "display_data"
    },
    {
     "data": {
      "text/latex": [
       "$\\displaystyle {\\mathbf{{opr}}}_{{wf},{l0},{{{y}_{0}}},{{{q}_{2}}}}=55.55555555555556$"
      ],
      "text/plain": [
       "<IPython.core.display.Math object>"
      ]
     },
     "metadata": {},
     "output_type": "display_data"
    },
    {
     "data": {
      "text/latex": [
       "$\\displaystyle {\\mathbf{{opr}}}_{{wf},{l0},{{{y}_{0}}},{{{q}_{3}}}}=77.77777777777777$"
      ],
      "text/plain": [
       "<IPython.core.display.Math object>"
      ]
     },
     "metadata": {},
     "output_type": "display_data"
    },
    {
     "data": {
      "text/latex": [
       "$\\displaystyle {\\mathbf{{opr}}}_{{wf},{l0},{{{y}_{0}}}}=322.22222222222223$"
      ],
      "text/plain": [
       "<IPython.core.display.Math object>"
      ]
     },
     "metadata": {},
     "output_type": "display_data"
    },
    {
     "data": {
      "text/latex": [
       "$\\displaystyle {\\mathbf{{opr}}}_{{pv},{l0},{{{y}_{0}}},{{{q}_{0}}}}=66.6666666666667$"
      ],
      "text/plain": [
       "<IPython.core.display.Math object>"
      ]
     },
     "metadata": {},
     "output_type": "display_data"
    },
    {
     "data": {
      "text/latex": [
       "$\\displaystyle {\\mathbf{{opr}}}_{{pv},{l0},{{{y}_{0}}},{{{q}_{1}}}}=88.88888888888894$"
      ],
      "text/plain": [
       "<IPython.core.display.Math object>"
      ]
     },
     "metadata": {},
     "output_type": "display_data"
    },
    {
     "data": {
      "text/latex": [
       "$\\displaystyle {\\mathbf{{opr}}}_{{pv},{l0},{{{y}_{0}}},{{{q}_{2}}}}=100.00000000000006$"
      ],
      "text/plain": [
       "<IPython.core.display.Math object>"
      ]
     },
     "metadata": {},
     "output_type": "display_data"
    },
    {
     "data": {
      "text/latex": [
       "$\\displaystyle {\\mathbf{{opr}}}_{{pv},{l0},{{{y}_{0}}},{{{q}_{3}}}}=77.77777777777781$"
      ],
      "text/plain": [
       "<IPython.core.display.Math object>"
      ]
     },
     "metadata": {},
     "output_type": "display_data"
    },
    {
     "data": {
      "text/latex": [
       "$\\displaystyle {\\mathbf{{opr}}}_{{pv},{l0},{{{y}_{0}}}}=333.33333333333354$"
      ],
      "text/plain": [
       "<IPython.core.display.Math object>"
      ]
     },
     "metadata": {},
     "output_type": "display_data"
    },
    {
     "data": {
      "text/latex": [
       "$\\displaystyle {\\mathbf{{opr}}}_{{lii.charge},{l0},{{{y}_{0}}}}=27.160493827160423$"
      ],
      "text/plain": [
       "<IPython.core.display.Math object>"
      ]
     },
     "metadata": {},
     "output_type": "display_data"
    },
    {
     "data": {
      "text/latex": [
       "$\\displaystyle {\\mathbf{{opr}}}_{{lii.charge},{l0},{{{y}_{0}}},{{{q}_{0}}}}=6.882716049382552$"
      ],
      "text/plain": [
       "<IPython.core.display.Math object>"
      ]
     },
     "metadata": {},
     "output_type": "display_data"
    },
    {
     "data": {
      "text/latex": [
       "$\\displaystyle {\\mathbf{{opr}}}_{{lii.charge},{l0},{{{y}_{0}}},{{{q}_{1}}}}=20.27777777777787$"
      ],
      "text/plain": [
       "<IPython.core.display.Math object>"
      ]
     },
     "metadata": {},
     "output_type": "display_data"
    },
    {
     "data": {
      "text/latex": [
       "$\\displaystyle {\\mathbf{{opr}}}_{{lii.charge},{l0},{{{y}_{0}}},{{{q}_{2}}}}=0.0$"
      ],
      "text/plain": [
       "<IPython.core.display.Math object>"
      ]
     },
     "metadata": {},
     "output_type": "display_data"
    },
    {
     "data": {
      "text/latex": [
       "$\\displaystyle {\\mathbf{{opr}}}_{{lii.charge},{l0},{{{y}_{0}}},{{{q}_{3}}}}=0.0$"
      ],
      "text/plain": [
       "<IPython.core.display.Math object>"
      ]
     },
     "metadata": {},
     "output_type": "display_data"
    },
    {
     "data": {
      "text/latex": [
       "$\\displaystyle {\\mathbf{{opr}}}_{{lii.discharge},{l0},{{{y}_{0}}}}=24.44444444444438$"
      ],
      "text/plain": [
       "<IPython.core.display.Math object>"
      ]
     },
     "metadata": {},
     "output_type": "display_data"
    },
    {
     "data": {
      "text/latex": [
       "$\\displaystyle {\\mathbf{{opr}}}_{{lii.discharge},{l0},{{{y}_{0}}},{{{q}_{0}}}}=0.0$"
      ],
      "text/plain": [
       "<IPython.core.display.Math object>"
      ]
     },
     "metadata": {},
     "output_type": "display_data"
    },
    {
     "data": {
      "text/latex": [
       "$\\displaystyle {\\mathbf{{opr}}}_{{lii.discharge},{l0},{{{y}_{0}}},{{{q}_{1}}}}=0.0$"
      ],
      "text/plain": [
       "<IPython.core.display.Math object>"
      ]
     },
     "metadata": {},
     "output_type": "display_data"
    },
    {
     "data": {
      "text/latex": [
       "$\\displaystyle {\\mathbf{{opr}}}_{{lii.discharge},{l0},{{{y}_{0}}},{{{q}_{2}}}}=24.44444444444438$"
      ],
      "text/plain": [
       "<IPython.core.display.Math object>"
      ]
     },
     "metadata": {},
     "output_type": "display_data"
    },
    {
     "data": {
      "text/latex": [
       "$\\displaystyle {\\mathbf{{opr}}}_{{lii.discharge},{l0},{{{y}_{0}}},{{{q}_{3}}}}=0.0$"
      ],
      "text/plain": [
       "<IPython.core.display.Math object>"
      ]
     },
     "metadata": {},
     "output_type": "display_data"
    },
    {
     "data": {
      "text/latex": [
       "$\\displaystyle {\\mathbf{spend}}_{{usd},{l0},{{{y}_{0}}},{\\mathbf{{cap}}},{wf}}=99399100.0$"
      ],
      "text/plain": [
       "<IPython.core.display.Math object>"
      ]
     },
     "metadata": {},
     "output_type": "display_data"
    },
    {
     "data": {
      "text/latex": [
       "$\\displaystyle {\\mathbf{spend}}_{{usd},{l0},{{{y}_{0}}},{\\mathbf{{opr}}},{wf}}=15788.888888888889$"
      ],
      "text/plain": [
       "<IPython.core.display.Math object>"
      ]
     },
     "metadata": {},
     "output_type": "display_data"
    },
    {
     "data": {
      "text/latex": [
       "$\\displaystyle {\\mathbf{spend}}_{{usd},{l0},{{{y}_{0}}},{\\mathbf{{cap}}},{pv}}=143904600.0000001$"
      ],
      "text/plain": [
       "<IPython.core.display.Math object>"
      ]
     },
     "metadata": {},
     "output_type": "display_data"
    },
    {
     "data": {
      "text/latex": [
       "$\\displaystyle {\\mathbf{spend}}_{{usd},{l0},{{{y}_{0}}},{\\mathbf{{opr}}},{pv}}=30000000.00000002$"
      ],
      "text/plain": [
       "<IPython.core.display.Math object>"
      ]
     },
     "metadata": {},
     "output_type": "display_data"
    },
    {
     "data": {
      "text/latex": [
       "$\\displaystyle {\\mathbf{spend}}_{{usd},{l0},{{{y}_{0}}},{\\mathbf{{icap}}},{lii.stored}}=36493219.75308632$"
      ],
      "text/plain": [
       "<IPython.core.display.Math object>"
      ]
     },
     "metadata": {},
     "output_type": "display_data"
    },
    {
     "data": {
      "text/latex": [
       "$\\displaystyle {\\mathbf{spend}}_{{usd},{l0},{{{y}_{0}}},{\\mathbf{{inv}}},{lii.stored}}=68086.41975308595$"
      ],
      "text/plain": [
       "<IPython.core.display.Math object>"
      ]
     },
     "metadata": {},
     "output_type": "display_data"
    },
    {
     "data": {
      "text/latex": [
       "$\\displaystyle {\\mathbf{spend}}_{{usd},{l0},{{{y}_{0}}},{\\mathbf{{cons}}},{cement}}=1770518.5185185184$"
      ],
      "text/plain": [
       "<IPython.core.display.Math object>"
      ]
     },
     "metadata": {},
     "output_type": "display_data"
    },
    {
     "data": {
      "text/latex": [
       "$\\displaystyle {\\mathbf{{icap}}}_{{lii.stored},{l0},{{{y}_{0}}}}=27.160493827160423$"
      ],
      "text/plain": [
       "<IPython.core.display.Math object>"
      ]
     },
     "metadata": {},
     "output_type": "display_data"
    },
    {
     "data": {
      "text/latex": [
       "$\\displaystyle {\\mathbf{{\\breve{{icap}}}}}_{{lii.stored},{l0},{{{y}_{0}}}}=1.0$"
      ],
      "text/plain": [
       "<IPython.core.display.Math object>"
      ]
     },
     "metadata": {},
     "output_type": "display_data"
    },
    {
     "data": {
      "text/latex": [
       "$\\displaystyle {\\mathbf{{inv}}}_{{lii.stored},{l0},{{{y}_{0}}}}=34.043209876542974$"
      ],
      "text/plain": [
       "<IPython.core.display.Math object>"
      ]
     },
     "metadata": {},
     "output_type": "display_data"
    },
    {
     "data": {
      "text/latex": [
       "$\\displaystyle {\\mathbf{{inv}}}_{{lii.stored},{l0},{{{y}_{0}}},{{{q}_{0}}}}=6.882716049382552$"
      ],
      "text/plain": [
       "<IPython.core.display.Math object>"
      ]
     },
     "metadata": {},
     "output_type": "display_data"
    },
    {
     "data": {
      "text/latex": [
       "$\\displaystyle {\\mathbf{{inv}}}_{{lii.stored},{l0},{{{y}_{0}}},{{{q}_{1}}}}=27.160493827160423$"
      ],
      "text/plain": [
       "<IPython.core.display.Math object>"
      ]
     },
     "metadata": {},
     "output_type": "display_data"
    },
    {
     "data": {
      "text/latex": [
       "$\\displaystyle {\\mathbf{{inv}}}_{{lii.stored},{l0},{{{y}_{0}}},{{{q}_{2}}}}=0.0$"
      ],
      "text/plain": [
       "<IPython.core.display.Math object>"
      ]
     },
     "metadata": {},
     "output_type": "display_data"
    },
    {
     "data": {
      "text/latex": [
       "$\\displaystyle {\\mathbf{{inv}}}_{{lii.stored},{l0},{{{y}_{0}}},{{{q}_{3}}}}=0.0$"
      ],
      "text/plain": [
       "<IPython.core.display.Math object>"
      ]
     },
     "metadata": {},
     "output_type": "display_data"
    },
    {
     "data": {
      "text/latex": [
       "$\\displaystyle {\\mathbf{emit}}_{{gwp},{l0},{{{y}_{0}}},{\\mathbf{{cap}}},{wf}}=100000.0$"
      ],
      "text/plain": [
       "<IPython.core.display.Math object>"
      ]
     },
     "metadata": {},
     "output_type": "display_data"
    },
    {
     "data": {
      "text/latex": [
       "$\\displaystyle {\\mathbf{emit}}_{{gwp},{l0},{{{y}_{0}}},{\\mathbf{{cap}}},{pv}}=200000.00000000012$"
      ],
      "text/plain": [
       "<IPython.core.display.Math object>"
      ]
     },
     "metadata": {},
     "output_type": "display_data"
    },
    {
     "data": {
      "text/latex": [
       "$\\displaystyle {\\mathbf{emit}}_{{gwp},{l0},{{{y}_{0}}},{\\mathbf{{icap}}},{lii.stored}}=81481.48148148127$"
      ],
      "text/plain": [
       "<IPython.core.display.Math object>"
      ]
     },
     "metadata": {},
     "output_type": "display_data"
    },
    {
     "data": {
      "text/latex": [
       "$\\displaystyle {\\mathbf{emit}}_{{gwp},{l0},{{{y}_{0}}},{\\mathbf{{cons}}},{cement}}=93733.33333333333$"
      ],
      "text/plain": [
       "<IPython.core.display.Math object>"
      ]
     },
     "metadata": {},
     "output_type": "display_data"
    },
    {
     "data": {
      "text/latex": [
       "$\\displaystyle {\\mathbf{emit}}_{{gwp},{l0},{{{y}_{0}}}}=475214.8148148147$"
      ],
      "text/plain": [
       "<IPython.core.display.Math object>"
      ]
     },
     "metadata": {},
     "output_type": "display_data"
    },
    {
     "data": {
      "text/latex": [
       "$\\displaystyle {\\mathbf{use}}_{{cement},{l0},{{{y}_{0}}},{\\mathbf{{cap}}},{wf}}=40000.0$"
      ],
      "text/plain": [
       "<IPython.core.display.Math object>"
      ]
     },
     "metadata": {},
     "output_type": "display_data"
    },
    {
     "data": {
      "text/latex": [
       "$\\displaystyle {\\mathbf{use}}_{{cement},{l0},{{{y}_{0}}},{\\mathbf{{cap}}},{pv}}=56000.00000000003$"
      ],
      "text/plain": [
       "<IPython.core.display.Math object>"
      ]
     },
     "metadata": {},
     "output_type": "display_data"
    },
    {
     "data": {
      "text/latex": [
       "$\\displaystyle {\\mathbf{use}}_{{cement},{l0},{{{y}_{0}}},{\\mathbf{{icap}}},{lii.stored}}=8148.148148148127$"
      ],
      "text/plain": [
       "<IPython.core.display.Math object>"
      ]
     },
     "metadata": {},
     "output_type": "display_data"
    },
    {
     "data": {
      "text/latex": [
       "$\\displaystyle {\\mathbf{prod}}_{{power},{l0},{{{y}_{0}}},{{{q}_{0}}},{\\mathbf{{opr}}},{wf}}=100.0$"
      ],
      "text/plain": [
       "<IPython.core.display.Math object>"
      ]
     },
     "metadata": {},
     "output_type": "display_data"
    },
    {
     "data": {
      "text/latex": [
       "$\\displaystyle {\\mathbf{prod}}_{{power},{l0},{{{y}_{0}}},{{{q}_{1}}},{\\mathbf{{opr}}},{wf}}=88.8888888888889$"
      ],
      "text/plain": [
       "<IPython.core.display.Math object>"
      ]
     },
     "metadata": {},
     "output_type": "display_data"
    },
    {
     "data": {
      "text/latex": [
       "$\\displaystyle {\\mathbf{prod}}_{{power},{l0},{{{y}_{0}}},{{{q}_{2}}},{\\mathbf{{opr}}},{wf}}=55.55555555555556$"
      ],
      "text/plain": [
       "<IPython.core.display.Math object>"
      ]
     },
     "metadata": {},
     "output_type": "display_data"
    },
    {
     "data": {
      "text/latex": [
       "$\\displaystyle {\\mathbf{prod}}_{{power},{l0},{{{y}_{0}}},{{{q}_{3}}},{\\mathbf{{opr}}},{wf}}=77.77777777777777$"
      ],
      "text/plain": [
       "<IPython.core.display.Math object>"
      ]
     },
     "metadata": {},
     "output_type": "display_data"
    },
    {
     "data": {
      "text/latex": [
       "$\\displaystyle {\\mathbf{prod}}_{{power},{l0},{{{y}_{0}}},{{{q}_{0}}},{\\mathbf{{opr}}},{pv}}=66.6666666666667$"
      ],
      "text/plain": [
       "<IPython.core.display.Math object>"
      ]
     },
     "metadata": {},
     "output_type": "display_data"
    },
    {
     "data": {
      "text/latex": [
       "$\\displaystyle {\\mathbf{prod}}_{{power},{l0},{{{y}_{0}}},{{{q}_{1}}},{\\mathbf{{opr}}},{pv}}=88.88888888888894$"
      ],
      "text/plain": [
       "<IPython.core.display.Math object>"
      ]
     },
     "metadata": {},
     "output_type": "display_data"
    },
    {
     "data": {
      "text/latex": [
       "$\\displaystyle {\\mathbf{prod}}_{{power},{l0},{{{y}_{0}}},{{{q}_{2}}},{\\mathbf{{opr}}},{pv}}=100.00000000000006$"
      ],
      "text/plain": [
       "<IPython.core.display.Math object>"
      ]
     },
     "metadata": {},
     "output_type": "display_data"
    },
    {
     "data": {
      "text/latex": [
       "$\\displaystyle {\\mathbf{prod}}_{{power},{l0},{{{y}_{0}}},{{{q}_{3}}},{\\mathbf{{opr}}},{pv}}=77.77777777777781$"
      ],
      "text/plain": [
       "<IPython.core.display.Math object>"
      ]
     },
     "metadata": {},
     "output_type": "display_data"
    },
    {
     "data": {
      "text/latex": [
       "$\\displaystyle {\\mathbf{prod}}_{{lii.stored},{l0},{{{y}_{0}}},{{{q}_{0}}},{\\mathbf{{opr}}},{lii.charge}}=6.882716049382552$"
      ],
      "text/plain": [
       "<IPython.core.display.Math object>"
      ]
     },
     "metadata": {},
     "output_type": "display_data"
    },
    {
     "data": {
      "text/latex": [
       "$\\displaystyle {\\mathbf{prod}}_{{lii.stored},{l0},{{{y}_{0}}},{{{q}_{1}}},{\\mathbf{{opr}}},{lii.charge}}=20.27777777777787$"
      ],
      "text/plain": [
       "<IPython.core.display.Math object>"
      ]
     },
     "metadata": {},
     "output_type": "display_data"
    },
    {
     "data": {
      "text/latex": [
       "$\\displaystyle {\\mathbf{prod}}_{{lii.stored},{l0},{{{y}_{0}}},{{{q}_{2}}},{\\mathbf{{opr}}},{lii.charge}}=0.0$"
      ],
      "text/plain": [
       "<IPython.core.display.Math object>"
      ]
     },
     "metadata": {},
     "output_type": "display_data"
    },
    {
     "data": {
      "text/latex": [
       "$\\displaystyle {\\mathbf{prod}}_{{lii.stored},{l0},{{{y}_{0}}},{{{q}_{3}}},{\\mathbf{{opr}}},{lii.charge}}=0.0$"
      ],
      "text/plain": [
       "<IPython.core.display.Math object>"
      ]
     },
     "metadata": {},
     "output_type": "display_data"
    },
    {
     "data": {
      "text/latex": [
       "$\\displaystyle {\\mathbf{prod}}_{{power},{l0},{{{y}_{0}}},{{{q}_{0}}},{\\mathbf{{opr}}},{lii.discharge}}=0.0$"
      ],
      "text/plain": [
       "<IPython.core.display.Math object>"
      ]
     },
     "metadata": {},
     "output_type": "display_data"
    },
    {
     "data": {
      "text/latex": [
       "$\\displaystyle {\\mathbf{prod}}_{{power},{l0},{{{y}_{0}}},{{{q}_{1}}},{\\mathbf{{opr}}},{lii.discharge}}=0.0$"
      ],
      "text/plain": [
       "<IPython.core.display.Math object>"
      ]
     },
     "metadata": {},
     "output_type": "display_data"
    },
    {
     "data": {
      "text/latex": [
       "$\\displaystyle {\\mathbf{prod}}_{{power},{l0},{{{y}_{0}}},{{{q}_{2}}},{\\mathbf{{opr}}},{lii.discharge}}=24.44444444444438$"
      ],
      "text/plain": [
       "<IPython.core.display.Math object>"
      ]
     },
     "metadata": {},
     "output_type": "display_data"
    },
    {
     "data": {
      "text/latex": [
       "$\\displaystyle {\\mathbf{prod}}_{{power},{l0},{{{y}_{0}}},{{{q}_{3}}},{\\mathbf{{opr}}},{lii.discharge}}=0.0$"
      ],
      "text/plain": [
       "<IPython.core.display.Math object>"
      ]
     },
     "metadata": {},
     "output_type": "display_data"
    },
    {
     "data": {
      "text/latex": [
       "$\\displaystyle {\\mathbf{{expd}}}_{{wind},{l0},{{{y}_{0}}},{\\mathbf{{opr}}},{wf}}=322.22222222222223$"
      ],
      "text/plain": [
       "<IPython.core.display.Math object>"
      ]
     },
     "metadata": {},
     "output_type": "display_data"
    },
    {
     "data": {
      "text/latex": [
       "$\\displaystyle {\\mathbf{{expd}}}_{{solar},{l0},{{{y}_{0}}},{{{q}_{0}}},{\\mathbf{{opr}}},{pv}}=66.6666666666667$"
      ],
      "text/plain": [
       "<IPython.core.display.Math object>"
      ]
     },
     "metadata": {},
     "output_type": "display_data"
    },
    {
     "data": {
      "text/latex": [
       "$\\displaystyle {\\mathbf{{expd}}}_{{solar},{l0},{{{y}_{0}}},{{{q}_{1}}},{\\mathbf{{opr}}},{pv}}=88.88888888888894$"
      ],
      "text/plain": [
       "<IPython.core.display.Math object>"
      ]
     },
     "metadata": {},
     "output_type": "display_data"
    },
    {
     "data": {
      "text/latex": [
       "$\\displaystyle {\\mathbf{{expd}}}_{{solar},{l0},{{{y}_{0}}},{{{q}_{2}}},{\\mathbf{{opr}}},{pv}}=100.00000000000006$"
      ],
      "text/plain": [
       "<IPython.core.display.Math object>"
      ]
     },
     "metadata": {},
     "output_type": "display_data"
    },
    {
     "data": {
      "text/latex": [
       "$\\displaystyle {\\mathbf{{expd}}}_{{solar},{l0},{{{y}_{0}}},{{{q}_{3}}},{\\mathbf{{opr}}},{pv}}=77.77777777777781$"
      ],
      "text/plain": [
       "<IPython.core.display.Math object>"
      ]
     },
     "metadata": {},
     "output_type": "display_data"
    },
    {
     "data": {
      "text/latex": [
       "$\\displaystyle {\\mathbf{{expd}}}_{{power},{l0},{{{y}_{0}}},{{{q}_{0}}},{\\mathbf{{opr}}},{lii.charge}}=6.882716049382552$"
      ],
      "text/plain": [
       "<IPython.core.display.Math object>"
      ]
     },
     "metadata": {},
     "output_type": "display_data"
    },
    {
     "data": {
      "text/latex": [
       "$\\displaystyle {\\mathbf{{expd}}}_{{power},{l0},{{{y}_{0}}},{{{q}_{1}}},{\\mathbf{{opr}}},{lii.charge}}=20.27777777777787$"
      ],
      "text/plain": [
       "<IPython.core.display.Math object>"
      ]
     },
     "metadata": {},
     "output_type": "display_data"
    },
    {
     "data": {
      "text/latex": [
       "$\\displaystyle {\\mathbf{{expd}}}_{{power},{l0},{{{y}_{0}}},{{{q}_{2}}},{\\mathbf{{opr}}},{lii.charge}}=0.0$"
      ],
      "text/plain": [
       "<IPython.core.display.Math object>"
      ]
     },
     "metadata": {},
     "output_type": "display_data"
    },
    {
     "data": {
      "text/latex": [
       "$\\displaystyle {\\mathbf{{expd}}}_{{power},{l0},{{{y}_{0}}},{{{q}_{3}}},{\\mathbf{{opr}}},{lii.charge}}=0.0$"
      ],
      "text/plain": [
       "<IPython.core.display.Math object>"
      ]
     },
     "metadata": {},
     "output_type": "display_data"
    },
    {
     "data": {
      "text/latex": [
       "$\\displaystyle {\\mathbf{{expd}}}_{{lii.stored},{l0},{{{y}_{0}}},{{{q}_{0}}},{\\mathbf{{opr}}},{lii.discharge}}=0.0$"
      ],
      "text/plain": [
       "<IPython.core.display.Math object>"
      ]
     },
     "metadata": {},
     "output_type": "display_data"
    },
    {
     "data": {
      "text/latex": [
       "$\\displaystyle {\\mathbf{{expd}}}_{{lii.stored},{l0},{{{y}_{0}}},{{{q}_{1}}},{\\mathbf{{opr}}},{lii.discharge}}=0.0$"
      ],
      "text/plain": [
       "<IPython.core.display.Math object>"
      ]
     },
     "metadata": {},
     "output_type": "display_data"
    },
    {
     "data": {
      "text/latex": [
       "$\\displaystyle {\\mathbf{{expd}}}_{{lii.stored},{l0},{{{y}_{0}}},{{{q}_{2}}},{\\mathbf{{opr}}},{lii.discharge}}=27.160493827160423$"
      ],
      "text/plain": [
       "<IPython.core.display.Math object>"
      ]
     },
     "metadata": {},
     "output_type": "display_data"
    },
    {
     "data": {
      "text/latex": [
       "$\\displaystyle {\\mathbf{{expd}}}_{{lii.stored},{l0},{{{y}_{0}}},{{{q}_{3}}},{\\mathbf{{opr}}},{lii.discharge}}=0.0$"
      ],
      "text/plain": [
       "<IPython.core.display.Math object>"
      ]
     },
     "metadata": {},
     "output_type": "display_data"
    }
   ],
   "source": [
    "m.output()"
   ]
  }
 ],
 "metadata": {
  "kernelspec": {
   "display_name": ".venv",
   "language": "python",
   "name": "python3"
  },
  "language_info": {
   "codemirror_mode": {
    "name": "ipython",
    "version": 3
   },
   "file_extension": ".py",
   "mimetype": "text/x-python",
   "name": "python",
   "nbconvert_exporter": "python",
   "pygments_lexer": "ipython3",
   "version": "3.13.9"
  }
 },
 "nbformat": 4,
 "nbformat_minor": 5
}
