{
 "cells": [
  {
   "cell_type": "markdown",
   "id": "69e19c5b",
   "metadata": {},
   "source": [
    "# Multiscale MILP\n",
    "\n",
    "This is a continuation of 'The Scheduling Example', refer to learn the basics on how Energia models processes. \n",
    "\n",
    "In this example, we add another Process [Solar PV] and Storage [Li-ion Battery]. Technology choice is modeled using binaries. Moreover, the model is multiscale as the operational capacities are decision variables. "
   ]
  },
  {
   "cell_type": "code",
   "execution_count": 25,
   "id": "81ad074e",
   "metadata": {},
   "outputs": [],
   "source": [
    "from energia import *\n",
    "\n",
    "m = Model('example2')\n",
    "m.q = Periods()\n",
    "m.y = 4 * m.q\n",
    "m.usd = Currency()"
   ]
  },
  {
   "cell_type": "markdown",
   "id": "a472f7e5",
   "metadata": {},
   "source": [
    "## Resources"
   ]
  },
  {
   "cell_type": "markdown",
   "id": "5ebced0e",
   "metadata": {},
   "source": [
    "### Conveniently declaring components\n",
    "\n",
    "Use m.declare(\\<Object Type\\>, \\<list of names\\>) to declare a large number of objects in one step."
   ]
  },
  {
   "cell_type": "code",
   "execution_count": 26,
   "id": "e9996b8f",
   "metadata": {},
   "outputs": [],
   "source": [
    "m.declare(Resource, ['power', 'wind', 'solar'])"
   ]
  },
  {
   "cell_type": "markdown",
   "id": "d43aca06",
   "metadata": {},
   "source": [
    "### Set bounds on Resource flows\n",
    "\n",
    "Unlike wind which has bound on the total consumption, we set a daily limit on solar energy. The same bound is repeated in each quarter. The following constraints are written.\n",
    "\n",
    "$\\mathbf{cons}_{solar, network, quarter_0} \\leq 100$\n",
    "\n",
    "$\\mathbf{cons}_{solar, network, quarter_1} \\leq 100$\n",
    "\n",
    "$\\mathbf{cons}_{solar, network, quarter_2} \\leq 100$\n",
    "\n",
    "$\\mathbf{cons}_{solar, network, quarter_3} \\leq 100$"
   ]
  },
  {
   "cell_type": "code",
   "execution_count": 27,
   "id": "45ebb26f",
   "metadata": {},
   "outputs": [
    {
     "name": "stderr",
     "output_type": "stream",
     "text": [
      "⚖   Initiated solar balance in (l0, q)                                      ⏱ 0.0001 s\n",
      "🔗  Bound [≤] solar consume in (l0, q)                                       ⏱ 0.0012 s\n",
      "⚖   Initiated wind balance in (l0, y)                                       ⏱ 0.0001 s\n",
      "🔗  Bound [≤] wind consume in (l0, y)                                        ⏱ 0.0009 s\n",
      "⚖   Initiated power balance in (l0, q)                                      ⏱ 0.0001 s\n",
      "🔗  Bound [≥] power release in (l0, q)                                       ⏱ 0.0012 s\n"
     ]
    }
   ],
   "source": [
    "m.solar.consume(m.q) <= 100\n",
    "m.wind.consume <= 400\n",
    "m.power.release.prep(180) >= [0.6, 0.7, 0.8, 0.3]"
   ]
  },
  {
   "cell_type": "markdown",
   "id": "89269641",
   "metadata": {},
   "source": [
    "## Operations "
   ]
  },
  {
   "cell_type": "markdown",
   "id": "e21925d4",
   "metadata": {},
   "source": [
    "### Capacity as a variable \n",
    "\n",
    "Here we want the optimization problem to determine the optimal capacity. Moreover, we set binaries to avoid the lower bound being adhered to if the process is not set up. \n",
    "\n",
    "If the bounds are meant to be compulsory limits, skip the .x "
   ]
  },
  {
   "cell_type": "code",
   "execution_count": 28,
   "id": "77f192a1",
   "metadata": {},
   "outputs": [
    {
     "name": "stderr",
     "output_type": "stream",
     "text": [
      "🔗  Bound [≤] wf capacity in (l0, y)                                         ⏱ 0.0003 s\n",
      "🔗  Bound [≥] wf capacity in (l0, y)                                         ⏱ 0.0003 s\n"
     ]
    },
    {
     "data": {
      "text/latex": [
       "$\\displaystyle [6]\\text{   }{\\mathbf{{\\mathbf{{cap}}}}}_{{wf},{l0},{y}} - 100 \\cdot {\\mathbf{{\\mathbf{{\\breve{{cap}}}}}}}_{{wf},{l0},{y}} \\leq 0$"
      ],
      "text/plain": [
       "<IPython.core.display.Math object>"
      ]
     },
     "metadata": {},
     "output_type": "display_data"
    },
    {
     "data": {
      "text/latex": [
       "$\\displaystyle [7]\\text{   }10 \\cdot {\\mathbf{{\\mathbf{{\\breve{{cap}}}}}}}_{{wf},{l0},{y}} - {\\mathbf{{\\mathbf{{cap}}}}}_{{wf},{l0},{y}} \\leq 0$"
      ],
      "text/plain": [
       "<IPython.core.display.Math object>"
      ]
     },
     "metadata": {},
     "output_type": "display_data"
    }
   ],
   "source": [
    "m.wf = Process()\n",
    "m.wf(m.power) == -1 * m.wind\n",
    "m.wf.capacity.x <= 100\n",
    "m.wf.capacity.x >= 10\n",
    "m.capacity.show()"
   ]
  },
  {
   "cell_type": "markdown",
   "id": "30670b61",
   "metadata": {},
   "source": [
    "Unlike in Example 1, where the capacity was know, capacity is a variable here. \n",
    "\n",
    "Moreover, the expenditure associated with operating and capacitating are different"
   ]
  },
  {
   "cell_type": "code",
   "execution_count": 29,
   "id": "a45c766c",
   "metadata": {},
   "outputs": [
    {
     "name": "stderr",
     "output_type": "stream",
     "text": [
      "🔗  Bound [≤] wf operate in (l0, q)                                          ⏱ 0.0003 s\n",
      "🧭  Mapped time for operate (wf, l0, q) ⟺ (wf, l0, y)                        ⏱ 0.0002 s\n"
     ]
    },
    {
     "data": {
      "text/latex": [
       "$\\displaystyle [20]\\text{   }{\\mathbf{{opr}}}_{{wf},{l0},{{{y}_{0}}},{{{q}_{0}}}} - 1.0 \\cdot {\\mathbf{{cap}}}_{{wf},{l0},{{{y}_{0}}}} \\leq 0$"
      ],
      "text/plain": [
       "<IPython.core.display.Math object>"
      ]
     },
     "metadata": {},
     "output_type": "display_data"
    },
    {
     "data": {
      "text/latex": [
       "$\\displaystyle [21]\\text{   }{\\mathbf{{opr}}}_{{wf},{l0},{{{y}_{0}}},{{{q}_{1}}}} - 0.888888888888889 \\cdot {\\mathbf{{cap}}}_{{wf},{l0},{{{y}_{0}}}} \\leq 0$"
      ],
      "text/plain": [
       "<IPython.core.display.Math object>"
      ]
     },
     "metadata": {},
     "output_type": "display_data"
    },
    {
     "data": {
      "text/latex": [
       "$\\displaystyle [22]\\text{   }{\\mathbf{{opr}}}_{{wf},{l0},{{{y}_{0}}},{{{q}_{2}}}} - 0.5555555555555556 \\cdot {\\mathbf{{cap}}}_{{wf},{l0},{{{y}_{0}}}} \\leq 0$"
      ],
      "text/plain": [
       "<IPython.core.display.Math object>"
      ]
     },
     "metadata": {},
     "output_type": "display_data"
    },
    {
     "data": {
      "text/latex": [
       "$\\displaystyle [23]\\text{   }{\\mathbf{{opr}}}_{{wf},{l0},{{{y}_{0}}},{{{q}_{3}}}} - 0.7777777777777777 \\cdot {\\mathbf{{cap}}}_{{wf},{l0},{{{y}_{0}}}} \\leq 0$"
      ],
      "text/plain": [
       "<IPython.core.display.Math object>"
      ]
     },
     "metadata": {},
     "output_type": "display_data"
    },
    {
     "data": {
      "text/latex": [
       "$\\displaystyle [25]\\text{   }{\\mathbf{{opr}}}_{{wf},{l0},{{{y}_{0}}}} - \\sum_{i \\in q} {\\mathbf{{opr}}}_{{wf}, {l0}, {{{y}_{0}}}, i} = 0$"
      ],
      "text/plain": [
       "<IPython.core.display.Math object>"
      ]
     },
     "metadata": {},
     "output_type": "display_data"
    },
    {
     "data": {
      "text/latex": [
       "$\\displaystyle [26]\\text{   }{\\mathbf{spend}}_{{usd},{l0},{{{y}_{0}}},{\\mathbf{{opr}}},{wf}} - 49.0 \\cdot {\\mathbf{{opr}}}_{{wf},{l0},{{{y}_{0}}}} = 0$"
      ],
      "text/plain": [
       "<IPython.core.display.Math object>"
      ]
     },
     "metadata": {},
     "output_type": "display_data"
    }
   ],
   "source": [
    "m.wf.operate.prep(norm=True) <= [0.9, 0.8, 0.5, 0.7]\n",
    "m.wf.capacity[m.usd.spend] == 990637 + 3354\n",
    "m.wf.operate[m.usd.spend] == 49\n",
    "m.operate.show(True)"
   ]
  },
  {
   "cell_type": "code",
   "execution_count": 30,
   "id": "11fa2491",
   "metadata": {},
   "outputs": [
    {
     "name": "stderr",
     "output_type": "stream",
     "text": [
      "🔗  Bound [≤] pv capacity in (l0, y)                                         ⏱ 0.0005 s\n",
      "🔗  Bound [≥] pv capacity in (l0, y)                                         ⏱ 0.0002 s\n",
      "🔗  Bound [≤] pv operate in (l0, q)                                          ⏱ 0.0003 s\n",
      "🧭  Mapped time for operate (pv, l0, q) ⟺ (pv, l0, y)                        ⏱ 0.0002 s\n"
     ]
    }
   ],
   "source": [
    "m.pv = Process()\n",
    "m.pv(m.power) == -1 * m.solar\n",
    "m.pv.capacity.x <= 100\n",
    "m.pv.capacity.x >= 10\n",
    "\n",
    "m.pv.operate.prep(norm=True) <= [0.6, 0.8, 0.9, 0.7]\n",
    "m.pv.capacity[m.usd.spend] == 567000 + 872046\n",
    "m.pv.operate[m.usd.spend] == 90000"
   ]
  },
  {
   "cell_type": "markdown",
   "id": "66c1382e",
   "metadata": {},
   "source": [
    "### Storage Operation\n",
    "\n",
    "energia now allows storing to require the use of other resources, example power for hydrogen cryogenic storage. \n",
    "\n",
    "Provide an equation similar to Process, in this case the basis is the stored resource \n",
    "If no other resource is provided, it is assumed to be the charging/discharging efficiency\n",
    "\n",
    "Note that the following are created internally: \n",
    "1. auxilary resource  with name resource.stored \n",
    "2. charging and discharging processes as storage.charge and storage.discharge \n",
    "\n",
    "The parameters for each of these can be set individually, thus allowing for a wide range of modeling approaches "
   ]
  },
  {
   "cell_type": "code",
   "execution_count": 31,
   "id": "443ea12a",
   "metadata": {},
   "outputs": [
    {
     "name": "stderr",
     "output_type": "stream",
     "text": [
      "🔗  Bound [≤] lii.stored invcapacity in (l0, y)                              ⏱ 0.0003 s\n",
      "🔗  Bound [≥] lii.stored invcapacity in (l0, y)                              ⏱ 0.0002 s\n"
     ]
    }
   ],
   "source": [
    "m.lii = Storage()\n",
    "\n",
    "m.lii(m.power) == 0.9\n",
    "m.lii.capacity.x <= 100\n",
    "m.lii.capacity.x >= 10\n",
    "\n",
    "# m.lii.capacity >= 10\n",
    "m.lii.capacity[m.usd.spend] == 1302182 + 41432\n",
    "\n",
    "m.lii.inventory[m.usd.spend] == 2000\n"
   ]
  },
  {
   "cell_type": "markdown",
   "id": "e68b8abc",
   "metadata": {},
   "source": [
    "## Locating Operations\n",
    "\n",
    "Operations can be located as \n",
    "\n",
    "operation.locate(\\<list of locations\\>)\n",
    "\n",
    "or \n",
    "\n",
    "m.location.operations(\\<list of operations\\>)\n",
    "\n",
    "They both do the same thing "
   ]
  },
  {
   "cell_type": "code",
   "execution_count": 32,
   "id": "65247cfa",
   "metadata": {},
   "outputs": [
    {
     "name": "stderr",
     "output_type": "stream",
     "text": [
      "💡  Assumed pv capacity unbounded in (l0, y)                                 ⏱ 0.0001 s\n",
      "💡  Assumed pv operate bounded by capacity in (l0, q)                        ⏱ 0.0001 s\n",
      "⚖   Updated power balance with produce(power, l0, q, operate, pv)           ⏱ 0.0001 s\n",
      "⚖   Updated solar balance with expend(solar, l0, q, operate, pv)            ⏱ 0.0001 s\n",
      "🏭  Operating streams introduced for pv in l0                                ⏱ 0.0020 s\n",
      "🏗   Construction streams introduced for pv in l0                            ⏱ 0.0000 s\n",
      "🌍  Located pv in l0                                                         ⏱ 0.0035 s\n",
      "💡  Assumed wf capacity unbounded in (l0, y)                                 ⏱ 0.0001 s\n",
      "💡  Assumed wf operate bounded by capacity in (l0, q)                        ⏱ 0.0001 s\n",
      "⚖   Updated power balance with produce(power, l0, q, operate, wf)           ⏱ 0.0001 s\n",
      "⚖   Updated wind balance with expend(wind, l0, y, operate, wf)              ⏱ 0.0001 s\n",
      "🏭  Operating streams introduced for wf in l0                                ⏱ 0.0017 s\n",
      "🏗   Construction streams introduced for wf in l0                            ⏱ 0.0000 s\n",
      "🌍  Located wf in l0                                                         ⏱ 0.0029 s\n",
      "💡  Assumed lii capacity unbounded in (l0, y)                                ⏱ 0.0001 s\n",
      "🧭  Mapped time for inventory (lii.stored, l0, q) ⟺ (lii.stored, l0, y)      ⏱ 0.0003 s\n",
      "⚖   Initiated lii.stored balance in (l0, q)                                 ⏱ 0.0003 s\n",
      "🔗  Bound [≤] lii.stored inventory in (l0, q)                                ⏱ 0.0017 s\n",
      "💡  Assumed lii inventory bounded by capacity in (l0, q)                     ⏱ 0.0021 s\n",
      "💡  Assumed lii.charge capacity unbounded in (l0, y)                         ⏱ 0.0002 s\n",
      "🔗  Bound [≤] lii.charge operate in (l0, y)                                  ⏱ 0.0002 s\n",
      "💡  Assumed lii.charge operate bounded by capacity in (l0, y)                ⏱ 0.0006 s\n",
      "⚖   Updated lii.stored balance with produce(lii.stored, l0, q, operate, lii.charge) ⏱ 0.0001 s\n",
      "🧭  Mapped time for operate (lii.charge, l0, q) ⟺ (lii.charge, l0, y)        ⏱ 0.0002 s\n",
      "⚖   Updated power balance with expend(power, l0, q, operate, lii.charge)    ⏱ 0.0001 s\n",
      "🏭  Operating streams introduced for lii.charge in l0                        ⏱ 0.0025 s\n",
      "🏗   Construction streams introduced for lii.charge in l0                    ⏱ 0.0000 s\n",
      "🌍  Located lii.charge in l0                                                 ⏱ 0.0042 s\n",
      "💡  Assumed lii.discharge capacity unbounded in (l0, y)                      ⏱ 0.0003 s\n",
      "🔗  Bound [≤] lii.discharge operate in (l0, y)                               ⏱ 0.0003 s\n",
      "💡  Assumed lii.discharge operate bounded by capacity in (l0, y)             ⏱ 0.0006 s\n",
      "⚖   Updated power balance with produce(power, l0, q, operate, lii.discharge) ⏱ 0.0002 s\n",
      "🧭  Mapped time for operate (lii.discharge, l0, q) ⟺ (lii.discharge, l0, y)  ⏱ 0.0002 s\n",
      "⚖   Updated lii.stored balance with expend(lii.stored, l0, q, operate, lii.discharge) ⏱ 0.0002 s\n",
      "🏭  Operating streams introduced for lii.discharge in l0                     ⏱ 0.0036 s\n",
      "🏗   Construction streams introduced for lii.discharge in l0                 ⏱ 0.0000 s\n",
      "🌍  Located lii.discharge in l0                                              ⏱ 0.0061 s\n",
      "🏗   Construction streams introduced for lii in l0                           ⏱ 0.0000 s\n",
      "🌍  Located lii in l0                                                        ⏱ 0.0138 s\n"
     ]
    }
   ],
   "source": [
    "m.pv.locate(m.network)\n",
    "m.network.locate(m.wf, m.lii)"
   ]
  },
  {
   "cell_type": "markdown",
   "id": "85f87873",
   "metadata": {},
   "source": [
    "## Inventory Balance\n",
    "\n",
    "Inventory is passed on from one time period (t - 1) to the next (t) and hence features in the general resource balance for resource.stored "
   ]
  },
  {
   "cell_type": "code",
   "execution_count": 33,
   "id": "f44a61c2",
   "metadata": {},
   "outputs": [
    {
     "data": {
      "text/latex": [
       "$\\displaystyle [21]\\text{   }{\\mathbf{{\\mathbf{{\\mathbf{spend}}}}}}_{{usd},{l0},{y},{\\mathbf{{inv}}},{lii.stored}} - 2000 \\cdot {\\mathbf{{\\mathbf{{inv}}}}}_{{lii.stored},{l0},{y}} = 0$"
      ],
      "text/plain": [
       "<IPython.core.display.Math object>"
      ]
     },
     "metadata": {},
     "output_type": "display_data"
    },
    {
     "data": {
      "text/latex": [
       "$\\displaystyle [26]\\text{   }{\\mathbf{{\\mathbf{{\\mathbf{{inv}}}}}}}_{{lii.stored},{l0},{y}} - \\sum_{i \\in q} {\\mathbf{{\\mathbf{{\\mathbf{{inv}}}}}}}_{{lii.stored}, {l0}, {y}, i} = 0$"
      ],
      "text/plain": [
       "<IPython.core.display.Math object>"
      ]
     },
     "metadata": {},
     "output_type": "display_data"
    },
    {
     "data": {
      "text/latex": [
       "$\\displaystyle [27]\\text{   }-{\\mathbf{{\\mathbf{{\\mathbf{{inv}}}}}}}_{{lii.stored},{l0},{y},{q}} + {\\mathbf{{\\mathbf{{\\mathbf{{inv}}}}}}}_{{lii.stored},{l0},{y},{{q}-1}} + {\\mathbf{{\\mathbf{{\\mathbf{prod}}}}}}_{{lii.stored},{l0},{y},{q},{\\mathbf{{opr}}},{lii.charge}} - {\\mathbf{{\\mathbf{{\\mathbf{{expd}}}}}}}_{{lii.stored},{l0},{y},{q},{\\mathbf{{opr}}},{lii.discharge}} = 0$"
      ],
      "text/plain": [
       "<IPython.core.display.Math object>"
      ]
     },
     "metadata": {},
     "output_type": "display_data"
    },
    {
     "data": {
      "text/latex": [
       "$\\displaystyle [28]\\text{   }{\\mathbf{{\\mathbf{{\\mathbf{{inv}}}}}}}_{{lii.stored},{l0},{y},{q}} - {\\mathbf{{\\mathbf{{icap}}}}}_{{lii.stored},{l0},{y}} \\leq 0$"
      ],
      "text/plain": [
       "<IPython.core.display.Math object>"
      ]
     },
     "metadata": {},
     "output_type": "display_data"
    }
   ],
   "source": [
    "m.inventory.show()"
   ]
  },
  {
   "cell_type": "markdown",
   "id": "64c93a46",
   "metadata": {},
   "source": [
    "## Optimize!"
   ]
  },
  {
   "cell_type": "code",
   "execution_count": 34,
   "id": "b2d5463b",
   "metadata": {},
   "outputs": [
    {
     "name": "stderr",
     "output_type": "stream",
     "text": [
      "🧭  Mapped samples for spend (usd, l0, y, capacity, wf) ⟺ (usd, l0, y)       ⏱ 0.0002 s\n",
      "🧭  Mapped samples for spend (usd, l0, y, operate, wf) ⟺ (usd, l0, y)        ⏱ 0.0002 s\n",
      "🧭  Mapped samples for spend (usd, l0, y, capacity, pv) ⟺ (usd, l0, y)       ⏱ 0.0003 s\n",
      "🧭  Mapped samples for spend (usd, l0, y, operate, pv) ⟺ (usd, l0, y)        ⏱ 0.0002 s\n",
      "🧭  Mapped samples for spend (usd, l0, y, invcapacity, lii.stored) ⟺ (usd, l0, y) ⏱ 0.0002 s\n",
      "🧭  Mapped samples for spend (usd, l0, y, inventory, lii.stored) ⟺ (usd, l0, y) ⏱ 0.0002 s\n",
      "📝  Generated Program(example2).mps                                          ⏱ 0.0053 s\n"
     ]
    },
    {
     "name": "stdout",
     "output_type": "stream",
     "text": [
      "Read MPS format model from file Program(example2).mps\n",
      "Reading time = 0.00 seconds\n",
      "PROGRAM(EXAMPLE2): 83 rows, 78 columns, 196 nonzeros\n"
     ]
    },
    {
     "name": "stderr",
     "output_type": "stream",
     "text": [
      "📝  Generated gurobipy model. See .formulation                               ⏱ 0.0073 s\n"
     ]
    },
    {
     "name": "stdout",
     "output_type": "stream",
     "text": [
      "Gurobi Optimizer version 12.0.3 build v12.0.3rc0 (win64 - Windows 11.0 (26100.2))\n",
      "\n",
      "CPU model: 13th Gen Intel(R) Core(TM) i7-13700, instruction set [SSE2|AVX|AVX2]\n",
      "Thread count: 16 physical cores, 24 logical processors, using up to 24 threads\n",
      "\n",
      "Optimize a model with 83 rows, 78 columns and 196 nonzeros\n",
      "Model fingerprint: 0xc4ff6a31\n",
      "Variable types: 75 continuous, 3 integer (3 binary)\n",
      "Coefficient statistics:\n",
      "  Matrix range     [6e-01, 1e+06]\n",
      "  Objective range  [1e+00, 1e+00]\n",
      "  Bounds range     [1e+00, 1e+00]\n",
      "  RHS range        [7e+01, 4e+02]\n",
      "Presolve removed 71 rows and 66 columns\n",
      "Presolve time: 0.00s\n",
      "Presolved: 12 rows, 12 columns, 34 nonzeros\n",
      "Variable types: 12 continuous, 0 integer (0 binary)\n",
      "\n",
      "Root relaxation: objective 3.006497e+08, 6 iterations, 0.00 seconds (0.00 work units)\n",
      "\n",
      "    Nodes    |    Current Node    |     Objective Bounds      |     Work\n",
      " Expl Unexpl |  Obj  Depth IntInf | Incumbent    BestBd   Gap | It/Node Time\n",
      "\n",
      "*    0     0               0    3.006497e+08 3.0065e+08  0.00%     -    0s\n",
      "\n",
      "Explored 1 nodes (6 simplex iterations) in 0.01 seconds (0.00 work units)\n",
      "Thread count was 24 (of 24 available processors)\n",
      "\n",
      "Solution count 1: 3.0065e+08 \n",
      "\n",
      "Optimal solution found (tolerance 1.00e-04)\n",
      "Best objective 3.006497358951e+08, best bound 3.006497358951e+08, gap 0.0000%\n"
     ]
    },
    {
     "name": "stderr",
     "output_type": "stream",
     "text": [
      "📝  Generated Solution object for Program(example2). See .solution           ⏱ 0.0004 s\n",
      "✅  Program(example2) optimized using gurobi. Display using .output()        ⏱ 0.0166 s\n"
     ]
    }
   ],
   "source": [
    "m.usd.spend.opt()"
   ]
  },
  {
   "cell_type": "code",
   "execution_count": 35,
   "id": "76c3cee0",
   "metadata": {},
   "outputs": [
    {
     "data": {
      "text/markdown": [
       "# Mathematical Program for Program(example2)"
      ],
      "text/plain": [
       "<IPython.core.display.Markdown object>"
      ]
     },
     "metadata": {},
     "output_type": "display_data"
    },
    {
     "data": {
      "text/markdown": [
       "<br><br>"
      ],
      "text/plain": [
       "<IPython.core.display.Markdown object>"
      ]
     },
     "metadata": {},
     "output_type": "display_data"
    },
    {
     "data": {
      "text/markdown": [
       "## Index Sets"
      ],
      "text/plain": [
       "<IPython.core.display.Markdown object>"
      ]
     },
     "metadata": {},
     "output_type": "display_data"
    },
    {
     "data": {
      "text/latex": [
       "$\\displaystyle {currencies} = \\{ {{usd}} \\}$"
      ],
      "text/plain": [
       "<IPython.core.display.Math object>"
      ]
     },
     "metadata": {},
     "output_type": "display_data"
    },
    {
     "data": {
      "text/latex": [
       "$\\displaystyle {resources} = \\{ {{power}, {wind}, {solar}, {lii.stored}} \\}$"
      ],
      "text/plain": [
       "<IPython.core.display.Math object>"
      ]
     },
     "metadata": {},
     "output_type": "display_data"
    },
    {
     "data": {
      "text/latex": [
       "$\\displaystyle {locations} = \\{ {{l0}} \\}$"
      ],
      "text/plain": [
       "<IPython.core.display.Math object>"
      ]
     },
     "metadata": {},
     "output_type": "display_data"
    },
    {
     "data": {
      "text/latex": [
       "$\\displaystyle {y} = \\{ {{{{y}_{0}}}} \\}$"
      ],
      "text/plain": [
       "<IPython.core.display.Math object>"
      ]
     },
     "metadata": {},
     "output_type": "display_data"
    },
    {
     "data": {
      "text/latex": [
       "$\\displaystyle {q} = \\{ {{{{q}_{0}}}, {{{q}_{1}}}, {{{q}_{2}}}, {{{q}_{3}}}} \\}$"
      ],
      "text/plain": [
       "<IPython.core.display.Math object>"
      ]
     },
     "metadata": {},
     "output_type": "display_data"
    },
    {
     "data": {
      "text/latex": [
       "$\\displaystyle {processes} = \\{ {{wf}, {pv}, {lii.charge}, {lii.discharge}} \\}$"
      ],
      "text/plain": [
       "<IPython.core.display.Math object>"
      ]
     },
     "metadata": {},
     "output_type": "display_data"
    },
    {
     "data": {
      "text/latex": [
       "$\\displaystyle {storages} = \\{ {{lii}} \\}$"
      ],
      "text/plain": [
       "<IPython.core.display.Math object>"
      ]
     },
     "metadata": {},
     "output_type": "display_data"
    },
    {
     "data": {
      "text/markdown": [
       "<br><br>"
      ],
      "text/plain": [
       "<IPython.core.display.Markdown object>"
      ]
     },
     "metadata": {},
     "output_type": "display_data"
    },
    {
     "data": {
      "text/markdown": [
       "## Objective"
      ],
      "text/plain": [
       "<IPython.core.display.Markdown object>"
      ]
     },
     "metadata": {},
     "output_type": "display_data"
    },
    {
     "data": {
      "text/latex": [
       "$\\displaystyle min \\hspace{0.2cm} {\\mathbf{spend}}_{{usd},{l0},{{{y}_{0}}}}$"
      ],
      "text/plain": [
       "<IPython.core.display.Math object>"
      ]
     },
     "metadata": {},
     "output_type": "display_data"
    },
    {
     "data": {
      "text/markdown": [
       "<br><br>"
      ],
      "text/plain": [
       "<IPython.core.display.Markdown object>"
      ]
     },
     "metadata": {},
     "output_type": "display_data"
    },
    {
     "data": {
      "text/markdown": [
       "## s.t."
      ],
      "text/plain": [
       "<IPython.core.display.Markdown object>"
      ]
     },
     "metadata": {},
     "output_type": "display_data"
    },
    {
     "data": {
      "text/markdown": [
       "### Balance Constraints"
      ],
      "text/plain": [
       "<IPython.core.display.Markdown object>"
      ]
     },
     "metadata": {},
     "output_type": "display_data"
    },
    {
     "data": {
      "text/latex": [
       "$\\displaystyle [29]\\text{   }{\\mathbf{{cons}}}_{{solar},{l0},{{{y}_{0}}},{{{q}_{0}}}} - {\\mathbf{{expd}}}_{{solar},{l0},{{{y}_{0}}},{{{q}_{0}}},{\\mathbf{{opr}}},{pv}} = 0$"
      ],
      "text/plain": [
       "<IPython.core.display.Math object>"
      ]
     },
     "metadata": {},
     "output_type": "display_data"
    },
    {
     "data": {
      "text/latex": [
       "$\\displaystyle [30]\\text{   }{\\mathbf{{cons}}}_{{solar},{l0},{{{y}_{0}}},{{{q}_{1}}}} - {\\mathbf{{expd}}}_{{solar},{l0},{{{y}_{0}}},{{{q}_{1}}},{\\mathbf{{opr}}},{pv}} = 0$"
      ],
      "text/plain": [
       "<IPython.core.display.Math object>"
      ]
     },
     "metadata": {},
     "output_type": "display_data"
    },
    {
     "data": {
      "text/latex": [
       "$\\displaystyle [31]\\text{   }{\\mathbf{{cons}}}_{{solar},{l0},{{{y}_{0}}},{{{q}_{2}}}} - {\\mathbf{{expd}}}_{{solar},{l0},{{{y}_{0}}},{{{q}_{2}}},{\\mathbf{{opr}}},{pv}} = 0$"
      ],
      "text/plain": [
       "<IPython.core.display.Math object>"
      ]
     },
     "metadata": {},
     "output_type": "display_data"
    },
    {
     "data": {
      "text/latex": [
       "$\\displaystyle [32]\\text{   }{\\mathbf{{cons}}}_{{solar},{l0},{{{y}_{0}}},{{{q}_{3}}}} - {\\mathbf{{expd}}}_{{solar},{l0},{{{y}_{0}}},{{{q}_{3}}},{\\mathbf{{opr}}},{pv}} = 0$"
      ],
      "text/plain": [
       "<IPython.core.display.Math object>"
      ]
     },
     "metadata": {},
     "output_type": "display_data"
    },
    {
     "data": {
      "text/latex": [
       "$\\displaystyle [33]\\text{   }{\\mathbf{{cons}}}_{{wind},{l0},{{{y}_{0}}}} - {\\mathbf{{expd}}}_{{wind},{l0},{{{y}_{0}}},{\\mathbf{{opr}}},{wf}} = 0$"
      ],
      "text/plain": [
       "<IPython.core.display.Math object>"
      ]
     },
     "metadata": {},
     "output_type": "display_data"
    },
    {
     "data": {
      "text/latex": [
       "$\\displaystyle [34]\\text{   }-{\\mathbf{{rlse}}}_{{power},{l0},{{{y}_{0}}},{{{q}_{0}}}} + {\\mathbf{prod}}_{{power},{l0},{{{y}_{0}}},{{{q}_{0}}},{\\mathbf{{opr}}},{pv}} + {\\mathbf{prod}}_{{power},{l0},{{{y}_{0}}},{{{q}_{0}}},{\\mathbf{{opr}}},{wf}} - {\\mathbf{{expd}}}_{{power},{l0},{{{y}_{0}}},{{{q}_{0}}},{\\mathbf{{opr}}},{lii.charge}} + {\\mathbf{prod}}_{{power},{l0},{{{y}_{0}}},{{{q}_{0}}},{\\mathbf{{opr}}},{lii.discharge}} = 0$"
      ],
      "text/plain": [
       "<IPython.core.display.Math object>"
      ]
     },
     "metadata": {},
     "output_type": "display_data"
    },
    {
     "data": {
      "text/latex": [
       "$\\displaystyle [35]\\text{   }-{\\mathbf{{rlse}}}_{{power},{l0},{{{y}_{0}}},{{{q}_{1}}}} + {\\mathbf{prod}}_{{power},{l0},{{{y}_{0}}},{{{q}_{1}}},{\\mathbf{{opr}}},{pv}} + {\\mathbf{prod}}_{{power},{l0},{{{y}_{0}}},{{{q}_{1}}},{\\mathbf{{opr}}},{wf}} - {\\mathbf{{expd}}}_{{power},{l0},{{{y}_{0}}},{{{q}_{1}}},{\\mathbf{{opr}}},{lii.charge}} + {\\mathbf{prod}}_{{power},{l0},{{{y}_{0}}},{{{q}_{1}}},{\\mathbf{{opr}}},{lii.discharge}} = 0$"
      ],
      "text/plain": [
       "<IPython.core.display.Math object>"
      ]
     },
     "metadata": {},
     "output_type": "display_data"
    },
    {
     "data": {
      "text/latex": [
       "$\\displaystyle [36]\\text{   }-{\\mathbf{{rlse}}}_{{power},{l0},{{{y}_{0}}},{{{q}_{2}}}} + {\\mathbf{prod}}_{{power},{l0},{{{y}_{0}}},{{{q}_{2}}},{\\mathbf{{opr}}},{pv}} + {\\mathbf{prod}}_{{power},{l0},{{{y}_{0}}},{{{q}_{2}}},{\\mathbf{{opr}}},{wf}} - {\\mathbf{{expd}}}_{{power},{l0},{{{y}_{0}}},{{{q}_{2}}},{\\mathbf{{opr}}},{lii.charge}} + {\\mathbf{prod}}_{{power},{l0},{{{y}_{0}}},{{{q}_{2}}},{\\mathbf{{opr}}},{lii.discharge}} = 0$"
      ],
      "text/plain": [
       "<IPython.core.display.Math object>"
      ]
     },
     "metadata": {},
     "output_type": "display_data"
    },
    {
     "data": {
      "text/latex": [
       "$\\displaystyle [37]\\text{   }-{\\mathbf{{rlse}}}_{{power},{l0},{{{y}_{0}}},{{{q}_{3}}}} + {\\mathbf{prod}}_{{power},{l0},{{{y}_{0}}},{{{q}_{3}}},{\\mathbf{{opr}}},{pv}} + {\\mathbf{prod}}_{{power},{l0},{{{y}_{0}}},{{{q}_{3}}},{\\mathbf{{opr}}},{wf}} - {\\mathbf{{expd}}}_{{power},{l0},{{{y}_{0}}},{{{q}_{3}}},{\\mathbf{{opr}}},{lii.charge}} + {\\mathbf{prod}}_{{power},{l0},{{{y}_{0}}},{{{q}_{3}}},{\\mathbf{{opr}}},{lii.discharge}} = 0$"
      ],
      "text/plain": [
       "<IPython.core.display.Math object>"
      ]
     },
     "metadata": {},
     "output_type": "display_data"
    },
    {
     "data": {
      "text/latex": [
       "$\\displaystyle [60]\\text{   }-{\\mathbf{{inv}}}_{{lii.stored},{l0},{{{y}_{0}}},{{{q}_{0}}}} + {\\mathbf{prod}}_{{lii.stored},{l0},{{{y}_{0}}},{{{q}_{0}}},{\\mathbf{{opr}}},{lii.charge}} - {\\mathbf{{expd}}}_{{lii.stored},{l0},{{{y}_{0}}},{{{q}_{0}}},{\\mathbf{{opr}}},{lii.discharge}} = 0$"
      ],
      "text/plain": [
       "<IPython.core.display.Math object>"
      ]
     },
     "metadata": {},
     "output_type": "display_data"
    },
    {
     "data": {
      "text/latex": [
       "$\\displaystyle [61]\\text{   }-{\\mathbf{{inv}}}_{{lii.stored},{l0},{{{y}_{0}}},{{{q}_{1}}}} + {\\mathbf{{inv}}}_{{lii.stored},{l0},{{{y}_{0}}},{{{q}_{0}}}} + {\\mathbf{prod}}_{{lii.stored},{l0},{{{y}_{0}}},{{{q}_{1}}},{\\mathbf{{opr}}},{lii.charge}} - {\\mathbf{{expd}}}_{{lii.stored},{l0},{{{y}_{0}}},{{{q}_{1}}},{\\mathbf{{opr}}},{lii.discharge}} = 0$"
      ],
      "text/plain": [
       "<IPython.core.display.Math object>"
      ]
     },
     "metadata": {},
     "output_type": "display_data"
    },
    {
     "data": {
      "text/latex": [
       "$\\displaystyle [62]\\text{   }-{\\mathbf{{inv}}}_{{lii.stored},{l0},{{{y}_{0}}},{{{q}_{2}}}} + {\\mathbf{{inv}}}_{{lii.stored},{l0},{{{y}_{0}}},{{{q}_{1}}}} + {\\mathbf{prod}}_{{lii.stored},{l0},{{{y}_{0}}},{{{q}_{2}}},{\\mathbf{{opr}}},{lii.charge}} - {\\mathbf{{expd}}}_{{lii.stored},{l0},{{{y}_{0}}},{{{q}_{2}}},{\\mathbf{{opr}}},{lii.discharge}} = 0$"
      ],
      "text/plain": [
       "<IPython.core.display.Math object>"
      ]
     },
     "metadata": {},
     "output_type": "display_data"
    },
    {
     "data": {
      "text/latex": [
       "$\\displaystyle [63]\\text{   }-{\\mathbf{{inv}}}_{{lii.stored},{l0},{{{y}_{0}}},{{{q}_{3}}}} + {\\mathbf{{inv}}}_{{lii.stored},{l0},{{{y}_{0}}},{{{q}_{2}}}} + {\\mathbf{prod}}_{{lii.stored},{l0},{{{y}_{0}}},{{{q}_{3}}},{\\mathbf{{opr}}},{lii.charge}} - {\\mathbf{{expd}}}_{{lii.stored},{l0},{{{y}_{0}}},{{{q}_{3}}},{\\mathbf{{opr}}},{lii.discharge}} = 0$"
      ],
      "text/plain": [
       "<IPython.core.display.Math object>"
      ]
     },
     "metadata": {},
     "output_type": "display_data"
    },
    {
     "data": {
      "text/markdown": [
       "### Binds Constraints"
      ],
      "text/plain": [
       "<IPython.core.display.Markdown object>"
      ]
     },
     "metadata": {},
     "output_type": "display_data"
    },
    {
     "data": {
      "text/latex": [
       "$\\displaystyle [0]\\text{   }{\\mathbf{{cons}}}_{{solar},{l0},{{{y}_{0}}},{{{q}_{0}}}} - 100.0 \\leq 0$"
      ],
      "text/plain": [
       "<IPython.core.display.Math object>"
      ]
     },
     "metadata": {},
     "output_type": "display_data"
    },
    {
     "data": {
      "text/latex": [
       "$\\displaystyle [1]\\text{   }{\\mathbf{{cons}}}_{{solar},{l0},{{{y}_{0}}},{{{q}_{1}}}} - 100.0 \\leq 0$"
      ],
      "text/plain": [
       "<IPython.core.display.Math object>"
      ]
     },
     "metadata": {},
     "output_type": "display_data"
    },
    {
     "data": {
      "text/latex": [
       "$\\displaystyle [2]\\text{   }{\\mathbf{{cons}}}_{{solar},{l0},{{{y}_{0}}},{{{q}_{2}}}} - 100.0 \\leq 0$"
      ],
      "text/plain": [
       "<IPython.core.display.Math object>"
      ]
     },
     "metadata": {},
     "output_type": "display_data"
    },
    {
     "data": {
      "text/latex": [
       "$\\displaystyle [3]\\text{   }{\\mathbf{{cons}}}_{{solar},{l0},{{{y}_{0}}},{{{q}_{3}}}} - 100.0 \\leq 0$"
      ],
      "text/plain": [
       "<IPython.core.display.Math object>"
      ]
     },
     "metadata": {},
     "output_type": "display_data"
    },
    {
     "data": {
      "text/latex": [
       "$\\displaystyle [4]\\text{   }{\\mathbf{{cons}}}_{{wind},{l0},{{{y}_{0}}}} - 400.0 \\leq 0$"
      ],
      "text/plain": [
       "<IPython.core.display.Math object>"
      ]
     },
     "metadata": {},
     "output_type": "display_data"
    },
    {
     "data": {
      "text/latex": [
       "$\\displaystyle [5]\\text{   }-{\\mathbf{{rlse}}}_{{power},{l0},{{{y}_{0}}},{{{q}_{0}}}} + 134.99999999999997 \\leq 0$"
      ],
      "text/plain": [
       "<IPython.core.display.Math object>"
      ]
     },
     "metadata": {},
     "output_type": "display_data"
    },
    {
     "data": {
      "text/latex": [
       "$\\displaystyle [6]\\text{   }-{\\mathbf{{rlse}}}_{{power},{l0},{{{y}_{0}}},{{{q}_{1}}}} + 157.49999999999997 \\leq 0$"
      ],
      "text/plain": [
       "<IPython.core.display.Math object>"
      ]
     },
     "metadata": {},
     "output_type": "display_data"
    },
    {
     "data": {
      "text/latex": [
       "$\\displaystyle [7]\\text{   }-{\\mathbf{{rlse}}}_{{power},{l0},{{{y}_{0}}},{{{q}_{2}}}} + 180.0 \\leq 0$"
      ],
      "text/plain": [
       "<IPython.core.display.Math object>"
      ]
     },
     "metadata": {},
     "output_type": "display_data"
    },
    {
     "data": {
      "text/latex": [
       "$\\displaystyle [8]\\text{   }-{\\mathbf{{rlse}}}_{{power},{l0},{{{y}_{0}}},{{{q}_{3}}}} + 67.49999999999999 \\leq 0$"
      ],
      "text/plain": [
       "<IPython.core.display.Math object>"
      ]
     },
     "metadata": {},
     "output_type": "display_data"
    },
    {
     "data": {
      "text/latex": [
       "$\\displaystyle [9]\\text{   }{\\mathbf{{cap}}}_{{wf},{l0},{{{y}_{0}}}} - 100.0 \\cdot {\\mathbf{{\\breve{{cap}}}}}_{{wf},{l0},{{{y}_{0}}}} \\leq 0$"
      ],
      "text/plain": [
       "<IPython.core.display.Math object>"
      ]
     },
     "metadata": {},
     "output_type": "display_data"
    },
    {
     "data": {
      "text/latex": [
       "$\\displaystyle [10]\\text{   }10.0 \\cdot {\\mathbf{{\\breve{{cap}}}}}_{{wf},{l0},{{{y}_{0}}}} - {\\mathbf{{cap}}}_{{wf},{l0},{{{y}_{0}}}} \\leq 0$"
      ],
      "text/plain": [
       "<IPython.core.display.Math object>"
      ]
     },
     "metadata": {},
     "output_type": "display_data"
    },
    {
     "data": {
      "text/latex": [
       "$\\displaystyle [11]\\text{   }{\\mathbf{{opr}}}_{{wf},{l0},{{{y}_{0}}},{{{q}_{0}}}} - 1.0 \\cdot {\\mathbf{{cap}}}_{{wf},{l0},{{{y}_{0}}}} \\leq 0$"
      ],
      "text/plain": [
       "<IPython.core.display.Math object>"
      ]
     },
     "metadata": {},
     "output_type": "display_data"
    },
    {
     "data": {
      "text/latex": [
       "$\\displaystyle [12]\\text{   }{\\mathbf{{opr}}}_{{wf},{l0},{{{y}_{0}}},{{{q}_{1}}}} - 0.888888888888889 \\cdot {\\mathbf{{cap}}}_{{wf},{l0},{{{y}_{0}}}} \\leq 0$"
      ],
      "text/plain": [
       "<IPython.core.display.Math object>"
      ]
     },
     "metadata": {},
     "output_type": "display_data"
    },
    {
     "data": {
      "text/latex": [
       "$\\displaystyle [13]\\text{   }{\\mathbf{{opr}}}_{{wf},{l0},{{{y}_{0}}},{{{q}_{2}}}} - 0.5555555555555556 \\cdot {\\mathbf{{cap}}}_{{wf},{l0},{{{y}_{0}}}} \\leq 0$"
      ],
      "text/plain": [
       "<IPython.core.display.Math object>"
      ]
     },
     "metadata": {},
     "output_type": "display_data"
    },
    {
     "data": {
      "text/latex": [
       "$\\displaystyle [14]\\text{   }{\\mathbf{{opr}}}_{{wf},{l0},{{{y}_{0}}},{{{q}_{3}}}} - 0.7777777777777777 \\cdot {\\mathbf{{cap}}}_{{wf},{l0},{{{y}_{0}}}} \\leq 0$"
      ],
      "text/plain": [
       "<IPython.core.display.Math object>"
      ]
     },
     "metadata": {},
     "output_type": "display_data"
    },
    {
     "data": {
      "text/latex": [
       "$\\displaystyle [15]\\text{   }{\\mathbf{{cap}}}_{{pv},{l0},{{{y}_{0}}}} - 100.0 \\cdot {\\mathbf{{\\breve{{cap}}}}}_{{pv},{l0},{{{y}_{0}}}} \\leq 0$"
      ],
      "text/plain": [
       "<IPython.core.display.Math object>"
      ]
     },
     "metadata": {},
     "output_type": "display_data"
    },
    {
     "data": {
      "text/latex": [
       "$\\displaystyle [16]\\text{   }10.0 \\cdot {\\mathbf{{\\breve{{cap}}}}}_{{pv},{l0},{{{y}_{0}}}} - {\\mathbf{{cap}}}_{{pv},{l0},{{{y}_{0}}}} \\leq 0$"
      ],
      "text/plain": [
       "<IPython.core.display.Math object>"
      ]
     },
     "metadata": {},
     "output_type": "display_data"
    },
    {
     "data": {
      "text/latex": [
       "$\\displaystyle [17]\\text{   }{\\mathbf{{opr}}}_{{pv},{l0},{{{y}_{0}}},{{{q}_{0}}}} - 0.6666666666666666 \\cdot {\\mathbf{{cap}}}_{{pv},{l0},{{{y}_{0}}}} \\leq 0$"
      ],
      "text/plain": [
       "<IPython.core.display.Math object>"
      ]
     },
     "metadata": {},
     "output_type": "display_data"
    },
    {
     "data": {
      "text/latex": [
       "$\\displaystyle [18]\\text{   }{\\mathbf{{opr}}}_{{pv},{l0},{{{y}_{0}}},{{{q}_{1}}}} - 0.888888888888889 \\cdot {\\mathbf{{cap}}}_{{pv},{l0},{{{y}_{0}}}} \\leq 0$"
      ],
      "text/plain": [
       "<IPython.core.display.Math object>"
      ]
     },
     "metadata": {},
     "output_type": "display_data"
    },
    {
     "data": {
      "text/latex": [
       "$\\displaystyle [19]\\text{   }{\\mathbf{{opr}}}_{{pv},{l0},{{{y}_{0}}},{{{q}_{2}}}} - 1.0 \\cdot {\\mathbf{{cap}}}_{{pv},{l0},{{{y}_{0}}}} \\leq 0$"
      ],
      "text/plain": [
       "<IPython.core.display.Math object>"
      ]
     },
     "metadata": {},
     "output_type": "display_data"
    },
    {
     "data": {
      "text/latex": [
       "$\\displaystyle [20]\\text{   }{\\mathbf{{opr}}}_{{pv},{l0},{{{y}_{0}}},{{{q}_{3}}}} - 0.7777777777777777 \\cdot {\\mathbf{{cap}}}_{{pv},{l0},{{{y}_{0}}}} \\leq 0$"
      ],
      "text/plain": [
       "<IPython.core.display.Math object>"
      ]
     },
     "metadata": {},
     "output_type": "display_data"
    },
    {
     "data": {
      "text/latex": [
       "$\\displaystyle [21]\\text{   }{\\mathbf{{icap}}}_{{lii.stored},{l0},{{{y}_{0}}}} - 100.0 \\cdot {\\mathbf{{\\breve{{icap}}}}}_{{lii.stored},{l0},{{{y}_{0}}}} \\leq 0$"
      ],
      "text/plain": [
       "<IPython.core.display.Math object>"
      ]
     },
     "metadata": {},
     "output_type": "display_data"
    },
    {
     "data": {
      "text/latex": [
       "$\\displaystyle [22]\\text{   }10.0 \\cdot {\\mathbf{{\\breve{{icap}}}}}_{{lii.stored},{l0},{{{y}_{0}}}} - {\\mathbf{{icap}}}_{{lii.stored},{l0},{{{y}_{0}}}} \\leq 0$"
      ],
      "text/plain": [
       "<IPython.core.display.Math object>"
      ]
     },
     "metadata": {},
     "output_type": "display_data"
    },
    {
     "data": {
      "text/latex": [
       "$\\displaystyle [23]\\text{   }{\\mathbf{{inv}}}_{{lii.stored},{l0},{{{y}_{0}}},{{{q}_{0}}}} - {\\mathbf{{icap}}}_{{lii.stored},{l0},{{{y}_{0}}}} \\leq 0$"
      ],
      "text/plain": [
       "<IPython.core.display.Math object>"
      ]
     },
     "metadata": {},
     "output_type": "display_data"
    },
    {
     "data": {
      "text/latex": [
       "$\\displaystyle [24]\\text{   }{\\mathbf{{inv}}}_{{lii.stored},{l0},{{{y}_{0}}},{{{q}_{1}}}} - {\\mathbf{{icap}}}_{{lii.stored},{l0},{{{y}_{0}}}} \\leq 0$"
      ],
      "text/plain": [
       "<IPython.core.display.Math object>"
      ]
     },
     "metadata": {},
     "output_type": "display_data"
    },
    {
     "data": {
      "text/latex": [
       "$\\displaystyle [25]\\text{   }{\\mathbf{{inv}}}_{{lii.stored},{l0},{{{y}_{0}}},{{{q}_{2}}}} - {\\mathbf{{icap}}}_{{lii.stored},{l0},{{{y}_{0}}}} \\leq 0$"
      ],
      "text/plain": [
       "<IPython.core.display.Math object>"
      ]
     },
     "metadata": {},
     "output_type": "display_data"
    },
    {
     "data": {
      "text/latex": [
       "$\\displaystyle [26]\\text{   }{\\mathbf{{inv}}}_{{lii.stored},{l0},{{{y}_{0}}},{{{q}_{3}}}} - {\\mathbf{{icap}}}_{{lii.stored},{l0},{{{y}_{0}}}} \\leq 0$"
      ],
      "text/plain": [
       "<IPython.core.display.Math object>"
      ]
     },
     "metadata": {},
     "output_type": "display_data"
    },
    {
     "data": {
      "text/latex": [
       "$\\displaystyle [27]\\text{   }{\\mathbf{{opr}}}_{{lii.charge},{l0},{{{y}_{0}}}} - {\\mathbf{{cap}}}_{{lii.charge},{l0},{{{y}_{0}}}} \\leq 0$"
      ],
      "text/plain": [
       "<IPython.core.display.Math object>"
      ]
     },
     "metadata": {},
     "output_type": "display_data"
    },
    {
     "data": {
      "text/latex": [
       "$\\displaystyle [28]\\text{   }{\\mathbf{{opr}}}_{{lii.discharge},{l0},{{{y}_{0}}}} - {\\mathbf{{cap}}}_{{lii.discharge},{l0},{{{y}_{0}}}} \\leq 0$"
      ],
      "text/plain": [
       "<IPython.core.display.Math object>"
      ]
     },
     "metadata": {},
     "output_type": "display_data"
    },
    {
     "data": {
      "text/markdown": [
       "### Calculations Constraints"
      ],
      "text/plain": [
       "<IPython.core.display.Markdown object>"
      ]
     },
     "metadata": {},
     "output_type": "display_data"
    },
    {
     "data": {
      "text/latex": [
       "$\\displaystyle [38]\\text{   }{\\mathbf{spend}}_{{usd},{l0},{{{y}_{0}}},{\\mathbf{{cap}}},{wf}} - 993991.0 \\cdot {\\mathbf{{cap}}}_{{wf},{l0},{{{y}_{0}}}} = 0$"
      ],
      "text/plain": [
       "<IPython.core.display.Math object>"
      ]
     },
     "metadata": {},
     "output_type": "display_data"
    },
    {
     "data": {
      "text/latex": [
       "$\\displaystyle [40]\\text{   }{\\mathbf{spend}}_{{usd},{l0},{{{y}_{0}}},{\\mathbf{{opr}}},{wf}} - 49.0 \\cdot {\\mathbf{{opr}}}_{{wf},{l0},{{{y}_{0}}}} = 0$"
      ],
      "text/plain": [
       "<IPython.core.display.Math object>"
      ]
     },
     "metadata": {},
     "output_type": "display_data"
    },
    {
     "data": {
      "text/latex": [
       "$\\displaystyle [41]\\text{   }{\\mathbf{spend}}_{{usd},{l0},{{{y}_{0}}},{\\mathbf{{cap}}},{pv}} - 1439046.0 \\cdot {\\mathbf{{cap}}}_{{pv},{l0},{{{y}_{0}}}} = 0$"
      ],
      "text/plain": [
       "<IPython.core.display.Math object>"
      ]
     },
     "metadata": {},
     "output_type": "display_data"
    },
    {
     "data": {
      "text/latex": [
       "$\\displaystyle [43]\\text{   }{\\mathbf{spend}}_{{usd},{l0},{{{y}_{0}}},{\\mathbf{{opr}}},{pv}} - 90000.0 \\cdot {\\mathbf{{opr}}}_{{pv},{l0},{{{y}_{0}}}} = 0$"
      ],
      "text/plain": [
       "<IPython.core.display.Math object>"
      ]
     },
     "metadata": {},
     "output_type": "display_data"
    },
    {
     "data": {
      "text/latex": [
       "$\\displaystyle [44]\\text{   }{\\mathbf{spend}}_{{usd},{l0},{{{y}_{0}}},{\\mathbf{{icap}}},{lii.stored}} - 1343614.0 \\cdot {\\mathbf{{icap}}}_{{lii.stored},{l0},{{{y}_{0}}}} = 0$"
      ],
      "text/plain": [
       "<IPython.core.display.Math object>"
      ]
     },
     "metadata": {},
     "output_type": "display_data"
    },
    {
     "data": {
      "text/latex": [
       "$\\displaystyle [45]\\text{   }{\\mathbf{spend}}_{{usd},{l0},{{{y}_{0}}},{\\mathbf{{inv}}},{lii.stored}} - 2000.0 \\cdot {\\mathbf{{inv}}}_{{lii.stored},{l0},{{{y}_{0}}}} = 0$"
      ],
      "text/plain": [
       "<IPython.core.display.Math object>"
      ]
     },
     "metadata": {},
     "output_type": "display_data"
    },
    {
     "data": {
      "text/latex": [
       "$\\displaystyle [46]\\text{   }{\\mathbf{prod}}_{{power},{l0},{{{y}_{0}}},{{{q}_{0}}},{\\mathbf{{opr}}},{pv}} - 1.0 \\cdot {\\mathbf{{opr}}}_{{pv},{l0},{{{y}_{0}}},{{{q}_{0}}}} = 0$"
      ],
      "text/plain": [
       "<IPython.core.display.Math object>"
      ]
     },
     "metadata": {},
     "output_type": "display_data"
    },
    {
     "data": {
      "text/latex": [
       "$\\displaystyle [47]\\text{   }{\\mathbf{prod}}_{{power},{l0},{{{y}_{0}}},{{{q}_{1}}},{\\mathbf{{opr}}},{pv}} - 1.0 \\cdot {\\mathbf{{opr}}}_{{pv},{l0},{{{y}_{0}}},{{{q}_{1}}}} = 0$"
      ],
      "text/plain": [
       "<IPython.core.display.Math object>"
      ]
     },
     "metadata": {},
     "output_type": "display_data"
    },
    {
     "data": {
      "text/latex": [
       "$\\displaystyle [48]\\text{   }{\\mathbf{prod}}_{{power},{l0},{{{y}_{0}}},{{{q}_{2}}},{\\mathbf{{opr}}},{pv}} - 1.0 \\cdot {\\mathbf{{opr}}}_{{pv},{l0},{{{y}_{0}}},{{{q}_{2}}}} = 0$"
      ],
      "text/plain": [
       "<IPython.core.display.Math object>"
      ]
     },
     "metadata": {},
     "output_type": "display_data"
    },
    {
     "data": {
      "text/latex": [
       "$\\displaystyle [49]\\text{   }{\\mathbf{prod}}_{{power},{l0},{{{y}_{0}}},{{{q}_{3}}},{\\mathbf{{opr}}},{pv}} - 1.0 \\cdot {\\mathbf{{opr}}}_{{pv},{l0},{{{y}_{0}}},{{{q}_{3}}}} = 0$"
      ],
      "text/plain": [
       "<IPython.core.display.Math object>"
      ]
     },
     "metadata": {},
     "output_type": "display_data"
    },
    {
     "data": {
      "text/latex": [
       "$\\displaystyle [50]\\text{   }{\\mathbf{{expd}}}_{{solar},{l0},{{{y}_{0}}},{{{q}_{0}}},{\\mathbf{{opr}}},{pv}} - 1.0 \\cdot {\\mathbf{{opr}}}_{{pv},{l0},{{{y}_{0}}},{{{q}_{0}}}} = 0$"
      ],
      "text/plain": [
       "<IPython.core.display.Math object>"
      ]
     },
     "metadata": {},
     "output_type": "display_data"
    },
    {
     "data": {
      "text/latex": [
       "$\\displaystyle [51]\\text{   }{\\mathbf{{expd}}}_{{solar},{l0},{{{y}_{0}}},{{{q}_{1}}},{\\mathbf{{opr}}},{pv}} - 1.0 \\cdot {\\mathbf{{opr}}}_{{pv},{l0},{{{y}_{0}}},{{{q}_{1}}}} = 0$"
      ],
      "text/plain": [
       "<IPython.core.display.Math object>"
      ]
     },
     "metadata": {},
     "output_type": "display_data"
    },
    {
     "data": {
      "text/latex": [
       "$\\displaystyle [52]\\text{   }{\\mathbf{{expd}}}_{{solar},{l0},{{{y}_{0}}},{{{q}_{2}}},{\\mathbf{{opr}}},{pv}} - 1.0 \\cdot {\\mathbf{{opr}}}_{{pv},{l0},{{{y}_{0}}},{{{q}_{2}}}} = 0$"
      ],
      "text/plain": [
       "<IPython.core.display.Math object>"
      ]
     },
     "metadata": {},
     "output_type": "display_data"
    },
    {
     "data": {
      "text/latex": [
       "$\\displaystyle [53]\\text{   }{\\mathbf{{expd}}}_{{solar},{l0},{{{y}_{0}}},{{{q}_{3}}},{\\mathbf{{opr}}},{pv}} - 1.0 \\cdot {\\mathbf{{opr}}}_{{pv},{l0},{{{y}_{0}}},{{{q}_{3}}}} = 0$"
      ],
      "text/plain": [
       "<IPython.core.display.Math object>"
      ]
     },
     "metadata": {},
     "output_type": "display_data"
    },
    {
     "data": {
      "text/latex": [
       "$\\displaystyle [54]\\text{   }{\\mathbf{prod}}_{{power},{l0},{{{y}_{0}}},{{{q}_{0}}},{\\mathbf{{opr}}},{wf}} - 1.0 \\cdot {\\mathbf{{opr}}}_{{wf},{l0},{{{y}_{0}}},{{{q}_{0}}}} = 0$"
      ],
      "text/plain": [
       "<IPython.core.display.Math object>"
      ]
     },
     "metadata": {},
     "output_type": "display_data"
    },
    {
     "data": {
      "text/latex": [
       "$\\displaystyle [55]\\text{   }{\\mathbf{prod}}_{{power},{l0},{{{y}_{0}}},{{{q}_{1}}},{\\mathbf{{opr}}},{wf}} - 1.0 \\cdot {\\mathbf{{opr}}}_{{wf},{l0},{{{y}_{0}}},{{{q}_{1}}}} = 0$"
      ],
      "text/plain": [
       "<IPython.core.display.Math object>"
      ]
     },
     "metadata": {},
     "output_type": "display_data"
    },
    {
     "data": {
      "text/latex": [
       "$\\displaystyle [56]\\text{   }{\\mathbf{prod}}_{{power},{l0},{{{y}_{0}}},{{{q}_{2}}},{\\mathbf{{opr}}},{wf}} - 1.0 \\cdot {\\mathbf{{opr}}}_{{wf},{l0},{{{y}_{0}}},{{{q}_{2}}}} = 0$"
      ],
      "text/plain": [
       "<IPython.core.display.Math object>"
      ]
     },
     "metadata": {},
     "output_type": "display_data"
    },
    {
     "data": {
      "text/latex": [
       "$\\displaystyle [57]\\text{   }{\\mathbf{prod}}_{{power},{l0},{{{y}_{0}}},{{{q}_{3}}},{\\mathbf{{opr}}},{wf}} - 1.0 \\cdot {\\mathbf{{opr}}}_{{wf},{l0},{{{y}_{0}}},{{{q}_{3}}}} = 0$"
      ],
      "text/plain": [
       "<IPython.core.display.Math object>"
      ]
     },
     "metadata": {},
     "output_type": "display_data"
    },
    {
     "data": {
      "text/latex": [
       "$\\displaystyle [58]\\text{   }{\\mathbf{{expd}}}_{{wind},{l0},{{{y}_{0}}},{\\mathbf{{opr}}},{wf}} - 1.0 \\cdot {\\mathbf{{opr}}}_{{wf},{l0},{{{y}_{0}}}} = 0$"
      ],
      "text/plain": [
       "<IPython.core.display.Math object>"
      ]
     },
     "metadata": {},
     "output_type": "display_data"
    },
    {
     "data": {
      "text/latex": [
       "$\\displaystyle [65]\\text{   }{\\mathbf{prod}}_{{lii.stored},{l0},{{{y}_{0}}},{{{q}_{0}}},{\\mathbf{{opr}}},{lii.charge}} - 1.0 \\cdot {\\mathbf{{opr}}}_{{lii.charge},{l0},{{{y}_{0}}},{{{q}_{0}}}} = 0$"
      ],
      "text/plain": [
       "<IPython.core.display.Math object>"
      ]
     },
     "metadata": {},
     "output_type": "display_data"
    },
    {
     "data": {
      "text/latex": [
       "$\\displaystyle [66]\\text{   }{\\mathbf{prod}}_{{lii.stored},{l0},{{{y}_{0}}},{{{q}_{1}}},{\\mathbf{{opr}}},{lii.charge}} - 1.0 \\cdot {\\mathbf{{opr}}}_{{lii.charge},{l0},{{{y}_{0}}},{{{q}_{1}}}} = 0$"
      ],
      "text/plain": [
       "<IPython.core.display.Math object>"
      ]
     },
     "metadata": {},
     "output_type": "display_data"
    },
    {
     "data": {
      "text/latex": [
       "$\\displaystyle [67]\\text{   }{\\mathbf{prod}}_{{lii.stored},{l0},{{{y}_{0}}},{{{q}_{2}}},{\\mathbf{{opr}}},{lii.charge}} - 1.0 \\cdot {\\mathbf{{opr}}}_{{lii.charge},{l0},{{{y}_{0}}},{{{q}_{2}}}} = 0$"
      ],
      "text/plain": [
       "<IPython.core.display.Math object>"
      ]
     },
     "metadata": {},
     "output_type": "display_data"
    },
    {
     "data": {
      "text/latex": [
       "$\\displaystyle [68]\\text{   }{\\mathbf{prod}}_{{lii.stored},{l0},{{{y}_{0}}},{{{q}_{3}}},{\\mathbf{{opr}}},{lii.charge}} - 1.0 \\cdot {\\mathbf{{opr}}}_{{lii.charge},{l0},{{{y}_{0}}},{{{q}_{3}}}} = 0$"
      ],
      "text/plain": [
       "<IPython.core.display.Math object>"
      ]
     },
     "metadata": {},
     "output_type": "display_data"
    },
    {
     "data": {
      "text/latex": [
       "$\\displaystyle [69]\\text{   }{\\mathbf{{expd}}}_{{power},{l0},{{{y}_{0}}},{{{q}_{0}}},{\\mathbf{{opr}}},{lii.charge}} - 1.0 \\cdot {\\mathbf{{opr}}}_{{lii.charge},{l0},{{{y}_{0}}},{{{q}_{0}}}} = 0$"
      ],
      "text/plain": [
       "<IPython.core.display.Math object>"
      ]
     },
     "metadata": {},
     "output_type": "display_data"
    },
    {
     "data": {
      "text/latex": [
       "$\\displaystyle [70]\\text{   }{\\mathbf{{expd}}}_{{power},{l0},{{{y}_{0}}},{{{q}_{1}}},{\\mathbf{{opr}}},{lii.charge}} - 1.0 \\cdot {\\mathbf{{opr}}}_{{lii.charge},{l0},{{{y}_{0}}},{{{q}_{1}}}} = 0$"
      ],
      "text/plain": [
       "<IPython.core.display.Math object>"
      ]
     },
     "metadata": {},
     "output_type": "display_data"
    },
    {
     "data": {
      "text/latex": [
       "$\\displaystyle [71]\\text{   }{\\mathbf{{expd}}}_{{power},{l0},{{{y}_{0}}},{{{q}_{2}}},{\\mathbf{{opr}}},{lii.charge}} - 1.0 \\cdot {\\mathbf{{opr}}}_{{lii.charge},{l0},{{{y}_{0}}},{{{q}_{2}}}} = 0$"
      ],
      "text/plain": [
       "<IPython.core.display.Math object>"
      ]
     },
     "metadata": {},
     "output_type": "display_data"
    },
    {
     "data": {
      "text/latex": [
       "$\\displaystyle [72]\\text{   }{\\mathbf{{expd}}}_{{power},{l0},{{{y}_{0}}},{{{q}_{3}}},{\\mathbf{{opr}}},{lii.charge}} - 1.0 \\cdot {\\mathbf{{opr}}}_{{lii.charge},{l0},{{{y}_{0}}},{{{q}_{3}}}} = 0$"
      ],
      "text/plain": [
       "<IPython.core.display.Math object>"
      ]
     },
     "metadata": {},
     "output_type": "display_data"
    },
    {
     "data": {
      "text/latex": [
       "$\\displaystyle [74]\\text{   }{\\mathbf{prod}}_{{power},{l0},{{{y}_{0}}},{{{q}_{0}}},{\\mathbf{{opr}}},{lii.discharge}} - 1.0 \\cdot {\\mathbf{{opr}}}_{{lii.discharge},{l0},{{{y}_{0}}},{{{q}_{0}}}} = 0$"
      ],
      "text/plain": [
       "<IPython.core.display.Math object>"
      ]
     },
     "metadata": {},
     "output_type": "display_data"
    },
    {
     "data": {
      "text/latex": [
       "$\\displaystyle [75]\\text{   }{\\mathbf{prod}}_{{power},{l0},{{{y}_{0}}},{{{q}_{1}}},{\\mathbf{{opr}}},{lii.discharge}} - 1.0 \\cdot {\\mathbf{{opr}}}_{{lii.discharge},{l0},{{{y}_{0}}},{{{q}_{1}}}} = 0$"
      ],
      "text/plain": [
       "<IPython.core.display.Math object>"
      ]
     },
     "metadata": {},
     "output_type": "display_data"
    },
    {
     "data": {
      "text/latex": [
       "$\\displaystyle [76]\\text{   }{\\mathbf{prod}}_{{power},{l0},{{{y}_{0}}},{{{q}_{2}}},{\\mathbf{{opr}}},{lii.discharge}} - 1.0 \\cdot {\\mathbf{{opr}}}_{{lii.discharge},{l0},{{{y}_{0}}},{{{q}_{2}}}} = 0$"
      ],
      "text/plain": [
       "<IPython.core.display.Math object>"
      ]
     },
     "metadata": {},
     "output_type": "display_data"
    },
    {
     "data": {
      "text/latex": [
       "$\\displaystyle [77]\\text{   }{\\mathbf{prod}}_{{power},{l0},{{{y}_{0}}},{{{q}_{3}}},{\\mathbf{{opr}}},{lii.discharge}} - 1.0 \\cdot {\\mathbf{{opr}}}_{{lii.discharge},{l0},{{{y}_{0}}},{{{q}_{3}}}} = 0$"
      ],
      "text/plain": [
       "<IPython.core.display.Math object>"
      ]
     },
     "metadata": {},
     "output_type": "display_data"
    },
    {
     "data": {
      "text/latex": [
       "$\\displaystyle [78]\\text{   }{\\mathbf{{expd}}}_{{lii.stored},{l0},{{{y}_{0}}},{{{q}_{0}}},{\\mathbf{{opr}}},{lii.discharge}} - 1.1111111111111112 \\cdot {\\mathbf{{opr}}}_{{lii.discharge},{l0},{{{y}_{0}}},{{{q}_{0}}}} = 0$"
      ],
      "text/plain": [
       "<IPython.core.display.Math object>"
      ]
     },
     "metadata": {},
     "output_type": "display_data"
    },
    {
     "data": {
      "text/latex": [
       "$\\displaystyle [79]\\text{   }{\\mathbf{{expd}}}_{{lii.stored},{l0},{{{y}_{0}}},{{{q}_{1}}},{\\mathbf{{opr}}},{lii.discharge}} - 1.1111111111111112 \\cdot {\\mathbf{{opr}}}_{{lii.discharge},{l0},{{{y}_{0}}},{{{q}_{1}}}} = 0$"
      ],
      "text/plain": [
       "<IPython.core.display.Math object>"
      ]
     },
     "metadata": {},
     "output_type": "display_data"
    },
    {
     "data": {
      "text/latex": [
       "$\\displaystyle [80]\\text{   }{\\mathbf{{expd}}}_{{lii.stored},{l0},{{{y}_{0}}},{{{q}_{2}}},{\\mathbf{{opr}}},{lii.discharge}} - 1.1111111111111112 \\cdot {\\mathbf{{opr}}}_{{lii.discharge},{l0},{{{y}_{0}}},{{{q}_{2}}}} = 0$"
      ],
      "text/plain": [
       "<IPython.core.display.Math object>"
      ]
     },
     "metadata": {},
     "output_type": "display_data"
    },
    {
     "data": {
      "text/latex": [
       "$\\displaystyle [81]\\text{   }{\\mathbf{{expd}}}_{{lii.stored},{l0},{{{y}_{0}}},{{{q}_{3}}},{\\mathbf{{opr}}},{lii.discharge}} - 1.1111111111111112 \\cdot {\\mathbf{{opr}}}_{{lii.discharge},{l0},{{{y}_{0}}},{{{q}_{3}}}} = 0$"
      ],
      "text/plain": [
       "<IPython.core.display.Math object>"
      ]
     },
     "metadata": {},
     "output_type": "display_data"
    },
    {
     "data": {
      "text/markdown": [
       "### Mapping Constraints"
      ],
      "text/plain": [
       "<IPython.core.display.Markdown object>"
      ]
     },
     "metadata": {},
     "output_type": "display_data"
    },
    {
     "data": {
      "text/latex": [
       "$\\displaystyle [39]\\text{   }{\\mathbf{{opr}}}_{{wf},{l0},{{{y}_{0}}}} - \\sum_{i \\in q} {\\mathbf{{opr}}}_{{wf}, {l0}, {{{y}_{0}}}, i} = 0$"
      ],
      "text/plain": [
       "<IPython.core.display.Math object>"
      ]
     },
     "metadata": {},
     "output_type": "display_data"
    },
    {
     "data": {
      "text/latex": [
       "$\\displaystyle [42]\\text{   }{\\mathbf{{opr}}}_{{pv},{l0},{{{y}_{0}}}} - \\sum_{i \\in q} {\\mathbf{{opr}}}_{{pv}, {l0}, {{{y}_{0}}}, i} = 0$"
      ],
      "text/plain": [
       "<IPython.core.display.Math object>"
      ]
     },
     "metadata": {},
     "output_type": "display_data"
    },
    {
     "data": {
      "text/latex": [
       "$\\displaystyle [59]\\text{   }{\\mathbf{{inv}}}_{{lii.stored},{l0},{{{y}_{0}}}} - \\sum_{i \\in q} {\\mathbf{{inv}}}_{{lii.stored}, {l0}, {{{y}_{0}}}, i} = 0$"
      ],
      "text/plain": [
       "<IPython.core.display.Math object>"
      ]
     },
     "metadata": {},
     "output_type": "display_data"
    },
    {
     "data": {
      "text/latex": [
       "$\\displaystyle [64]\\text{   }{\\mathbf{{opr}}}_{{lii.charge},{l0},{{{y}_{0}}}} - \\sum_{i \\in q} {\\mathbf{{opr}}}_{{lii.charge}, {l0}, {{{y}_{0}}}, i} = 0$"
      ],
      "text/plain": [
       "<IPython.core.display.Math object>"
      ]
     },
     "metadata": {},
     "output_type": "display_data"
    },
    {
     "data": {
      "text/latex": [
       "$\\displaystyle [73]\\text{   }{\\mathbf{{opr}}}_{{lii.discharge},{l0},{{{y}_{0}}}} - \\sum_{i \\in q} {\\mathbf{{opr}}}_{{lii.discharge}, {l0}, {{{y}_{0}}}, i} = 0$"
      ],
      "text/plain": [
       "<IPython.core.display.Math object>"
      ]
     },
     "metadata": {},
     "output_type": "display_data"
    },
    {
     "data": {
      "text/latex": [
       "$\\displaystyle [82]\\text{   }{\\mathbf{spend}}_{{usd},{l0},{{{y}_{0}}}} - {\\mathbf{spend}}_{{usd},{l0},{{{y}_{0}}},{\\mathbf{{cap}}},{wf}} - {\\mathbf{spend}}_{{usd},{l0},{{{y}_{0}}},{\\mathbf{{opr}}},{wf}} - {\\mathbf{spend}}_{{usd},{l0},{{{y}_{0}}},{\\mathbf{{cap}}},{pv}} - {\\mathbf{spend}}_{{usd},{l0},{{{y}_{0}}},{\\mathbf{{opr}}},{pv}} - {\\mathbf{spend}}_{{usd},{l0},{{{y}_{0}}},{\\mathbf{{icap}}},{lii.stored}} - {\\mathbf{spend}}_{{usd},{l0},{{{y}_{0}}},{\\mathbf{{inv}}},{lii.stored}} = 0$"
      ],
      "text/plain": [
       "<IPython.core.display.Math object>"
      ]
     },
     "metadata": {},
     "output_type": "display_data"
    }
   ],
   "source": [
    "m.show(True)"
   ]
  },
  {
   "cell_type": "markdown",
   "id": "8ad83832",
   "metadata": {},
   "source": [
    "## Solution"
   ]
  },
  {
   "cell_type": "markdown",
   "id": "ac8bf947",
   "metadata": {},
   "source": [
    "### Inventory Profiles\n",
    "\n",
    "The inventory maintained in each time period is:"
   ]
  },
  {
   "cell_type": "code",
   "execution_count": 36,
   "id": "79d26d5d",
   "metadata": {},
   "outputs": [
    {
     "data": {
      "text/plain": [
       "{power: 1.0, lii.stored: -1.1111111111111112}"
      ]
     },
     "execution_count": 36,
     "metadata": {},
     "output_type": "execute_result"
    }
   ],
   "source": [
    "m.lii.discharge.production.balance"
   ]
  },
  {
   "cell_type": "code",
   "execution_count": 37,
   "id": "914e6c8b",
   "metadata": {},
   "outputs": [],
   "source": [
    "m.proces = Process()"
   ]
  },
  {
   "cell_type": "code",
   "execution_count": 38,
   "id": "8b665aac",
   "metadata": {},
   "outputs": [
    {
     "data": {
      "text/plain": [
       "η(proces, power)"
      ]
     },
     "execution_count": 38,
     "metadata": {},
     "output_type": "execute_result"
    }
   ],
   "source": [
    "m.proces(m.power) == 20"
   ]
  },
  {
   "cell_type": "code",
   "execution_count": 39,
   "id": "d8519ec1",
   "metadata": {},
   "outputs": [],
   "source": [
    "m.proces.production.hold"
   ]
  },
  {
   "cell_type": "code",
   "execution_count": 40,
   "id": "f67de1d4",
   "metadata": {},
   "outputs": [
    {
     "data": {
      "text/latex": [
       "$\\displaystyle {\\mathbf{{inv}}}_{{lii.stored},{l0},{{{y}_{0}}}}=34.04320987654302$"
      ],
      "text/plain": [
       "<IPython.core.display.Math object>"
      ]
     },
     "metadata": {},
     "output_type": "display_data"
    },
    {
     "data": {
      "text/latex": [
       "$\\displaystyle {\\mathbf{{inv}}}_{{lii.stored},{l0},{{{y}_{0}}},{{{q}_{0}}}}=6.882716049382594$"
      ],
      "text/plain": [
       "<IPython.core.display.Math object>"
      ]
     },
     "metadata": {},
     "output_type": "display_data"
    },
    {
     "data": {
      "text/latex": [
       "$\\displaystyle {\\mathbf{{inv}}}_{{lii.stored},{l0},{{{y}_{0}}},{{{q}_{1}}}}=27.160493827160423$"
      ],
      "text/plain": [
       "<IPython.core.display.Math object>"
      ]
     },
     "metadata": {},
     "output_type": "display_data"
    },
    {
     "data": {
      "text/latex": [
       "$\\displaystyle {\\mathbf{{inv}}}_{{lii.stored},{l0},{{{y}_{0}}},{{{q}_{2}}}}=0.0$"
      ],
      "text/plain": [
       "<IPython.core.display.Math object>"
      ]
     },
     "metadata": {},
     "output_type": "display_data"
    },
    {
     "data": {
      "text/latex": [
       "$\\displaystyle {\\mathbf{{inv}}}_{{lii.stored},{l0},{{{y}_{0}}},{{{q}_{3}}}}=0.0$"
      ],
      "text/plain": [
       "<IPython.core.display.Math object>"
      ]
     },
     "metadata": {},
     "output_type": "display_data"
    }
   ],
   "source": [
    "m.inventory.output()"
   ]
  },
  {
   "cell_type": "markdown",
   "id": "2c042bdb",
   "metadata": {},
   "source": [
    "The amount charged into inventory is:"
   ]
  },
  {
   "cell_type": "code",
   "execution_count": 41,
   "id": "fe91fb8f",
   "metadata": {},
   "outputs": [
    {
     "data": {
      "text/latex": [
       "$\\displaystyle {\\mathbf{prod}}_{{lii.stored},{l0},{{{y}_{0}}},{{{q}_{0}}},{\\mathbf{{opr}}},{lii.charge}}=6.882716049382594$"
      ],
      "text/plain": [
       "<IPython.core.display.Math object>"
      ]
     },
     "metadata": {},
     "output_type": "display_data"
    },
    {
     "data": {
      "text/latex": [
       "$\\displaystyle {\\mathbf{prod}}_{{lii.stored},{l0},{{{y}_{0}}},{{{q}_{1}}},{\\mathbf{{opr}}},{lii.charge}}=20.27777777777778$"
      ],
      "text/plain": [
       "<IPython.core.display.Math object>"
      ]
     },
     "metadata": {},
     "output_type": "display_data"
    },
    {
     "data": {
      "text/latex": [
       "$\\displaystyle {\\mathbf{prod}}_{{lii.stored},{l0},{{{y}_{0}}},{{{q}_{2}}},{\\mathbf{{opr}}},{lii.charge}}=0.0$"
      ],
      "text/plain": [
       "<IPython.core.display.Math object>"
      ]
     },
     "metadata": {},
     "output_type": "display_data"
    },
    {
     "data": {
      "text/latex": [
       "$\\displaystyle {\\mathbf{prod}}_{{lii.stored},{l0},{{{y}_{0}}},{{{q}_{3}}},{\\mathbf{{opr}}},{lii.charge}}=0.0$"
      ],
      "text/plain": [
       "<IPython.core.display.Math object>"
      ]
     },
     "metadata": {},
     "output_type": "display_data"
    }
   ],
   "source": [
    "m.produce(m.lii.stored, m.lii.charge.operate, m.q).output()"
   ]
  },
  {
   "cell_type": "code",
   "execution_count": 42,
   "id": "7b0c1350",
   "metadata": {},
   "outputs": [
    {
     "data": {
      "text/plain": [
       "η(lii.discharge, power)"
      ]
     },
     "execution_count": 42,
     "metadata": {},
     "output_type": "execute_result"
    }
   ],
   "source": [
    "m.power.lii"
   ]
  },
  {
   "cell_type": "markdown",
   "id": "946d48b7",
   "metadata": {},
   "source": [
    "The amount discharged from inventory is:"
   ]
  },
  {
   "cell_type": "code",
   "execution_count": 43,
   "id": "00d675ad",
   "metadata": {},
   "outputs": [
    {
     "data": {
      "text/latex": [
       "$\\displaystyle {\\mathbf{prod}}_{{power},{l0},{{{y}_{0}}},{{{q}_{0}}},{\\mathbf{{opr}}},{lii.discharge}}=0.0$"
      ],
      "text/plain": [
       "<IPython.core.display.Math object>"
      ]
     },
     "metadata": {},
     "output_type": "display_data"
    },
    {
     "data": {
      "text/latex": [
       "$\\displaystyle {\\mathbf{prod}}_{{power},{l0},{{{y}_{0}}},{{{q}_{1}}},{\\mathbf{{opr}}},{lii.discharge}}=0.0$"
      ],
      "text/plain": [
       "<IPython.core.display.Math object>"
      ]
     },
     "metadata": {},
     "output_type": "display_data"
    },
    {
     "data": {
      "text/latex": [
       "$\\displaystyle {\\mathbf{prod}}_{{power},{l0},{{{y}_{0}}},{{{q}_{2}}},{\\mathbf{{opr}}},{lii.discharge}}=24.444444444444443$"
      ],
      "text/plain": [
       "<IPython.core.display.Math object>"
      ]
     },
     "metadata": {},
     "output_type": "display_data"
    },
    {
     "data": {
      "text/latex": [
       "$\\displaystyle {\\mathbf{prod}}_{{power},{l0},{{{y}_{0}}},{{{q}_{3}}},{\\mathbf{{opr}}},{lii.discharge}}=0.0$"
      ],
      "text/plain": [
       "<IPython.core.display.Math object>"
      ]
     },
     "metadata": {},
     "output_type": "display_data"
    }
   ],
   "source": [
    "m.produce(m.power, m.lii.discharge.operate, m.q).output()"
   ]
  },
  {
   "cell_type": "markdown",
   "id": "f152fbfc",
   "metadata": {},
   "source": [
    "### Integer Decisions \n",
    "\n",
    "All the operations are setup in this case"
   ]
  },
  {
   "cell_type": "code",
   "execution_count": 44,
   "id": "7ba53e91",
   "metadata": {},
   "outputs": [
    {
     "data": {
      "text/latex": [
       "$\\displaystyle {\\mathbf{{\\breve{{cap}}}}}_{{wf},{l0},{{{y}_{0}}}}=1.0$"
      ],
      "text/plain": [
       "<IPython.core.display.Math object>"
      ]
     },
     "metadata": {},
     "output_type": "display_data"
    },
    {
     "data": {
      "text/latex": [
       "$\\displaystyle {\\mathbf{{\\breve{{cap}}}}}_{{pv},{l0},{{{y}_{0}}}}=1.0$"
      ],
      "text/plain": [
       "<IPython.core.display.Math object>"
      ]
     },
     "metadata": {},
     "output_type": "display_data"
    }
   ],
   "source": [
    "m.capacity.reporting.output()"
   ]
  },
  {
   "cell_type": "code",
   "execution_count": 45,
   "id": "dafa2788",
   "metadata": {},
   "outputs": [
    {
     "data": {
      "text/latex": [
       "$\\displaystyle {\\mathbf{{cap}}}_{{wf},{l0},{{{y}_{0}}}}=100.0$"
      ],
      "text/plain": [
       "<IPython.core.display.Math object>"
      ]
     },
     "metadata": {},
     "output_type": "display_data"
    },
    {
     "data": {
      "text/latex": [
       "$\\displaystyle {\\mathbf{{cap}}}_{{pv},{l0},{{{y}_{0}}}}=100.0$"
      ],
      "text/plain": [
       "<IPython.core.display.Math object>"
      ]
     },
     "metadata": {},
     "output_type": "display_data"
    },
    {
     "data": {
      "text/latex": [
       "$\\displaystyle {\\mathbf{{cap}}}_{{lii.charge},{l0},{{{y}_{0}}}}=27.160493827160423$"
      ],
      "text/plain": [
       "<IPython.core.display.Math object>"
      ]
     },
     "metadata": {},
     "output_type": "display_data"
    },
    {
     "data": {
      "text/latex": [
       "$\\displaystyle {\\mathbf{{cap}}}_{{lii.discharge},{l0},{{{y}_{0}}}}=24.444444444444443$"
      ],
      "text/plain": [
       "<IPython.core.display.Math object>"
      ]
     },
     "metadata": {},
     "output_type": "display_data"
    }
   ],
   "source": [
    "m.capacity.output()"
   ]
  }
 ],
 "metadata": {
  "kernelspec": {
   "display_name": ".venv",
   "language": "python",
   "name": "python3"
  },
  "language_info": {
   "codemirror_mode": {
    "name": "ipython",
    "version": 3
   },
   "file_extension": ".py",
   "mimetype": "text/x-python",
   "name": "python",
   "nbconvert_exporter": "python",
   "pygments_lexer": "ipython3",
   "version": "3.13.9"
  }
 },
 "nbformat": 4,
 "nbformat_minor": 5
}
